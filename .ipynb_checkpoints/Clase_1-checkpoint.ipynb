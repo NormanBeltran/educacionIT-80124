{
 "cells": [
  {
   "cell_type": "markdown",
   "id": "5d3ab6e3-e103-4bea-b25e-12d96e5a04b9",
   "metadata": {},
   "source": [
    "# Clase 1 - Introducción Análisis de Datos con Python\n",
    "\n",
    "## Curso de los miércoles - Prof Norman Beltran\n",
    "\n",
    "- Introducción de Python\n",
    "- Etapas de Análsis de Datos\n",
    "- Anaconda / Jupyter Notebook\n",
    "\n",
    "### Etapas del Análisis de Datos\n",
    "\n",
    "1. Recolección de Datos\n",
    "2. Limpieza / Normalización de Datos\n",
    "3. Análisis de Datos\n",
    "4. Presentación / Conclusión\n",
    "  "
   ]
  },
  {
   "cell_type": "code",
   "execution_count": 21,
   "id": "789be235-d693-4790-bb7a-2989a43990b2",
   "metadata": {},
   "outputs": [
    {
     "name": "stdout",
     "output_type": "stream",
     "text": [
      "Recolección de Datos\n"
     ]
    }
   ],
   "source": [
    "print(\"Recolección de Datos\")"
   ]
  },
  {
   "cell_type": "code",
   "execution_count": 4,
   "id": "838fa4f1-6425-483f-90cf-2b170224ad49",
   "metadata": {},
   "outputs": [
    {
     "name": "stdout",
     "output_type": "stream",
     "text": [
      "Normalización / Limpieza de Datos\n"
     ]
    }
   ],
   "source": [
    "print(\"Normalización / Limpieza de Datos\")"
   ]
  },
  {
   "cell_type": "code",
   "execution_count": 6,
   "id": "45038400-427c-4b15-842a-e962e254f797",
   "metadata": {},
   "outputs": [
    {
     "name": "stdout",
     "output_type": "stream",
     "text": [
      "Análisis\n"
     ]
    }
   ],
   "source": [
    "print(\"Análisis\")"
   ]
  },
  {
   "cell_type": "code",
   "execution_count": 8,
   "id": "7fd8297b-d0ff-4efc-b84f-2d688f09b8f1",
   "metadata": {},
   "outputs": [
    {
     "name": "stdout",
     "output_type": "stream",
     "text": [
      "Presentación\n"
     ]
    }
   ],
   "source": [
    "print(\"Presentación\")"
   ]
  },
  {
   "cell_type": "code",
   "execution_count": 12,
   "id": "e410984e-d7cb-49c5-9a6b-557435e8e986",
   "metadata": {},
   "outputs": [
    {
     "name": "stdout",
     "output_type": "stream",
     "text": [
      "Fin\n"
     ]
    }
   ],
   "source": [
    "print(\"Fin\")"
   ]
  },
  {
   "cell_type": "code",
   "execution_count": 4,
   "id": "0de7f9e1-ceb2-442d-b7c4-c98f76c5d2a9",
   "metadata": {},
   "outputs": [],
   "source": [
    "l1 = [1,2,3]\n",
    "l2 = [1,2,3]\n",
    "l3 = l1"
   ]
  },
  {
   "cell_type": "code",
   "execution_count": 6,
   "id": "9de07da1-6f0a-45cc-9e65-53906fed44fa",
   "metadata": {},
   "outputs": [],
   "source": [
    "l1[0] = 9999"
   ]
  },
  {
   "cell_type": "code",
   "execution_count": 8,
   "id": "0a18ba4c-d65f-48b9-8947-6b77e3ed3fff",
   "metadata": {},
   "outputs": [
    {
     "data": {
      "text/plain": [
       "[9999, 2, 3]"
      ]
     },
     "execution_count": 8,
     "metadata": {},
     "output_type": "execute_result"
    }
   ],
   "source": [
    "l1"
   ]
  },
  {
   "cell_type": "code",
   "execution_count": 10,
   "id": "9dfd6f91-345c-4935-939c-a9690e3bc1fb",
   "metadata": {},
   "outputs": [
    {
     "data": {
      "text/plain": [
       "[1, 2, 3]"
      ]
     },
     "execution_count": 10,
     "metadata": {},
     "output_type": "execute_result"
    }
   ],
   "source": [
    "l2"
   ]
  },
  {
   "cell_type": "code",
   "execution_count": 12,
   "id": "96ae9fd2-b935-4a48-a89a-7d5d8c8f6c48",
   "metadata": {},
   "outputs": [
    {
     "data": {
      "text/plain": [
       "[9999, 2, 3]"
      ]
     },
     "execution_count": 12,
     "metadata": {},
     "output_type": "execute_result"
    }
   ],
   "source": [
    "l3"
   ]
  },
  {
   "cell_type": "code",
   "execution_count": 16,
   "id": "8491c5fa-d4dd-4ee3-a65c-14ae3620a0ad",
   "metadata": {},
   "outputs": [
    {
     "data": {
      "text/plain": [
       "(2208824278464, 2208824278784, 2208824278464)"
      ]
     },
     "execution_count": 16,
     "metadata": {},
     "output_type": "execute_result"
    }
   ],
   "source": [
    "id(l1), id(l2), id(l3)"
   ]
  },
  {
   "cell_type": "code",
   "execution_count": 26,
   "id": "b2ba0f89-7a48-42eb-9b05-294ba32345c7",
   "metadata": {},
   "outputs": [],
   "source": [
    "l1 = [1,2,3]\n",
    "l2 = [1,2,3]\n",
    "l3 = l1.copy()  # Esta instrucción permite que al modificarse l1 no impacte en l3"
   ]
  },
  {
   "cell_type": "code",
   "execution_count": 20,
   "id": "b23ef466-e00c-4e91-aca0-e2b2744612bc",
   "metadata": {},
   "outputs": [
    {
     "data": {
      "text/plain": [
       "(2208871422336, 2208872469888, 2208873024896)"
      ]
     },
     "execution_count": 20,
     "metadata": {},
     "output_type": "execute_result"
    }
   ],
   "source": [
    "id(l1), id(l2), id(l3)"
   ]
  },
  {
   "cell_type": "code",
   "execution_count": 22,
   "id": "83f53a01-113e-44ff-89da-e4d7022276e0",
   "metadata": {},
   "outputs": [],
   "source": [
    "l1[0] = 8888"
   ]
  },
  {
   "cell_type": "code",
   "execution_count": 24,
   "id": "312c4ce5-9e82-40e3-9a79-0850cb092c92",
   "metadata": {},
   "outputs": [
    {
     "data": {
      "text/plain": [
       "[1, 2, 3]"
      ]
     },
     "execution_count": 24,
     "metadata": {},
     "output_type": "execute_result"
    }
   ],
   "source": [
    "l3"
   ]
  },
  {
   "cell_type": "code",
   "execution_count": 38,
   "id": "f0eaa024-a062-4698-9963-35de55389d94",
   "metadata": {},
   "outputs": [],
   "source": [
    "a = 1\n",
    "b = 1\n",
    "c = a"
   ]
  },
  {
   "cell_type": "code",
   "execution_count": 40,
   "id": "236a7e5f-46c4-4fdf-9825-2014f5c31c52",
   "metadata": {},
   "outputs": [
    {
     "data": {
      "text/plain": [
       "(1, 1, 1)"
      ]
     },
     "execution_count": 40,
     "metadata": {},
     "output_type": "execute_result"
    }
   ],
   "source": [
    "a, b, c"
   ]
  },
  {
   "cell_type": "code",
   "execution_count": 42,
   "id": "00e76928-016c-4972-9287-e59841ede093",
   "metadata": {},
   "outputs": [
    {
     "data": {
      "text/plain": [
       "(140731606772152, 140731606772152, 140731606772152)"
      ]
     },
     "execution_count": 42,
     "metadata": {},
     "output_type": "execute_result"
    }
   ],
   "source": [
    "id(a), id(b) , id(c)"
   ]
  },
  {
   "cell_type": "code",
   "execution_count": 44,
   "id": "1b608a54-c08d-496e-9612-42522f55d48b",
   "metadata": {},
   "outputs": [],
   "source": [
    "a = 10"
   ]
  },
  {
   "cell_type": "code",
   "execution_count": 46,
   "id": "693ba81b-3eaf-43e4-b34b-d2566ab77f81",
   "metadata": {},
   "outputs": [
    {
     "data": {
      "text/plain": [
       "(140731606772440, 140731606772152, 140731606772152)"
      ]
     },
     "execution_count": 46,
     "metadata": {},
     "output_type": "execute_result"
    }
   ],
   "source": [
    "id(a), id(b) , id(c)"
   ]
  },
  {
   "cell_type": "code",
   "execution_count": 48,
   "id": "82da5635-3279-4b63-b10c-545d79f273d6",
   "metadata": {},
   "outputs": [],
   "source": [
    "c = 10"
   ]
  },
  {
   "cell_type": "code",
   "execution_count": 50,
   "id": "a503cf47-0190-47a7-9090-1edc6c514f7d",
   "metadata": {},
   "outputs": [
    {
     "data": {
      "text/plain": [
       "(140731606772440, 140731606772152, 140731606772440)"
      ]
     },
     "execution_count": 50,
     "metadata": {},
     "output_type": "execute_result"
    }
   ],
   "source": [
    "id(a), id(b) , id(c)"
   ]
  },
  {
   "cell_type": "markdown",
   "id": "0b0fc38c-bd3e-4f1d-842f-d81b775590ab",
   "metadata": {},
   "source": [
    "# Colecciones\n",
    "- Listas\n",
    "- Tuplas\n",
    "- Diccionarios\n",
    "- Conjuntos\n",
    "\n",
    "## Listas\n",
    "\n",
    "1. Orden (es importante)\n",
    "2. Mutabilidad (capacidad de poder modificar, agregar, eliminar elementos de la colección)\n",
    "3. Repetición de elementos\n",
    "\n",
    "## Tuplas\n",
    "\n",
    "1. Orden\n",
    "2. NO son mutables\n",
    "3. Repetición de elementos\n",
    "\n",
    "## Diccionarios / clave: valor\n",
    "\n",
    "1. NO son estructuras ordenadas\n",
    "2. Mutabilidad\n",
    "3. Se pueden repetir los valores, NO las claves"
   ]
  },
  {
   "cell_type": "code",
   "execution_count": 53,
   "id": "d2083488-978d-4c3d-bce1-93d593eb4fd0",
   "metadata": {},
   "outputs": [],
   "source": [
    "l1 = [\"A\", \"B\", \"C\", 1,2,3,1,2,3,4,5,6,7, 3.14]"
   ]
  },
  {
   "cell_type": "code",
   "execution_count": 55,
   "id": "78195576-8dca-4d4c-b637-23d4d4674e6d",
   "metadata": {},
   "outputs": [
    {
     "data": {
      "text/plain": [
       "'A'"
      ]
     },
     "execution_count": 55,
     "metadata": {},
     "output_type": "execute_result"
    }
   ],
   "source": [
    "l1[0]"
   ]
  },
  {
   "cell_type": "code",
   "execution_count": 57,
   "id": "cd86b91d-23c3-4c9f-b210-a8964e54abcc",
   "metadata": {},
   "outputs": [
    {
     "data": {
      "text/plain": [
       "3"
      ]
     },
     "execution_count": 57,
     "metadata": {},
     "output_type": "execute_result"
    }
   ],
   "source": [
    "l1[8]"
   ]
  },
  {
   "cell_type": "code",
   "execution_count": 59,
   "id": "619314c2-f5f0-4f5c-a369-7bbf4e00ce04",
   "metadata": {},
   "outputs": [],
   "source": [
    "l1.append(\"HOLA\") # Agregar"
   ]
  },
  {
   "cell_type": "code",
   "execution_count": 61,
   "id": "f2a8177b-97b1-42e2-949d-845d5bcf67ea",
   "metadata": {},
   "outputs": [
    {
     "data": {
      "text/plain": [
       "['A', 'B', 'C', 1, 2, 3, 1, 2, 3, 4, 5, 6, 7, 3.14, 'HOLA']"
      ]
     },
     "execution_count": 61,
     "metadata": {},
     "output_type": "execute_result"
    }
   ],
   "source": [
    "l1"
   ]
  },
  {
   "cell_type": "code",
   "execution_count": 63,
   "id": "3ee69c3b-3c0d-47af-905b-59be64174497",
   "metadata": {},
   "outputs": [],
   "source": [
    "l1[0] = \"CHAU\" # Modificar"
   ]
  },
  {
   "cell_type": "code",
   "execution_count": 65,
   "id": "aa9a2b13-db66-4231-ab18-ef918342624d",
   "metadata": {},
   "outputs": [
    {
     "data": {
      "text/plain": [
       "['CHAU', 'B', 'C', 1, 2, 3, 1, 2, 3, 4, 5, 6, 7, 3.14, 'HOLA']"
      ]
     },
     "execution_count": 65,
     "metadata": {},
     "output_type": "execute_result"
    }
   ],
   "source": [
    "l1"
   ]
  },
  {
   "cell_type": "code",
   "execution_count": 67,
   "id": "7daed19b-65bf-495f-9e1f-2aa965240a2e",
   "metadata": {},
   "outputs": [],
   "source": [
    "del l1[1]"
   ]
  },
  {
   "cell_type": "code",
   "execution_count": 69,
   "id": "e5a58f01-98d0-4b85-bb34-5bb1f54c0d07",
   "metadata": {},
   "outputs": [
    {
     "data": {
      "text/plain": [
       "['CHAU', 'C', 1, 2, 3, 1, 2, 3, 4, 5, 6, 7, 3.14, 'HOLA']"
      ]
     },
     "execution_count": 69,
     "metadata": {},
     "output_type": "execute_result"
    }
   ],
   "source": [
    "l1"
   ]
  },
  {
   "cell_type": "code",
   "execution_count": 71,
   "id": "1e888e5d-3cdb-4be8-a74e-6e16b4a0358c",
   "metadata": {},
   "outputs": [],
   "source": [
    "l1.remove(3.14)"
   ]
  },
  {
   "cell_type": "code",
   "execution_count": 73,
   "id": "3f486a2b-127d-4fe9-85d5-27ff306b908b",
   "metadata": {},
   "outputs": [
    {
     "data": {
      "text/plain": [
       "['CHAU', 'C', 1, 2, 3, 1, 2, 3, 4, 5, 6, 7, 'HOLA']"
      ]
     },
     "execution_count": 73,
     "metadata": {},
     "output_type": "execute_result"
    }
   ],
   "source": [
    "l1"
   ]
  },
  {
   "cell_type": "code",
   "execution_count": 75,
   "id": "67f883e0-0ad7-44b1-b9e0-2768f78885eb",
   "metadata": {},
   "outputs": [
    {
     "data": {
      "text/plain": [
       "2"
      ]
     },
     "execution_count": 75,
     "metadata": {},
     "output_type": "execute_result"
    }
   ],
   "source": [
    "l1.count(1)"
   ]
  },
  {
   "cell_type": "code",
   "execution_count": 77,
   "id": "82dc8317-7da0-4038-8c89-9b86867a0103",
   "metadata": {},
   "outputs": [
    {
     "data": {
      "text/plain": [
       "12"
      ]
     },
     "execution_count": 77,
     "metadata": {},
     "output_type": "execute_result"
    }
   ],
   "source": [
    "l1.index(\"HOLA\")"
   ]
  },
  {
   "cell_type": "code",
   "execution_count": 80,
   "id": "882a8214-66e6-4634-b86b-05764dca86ff",
   "metadata": {},
   "outputs": [],
   "source": [
    "t1 = (1,2,3,4,5,6,1,2,3,1,1,2,3)"
   ]
  },
  {
   "cell_type": "code",
   "execution_count": 82,
   "id": "025f96bf-6034-4287-854c-202e9a37cb8b",
   "metadata": {},
   "outputs": [
    {
     "data": {
      "text/plain": [
       "4"
      ]
     },
     "execution_count": 82,
     "metadata": {},
     "output_type": "execute_result"
    }
   ],
   "source": [
    "t1.count(1)"
   ]
  },
  {
   "cell_type": "code",
   "execution_count": 84,
   "id": "2879ba52-3bb7-488f-b52b-b6d6f7f71461",
   "metadata": {},
   "outputs": [
    {
     "data": {
      "text/plain": [
       "2"
      ]
     },
     "execution_count": 84,
     "metadata": {},
     "output_type": "execute_result"
    }
   ],
   "source": [
    "t1.index(3)"
   ]
  },
  {
   "cell_type": "code",
   "execution_count": 87,
   "id": "80e1d934-a71d-47ca-9d1a-7778747f1690",
   "metadata": {},
   "outputs": [],
   "source": [
    "d1 = { \"A\": 1, \"B\": 2, \"C\": 3, \"D\": 4 }"
   ]
  },
  {
   "cell_type": "code",
   "execution_count": 89,
   "id": "81aa1d27-e4ba-4051-8424-cda5807f6737",
   "metadata": {},
   "outputs": [
    {
     "data": {
      "text/plain": [
       "4"
      ]
     },
     "execution_count": 89,
     "metadata": {},
     "output_type": "execute_result"
    }
   ],
   "source": [
    "len(d1)"
   ]
  },
  {
   "cell_type": "code",
   "execution_count": 91,
   "id": "af222c17-c2f9-42d3-b3a7-062c44d51e7a",
   "metadata": {},
   "outputs": [],
   "source": [
    "d1[\"E\"] = 5"
   ]
  },
  {
   "cell_type": "code",
   "execution_count": 93,
   "id": "16c68005-accf-4b25-abfe-3e93d9f23b02",
   "metadata": {},
   "outputs": [
    {
     "data": {
      "text/plain": [
       "{'A': 1, 'B': 2, 'C': 3, 'D': 4, 'E': 5}"
      ]
     },
     "execution_count": 93,
     "metadata": {},
     "output_type": "execute_result"
    }
   ],
   "source": [
    "d1"
   ]
  },
  {
   "cell_type": "code",
   "execution_count": 95,
   "id": "c72e007b-a36f-4762-84af-199ae44a9d1b",
   "metadata": {},
   "outputs": [],
   "source": [
    "del d1[\"B\"]"
   ]
  },
  {
   "cell_type": "code",
   "execution_count": 97,
   "id": "82febbb2-f70c-415c-8fb3-df34eddf3ca2",
   "metadata": {},
   "outputs": [
    {
     "data": {
      "text/plain": [
       "{'A': 1, 'C': 3, 'D': 4, 'E': 5}"
      ]
     },
     "execution_count": 97,
     "metadata": {},
     "output_type": "execute_result"
    }
   ],
   "source": [
    "d1"
   ]
  },
  {
   "cell_type": "code",
   "execution_count": 99,
   "id": "0345e992-61bc-4667-918b-7fb92b6f05b1",
   "metadata": {},
   "outputs": [],
   "source": [
    "d1[\"A\"] = 88"
   ]
  },
  {
   "cell_type": "code",
   "execution_count": 101,
   "id": "2f3cfe62-894f-47a2-b1f3-c921705dcb67",
   "metadata": {},
   "outputs": [
    {
     "data": {
      "text/plain": [
       "{'A': 88, 'C': 3, 'D': 4, 'E': 5}"
      ]
     },
     "execution_count": 101,
     "metadata": {},
     "output_type": "execute_result"
    }
   ],
   "source": [
    "d1"
   ]
  },
  {
   "cell_type": "code",
   "execution_count": null,
   "id": "1e36d133-a2aa-4852-ab13-1b464b20abe7",
   "metadata": {},
   "outputs": [],
   "source": []
  },
  {
   "cell_type": "code",
   "execution_count": null,
   "id": "cc4a28ed-0f81-49a0-8a67-8f2727d0adbc",
   "metadata": {},
   "outputs": [],
   "source": []
  }
 ],
 "metadata": {
  "kernelspec": {
   "display_name": "Python [conda env:base] *",
   "language": "python",
   "name": "conda-base-py"
  },
  "language_info": {
   "codemirror_mode": {
    "name": "ipython",
    "version": 3
   },
   "file_extension": ".py",
   "mimetype": "text/x-python",
   "name": "python",
   "nbconvert_exporter": "python",
   "pygments_lexer": "ipython3",
   "version": "3.12.7"
  }
 },
 "nbformat": 4,
 "nbformat_minor": 5
}
