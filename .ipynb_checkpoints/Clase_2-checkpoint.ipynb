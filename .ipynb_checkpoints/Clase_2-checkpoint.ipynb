{
 "cells": [
  {
   "cell_type": "markdown",
   "id": "c3696259-6efa-4b9a-ba41-f44e10eb072d",
   "metadata": {},
   "source": [
    "# Clase 2 \n",
    "## Colecciones: Conjuntos\n",
    "\n",
    "1. No importa el Orden\n",
    "2. Mutabilidad: agregar / eliminar elementos\n",
    "3. No se pueden repetir elementos"
   ]
  },
  {
   "cell_type": "code",
   "execution_count": 20,
   "id": "e29d44ea-4b28-4bb7-ba61-b968297a914e",
   "metadata": {},
   "outputs": [],
   "source": [
    "conjunto = { 1,2,3,4,5,6}"
   ]
  },
  {
   "cell_type": "code",
   "execution_count": 22,
   "id": "776e6ce5-4df7-4379-9415-a4c468177c36",
   "metadata": {},
   "outputs": [
    {
     "data": {
      "text/plain": [
       "set"
      ]
     },
     "execution_count": 22,
     "metadata": {},
     "output_type": "execute_result"
    }
   ],
   "source": [
    "type(conjunto)"
   ]
  },
  {
   "cell_type": "code",
   "execution_count": 24,
   "id": "2eb51822-38bc-4d05-a8c8-7f791d70fed2",
   "metadata": {},
   "outputs": [
    {
     "data": {
      "text/plain": [
       "True"
      ]
     },
     "execution_count": 24,
     "metadata": {},
     "output_type": "execute_result"
    }
   ],
   "source": [
    "{1,2,3} == {3,1,2}"
   ]
  },
  {
   "cell_type": "code",
   "execution_count": 26,
   "id": "37d4dfa1-46c7-4226-a69c-b0e03c8d4c1e",
   "metadata": {},
   "outputs": [],
   "source": [
    "# Mutabilidad\n",
    "\n",
    "conjunto.add(7)"
   ]
  },
  {
   "cell_type": "code",
   "execution_count": 28,
   "id": "1dab8968-d8e6-48b2-aa66-c1995c58dcfc",
   "metadata": {},
   "outputs": [
    {
     "data": {
      "text/plain": [
       "{1, 2, 3, 4, 5, 6, 7}"
      ]
     },
     "execution_count": 28,
     "metadata": {},
     "output_type": "execute_result"
    }
   ],
   "source": [
    "conjunto"
   ]
  },
  {
   "cell_type": "code",
   "execution_count": 32,
   "id": "18cc04ff-0088-4750-8d6c-cbd0e19a7d92",
   "metadata": {},
   "outputs": [],
   "source": [
    "conjunto.add(\"A\")"
   ]
  },
  {
   "cell_type": "code",
   "execution_count": 38,
   "id": "83964a58-411d-481c-b346-8670fceab871",
   "metadata": {},
   "outputs": [],
   "source": [
    "conjunto.add(3.14)"
   ]
  },
  {
   "cell_type": "code",
   "execution_count": 40,
   "id": "7a87e666-2319-45c3-9d86-41a82211f6ed",
   "metadata": {},
   "outputs": [
    {
     "data": {
      "text/plain": [
       "{1, 2, 3, 3.14, 4, 5, 6, 7, 'A'}"
      ]
     },
     "execution_count": 40,
     "metadata": {},
     "output_type": "execute_result"
    }
   ],
   "source": [
    "conjunto"
   ]
  },
  {
   "cell_type": "code",
   "execution_count": 42,
   "id": "2d1f8a5f-a0b5-43d9-a58a-846124da6465",
   "metadata": {},
   "outputs": [],
   "source": [
    "conjunto.discard(\"A\")"
   ]
  },
  {
   "cell_type": "code",
   "execution_count": 44,
   "id": "d21fce74-285e-4f9c-ab67-4258d828616c",
   "metadata": {},
   "outputs": [
    {
     "data": {
      "text/plain": [
       "{1, 2, 3, 3.14, 4, 5, 6, 7}"
      ]
     },
     "execution_count": 44,
     "metadata": {},
     "output_type": "execute_result"
    }
   ],
   "source": [
    "conjunto"
   ]
  },
  {
   "cell_type": "code",
   "execution_count": 46,
   "id": "87d47cbe-450f-4fdd-8472-0c5955302d5b",
   "metadata": {},
   "outputs": [],
   "source": [
    "conjunto.remove(3.14)"
   ]
  },
  {
   "cell_type": "code",
   "execution_count": 48,
   "id": "dc8fe675-a72a-436a-9db4-e26001c35574",
   "metadata": {},
   "outputs": [
    {
     "data": {
      "text/plain": [
       "{1, 2, 3, 4, 5, 6, 7}"
      ]
     },
     "execution_count": 48,
     "metadata": {},
     "output_type": "execute_result"
    }
   ],
   "source": [
    "conjunto"
   ]
  },
  {
   "cell_type": "code",
   "execution_count": 54,
   "id": "7b0113c3-0447-4097-a2c0-b2127127f63a",
   "metadata": {},
   "outputs": [],
   "source": [
    "conjunto.add(1)"
   ]
  },
  {
   "cell_type": "code",
   "execution_count": 56,
   "id": "62c58f41-a3e6-43f8-974d-52804c31afb0",
   "metadata": {},
   "outputs": [
    {
     "data": {
      "text/plain": [
       "{1, 2, 3, 4, 5, 6, 7}"
      ]
     },
     "execution_count": 56,
     "metadata": {},
     "output_type": "execute_result"
    }
   ],
   "source": [
    "conjunto"
   ]
  },
  {
   "cell_type": "markdown",
   "id": "7f9959ed-907b-4b27-a2b5-74fa136218fc",
   "metadata": {},
   "source": [
    "## Operaciones"
   ]
  },
  {
   "cell_type": "code",
   "execution_count": 59,
   "id": "53861651-6a08-4d5c-afc7-1031a3021738",
   "metadata": {},
   "outputs": [],
   "source": [
    "conj1 = {1,2,3,4,5}\n",
    "conj2 = {3,4,5,6,7}"
   ]
  },
  {
   "cell_type": "code",
   "execution_count": 61,
   "id": "7aa25920-16bf-4e23-af3b-e76af00d668e",
   "metadata": {},
   "outputs": [
    {
     "data": {
      "text/plain": [
       "{1, 2, 3, 4, 5, 6, 7}"
      ]
     },
     "execution_count": 61,
     "metadata": {},
     "output_type": "execute_result"
    }
   ],
   "source": [
    "# Union\n",
    "\n",
    "conj1.union(conj2)"
   ]
  },
  {
   "cell_type": "code",
   "execution_count": 65,
   "id": "81cb673a-5de8-44d9-9281-51eb0f15d4ec",
   "metadata": {},
   "outputs": [
    {
     "data": {
      "text/plain": [
       "{1, 2, 3, 4, 5, 6, 7}"
      ]
     },
     "execution_count": 65,
     "metadata": {},
     "output_type": "execute_result"
    }
   ],
   "source": [
    "conj1 | conj2  # pipe "
   ]
  },
  {
   "cell_type": "code",
   "execution_count": 69,
   "id": "77bdd515-ce34-47c3-93f3-44fe5932d240",
   "metadata": {},
   "outputs": [
    {
     "data": {
      "text/plain": [
       "{3, 4, 5}"
      ]
     },
     "execution_count": 69,
     "metadata": {},
     "output_type": "execute_result"
    }
   ],
   "source": [
    "# Intersección \n",
    "\n",
    "conj1.intersection(conj2)"
   ]
  },
  {
   "cell_type": "code",
   "execution_count": 71,
   "id": "d8327a31-5824-4851-9816-96b5e233bf0b",
   "metadata": {},
   "outputs": [
    {
     "data": {
      "text/plain": [
       "{3, 4, 5}"
      ]
     },
     "execution_count": 71,
     "metadata": {},
     "output_type": "execute_result"
    }
   ],
   "source": [
    "conj1 & conj2"
   ]
  },
  {
   "cell_type": "code",
   "execution_count": 73,
   "id": "317c1eee-88c6-492f-a164-6a8e2a5dbdc4",
   "metadata": {},
   "outputs": [
    {
     "data": {
      "text/plain": [
       "{1, 2}"
      ]
     },
     "execution_count": 73,
     "metadata": {},
     "output_type": "execute_result"
    }
   ],
   "source": [
    "# Diferencia \n",
    "\n",
    "conj1.difference(conj2)"
   ]
  },
  {
   "cell_type": "code",
   "execution_count": 75,
   "id": "4e3b63a2-4861-4ee9-b910-56d743058faa",
   "metadata": {},
   "outputs": [
    {
     "data": {
      "text/plain": [
       "{1, 2}"
      ]
     },
     "execution_count": 75,
     "metadata": {},
     "output_type": "execute_result"
    }
   ],
   "source": [
    "conj1 - conj2"
   ]
  },
  {
   "cell_type": "code",
   "execution_count": 77,
   "id": "dd757a0d-f9ef-4f25-96ce-dca91c8e58d1",
   "metadata": {},
   "outputs": [
    {
     "data": {
      "text/plain": [
       "{1, 2, 6, 7}"
      ]
     },
     "execution_count": 77,
     "metadata": {},
     "output_type": "execute_result"
    }
   ],
   "source": [
    "# Diferencia Simétrica\n",
    "\n",
    "conj1.symmetric_difference(conj2)"
   ]
  },
  {
   "cell_type": "code",
   "execution_count": 79,
   "id": "4907e613-48c2-45a4-a128-6c31a577119e",
   "metadata": {},
   "outputs": [
    {
     "data": {
      "text/plain": [
       "{1, 2, 6, 7}"
      ]
     },
     "execution_count": 79,
     "metadata": {},
     "output_type": "execute_result"
    }
   ],
   "source": [
    "conj1 ^ conj2"
   ]
  },
  {
   "cell_type": "code",
   "execution_count": 85,
   "id": "437015e4-894e-454e-985c-3fa92014d95d",
   "metadata": {},
   "outputs": [],
   "source": [
    "# Cual es la única colección que tiene una sola manera de crear esa colección vacia?\n",
    "\n",
    "d = set()"
   ]
  },
  {
   "cell_type": "code",
   "execution_count": 87,
   "id": "d87dfce4-a75e-4e2f-bb98-260a20cf2bc6",
   "metadata": {},
   "outputs": [
    {
     "data": {
      "text/plain": [
       "set"
      ]
     },
     "execution_count": 87,
     "metadata": {},
     "output_type": "execute_result"
    }
   ],
   "source": [
    "type(d)"
   ]
  },
  {
   "cell_type": "code",
   "execution_count": 89,
   "id": "7aa8204b-202c-4909-ab02-0253384d843c",
   "metadata": {},
   "outputs": [],
   "source": [
    "a = []  \n",
    "a = list()"
   ]
  },
  {
   "cell_type": "markdown",
   "id": "3a0ca003-45d2-4f1c-9f31-b19fc8883248",
   "metadata": {},
   "source": [
    "# Indexación / Slicing"
   ]
  },
  {
   "cell_type": "code",
   "execution_count": 99,
   "id": "96d04632-9798-4092-b39b-e1937d5bfb31",
   "metadata": {},
   "outputs": [],
   "source": [
    "lista = [1,2,3,4,5,6,7,8,9,10,11]\n",
    "letras = [\"A\", \"B\", \"C\", \"D\", \"E\", \"F\", \"G\", \"H\"]"
   ]
  },
  {
   "cell_type": "code",
   "execution_count": 95,
   "id": "47ff1263-1052-4c34-9ffe-46ba65fe74f6",
   "metadata": {},
   "outputs": [
    {
     "data": {
      "text/plain": [
       "2"
      ]
     },
     "execution_count": 95,
     "metadata": {},
     "output_type": "execute_result"
    }
   ],
   "source": [
    "lista[1]"
   ]
  },
  {
   "cell_type": "code",
   "execution_count": 97,
   "id": "0069030b-0def-458d-982a-30766a0bd6b2",
   "metadata": {},
   "outputs": [
    {
     "data": {
      "text/plain": [
       "[2, 3, 4, 5]"
      ]
     },
     "execution_count": 97,
     "metadata": {},
     "output_type": "execute_result"
    }
   ],
   "source": [
    "lista[1:5]"
   ]
  },
  {
   "cell_type": "code",
   "execution_count": 101,
   "id": "697ad7f4-9e9b-4f7d-a3fe-bc6d2f14d314",
   "metadata": {},
   "outputs": [
    {
     "data": {
      "text/plain": [
       "['A', 'B', 'C', 'D', 'E']"
      ]
     },
     "execution_count": 101,
     "metadata": {},
     "output_type": "execute_result"
    }
   ],
   "source": [
    "letras[0:5]"
   ]
  },
  {
   "cell_type": "code",
   "execution_count": 105,
   "id": "718cf34c-0608-4262-bcf3-09031b390cac",
   "metadata": {},
   "outputs": [
    {
     "data": {
      "text/plain": [
       "['A', 'B', 'C', 'D', 'E', 'F', 'G']"
      ]
     },
     "execution_count": 105,
     "metadata": {},
     "output_type": "execute_result"
    }
   ],
   "source": [
    "letras[:7]"
   ]
  },
  {
   "cell_type": "code",
   "execution_count": 107,
   "id": "daeba856-6b79-4734-9c1b-076822ddf446",
   "metadata": {},
   "outputs": [
    {
     "data": {
      "text/plain": [
       "['F', 'G', 'H']"
      ]
     },
     "execution_count": 107,
     "metadata": {},
     "output_type": "execute_result"
    }
   ],
   "source": [
    "letras[5:]"
   ]
  },
  {
   "cell_type": "code",
   "execution_count": 111,
   "id": "16b6c996-e262-4e7c-b8ff-61edae6b5888",
   "metadata": {},
   "outputs": [
    {
     "data": {
      "text/plain": [
       "['A', 'D', 'G']"
      ]
     },
     "execution_count": 111,
     "metadata": {},
     "output_type": "execute_result"
    }
   ],
   "source": [
    "letras[::3]"
   ]
  },
  {
   "cell_type": "code",
   "execution_count": 115,
   "id": "1ceff3de-64e5-4de2-8137-bed283e8ff95",
   "metadata": {},
   "outputs": [
    {
     "data": {
      "text/plain": [
       "'G'"
      ]
     },
     "execution_count": 115,
     "metadata": {},
     "output_type": "execute_result"
    }
   ],
   "source": [
    "letras[-2]"
   ]
  },
  {
   "cell_type": "code",
   "execution_count": 117,
   "id": "f8f6d666-55a2-4a19-a140-f31a1317620b",
   "metadata": {},
   "outputs": [
    {
     "data": {
      "text/plain": [
       "['E', 'F', 'G', 'H']"
      ]
     },
     "execution_count": 117,
     "metadata": {},
     "output_type": "execute_result"
    }
   ],
   "source": [
    "letras[-4:]"
   ]
  },
  {
   "cell_type": "code",
   "execution_count": 119,
   "id": "4140b36c-c35b-4e03-bfeb-bb15f337db24",
   "metadata": {},
   "outputs": [],
   "source": [
    "provincia = \"Neuquen\""
   ]
  },
  {
   "cell_type": "code",
   "execution_count": 123,
   "id": "5a43f70d-892b-4f53-8f95-bcd6a53358c8",
   "metadata": {},
   "outputs": [
    {
     "data": {
      "text/plain": [
       "'n'"
      ]
     },
     "execution_count": 123,
     "metadata": {},
     "output_type": "execute_result"
    }
   ],
   "source": [
    "provincia[-1]"
   ]
  },
  {
   "cell_type": "code",
   "execution_count": 125,
   "id": "aa13381a-8b40-4a3b-b6b0-748ab84c513f",
   "metadata": {},
   "outputs": [
    {
     "data": {
      "text/plain": [
       "'neuqueN'"
      ]
     },
     "execution_count": 125,
     "metadata": {},
     "output_type": "execute_result"
    }
   ],
   "source": [
    "provincia[::-1]"
   ]
  },
  {
   "cell_type": "code",
   "execution_count": 127,
   "id": "b6e77ce5-39e4-4eb7-8b16-5342e37523bf",
   "metadata": {},
   "outputs": [
    {
     "data": {
      "text/plain": [
       "'yoh agoy ogah oy'"
      ]
     },
     "execution_count": 127,
     "metadata": {},
     "output_type": "execute_result"
    }
   ],
   "source": [
    "frase = \"yo hago yoga hoy\"\n",
    "frase[::-1]"
   ]
  },
  {
   "cell_type": "markdown",
   "id": "34f60814-8c80-4cf8-a619-1413115ecdc6",
   "metadata": {},
   "source": [
    "## Operadores de Python (// ** %)"
   ]
  },
  {
   "cell_type": "code",
   "execution_count": 130,
   "id": "5158096f-863c-4daf-99ed-2d308fb866dd",
   "metadata": {},
   "outputs": [
    {
     "data": {
      "text/plain": [
       "2"
      ]
     },
     "execution_count": 130,
     "metadata": {},
     "output_type": "execute_result"
    }
   ],
   "source": [
    "13//5"
   ]
  },
  {
   "cell_type": "code",
   "execution_count": 132,
   "id": "6941f3b5-076b-435c-a723-ea089b3fccef",
   "metadata": {},
   "outputs": [
    {
     "data": {
      "text/plain": [
       "8"
      ]
     },
     "execution_count": 132,
     "metadata": {},
     "output_type": "execute_result"
    }
   ],
   "source": [
    "2**3"
   ]
  },
  {
   "cell_type": "code",
   "execution_count": 134,
   "id": "cbc447bb-dbd5-40d6-a942-08371afff7fa",
   "metadata": {},
   "outputs": [
    {
     "data": {
      "text/plain": [
       "1"
      ]
     },
     "execution_count": 134,
     "metadata": {},
     "output_type": "execute_result"
    }
   ],
   "source": [
    "21%4"
   ]
  },
  {
   "cell_type": "code",
   "execution_count": 136,
   "id": "ce9b7fdc-b08b-4695-9f02-2d2f6194e1f9",
   "metadata": {},
   "outputs": [
    {
     "data": {
      "text/plain": [
       "2"
      ]
     },
     "execution_count": 136,
     "metadata": {},
     "output_type": "execute_result"
    }
   ],
   "source": [
    "22%4"
   ]
  },
  {
   "cell_type": "markdown",
   "id": "7535b212-2526-4d70-99b1-a2148f718694",
   "metadata": {},
   "source": [
    "## Operadores de pertenencia"
   ]
  },
  {
   "cell_type": "code",
   "execution_count": 139,
   "id": "c6b98c99-a2f7-471d-9fc5-ef7e6acc7912",
   "metadata": {},
   "outputs": [],
   "source": [
    "nombres = [\"Juan\", \"Pedro\", \"Ana\", \"Maria\"]"
   ]
  },
  {
   "cell_type": "code",
   "execution_count": 141,
   "id": "24680678-7f2d-46b3-9c66-641f2c53f23a",
   "metadata": {},
   "outputs": [
    {
     "data": {
      "text/plain": [
       "True"
      ]
     },
     "execution_count": 141,
     "metadata": {},
     "output_type": "execute_result"
    }
   ],
   "source": [
    "\"Juan\" in nombres"
   ]
  },
  {
   "cell_type": "code",
   "execution_count": 143,
   "id": "327cdd49-1ca1-49ce-a161-cba1b9897a95",
   "metadata": {},
   "outputs": [
    {
     "data": {
      "text/plain": [
       "False"
      ]
     },
     "execution_count": 143,
     "metadata": {},
     "output_type": "execute_result"
    }
   ],
   "source": [
    "\"Pablo\" in nombres"
   ]
  },
  {
   "cell_type": "code",
   "execution_count": 145,
   "id": "737af2ad-9d2f-447b-9e09-a98bfa824b2f",
   "metadata": {},
   "outputs": [
    {
     "data": {
      "text/plain": [
       "'yo hago yoga hoy'"
      ]
     },
     "execution_count": 145,
     "metadata": {},
     "output_type": "execute_result"
    }
   ],
   "source": [
    "frase"
   ]
  },
  {
   "cell_type": "code",
   "execution_count": 147,
   "id": "63fa6fd7-f5ef-4605-a651-8206f2ca72f4",
   "metadata": {},
   "outputs": [
    {
     "data": {
      "text/plain": [
       "True"
      ]
     },
     "execution_count": 147,
     "metadata": {},
     "output_type": "execute_result"
    }
   ],
   "source": [
    "\"yoga\" in frase"
   ]
  },
  {
   "cell_type": "code",
   "execution_count": 149,
   "id": "3693294c-e0d0-44bf-941c-a7e2ad2a99a2",
   "metadata": {},
   "outputs": [],
   "source": [
    "paises = {\"ARG\": 46, \"BRA\": 213, \"CHI\":18}"
   ]
  },
  {
   "cell_type": "code",
   "execution_count": 151,
   "id": "0001e708-dd8d-4a15-a5ff-2866c0988db9",
   "metadata": {},
   "outputs": [
    {
     "data": {
      "text/plain": [
       "True"
      ]
     },
     "execution_count": 151,
     "metadata": {},
     "output_type": "execute_result"
    }
   ],
   "source": [
    "\"ARG\" in paises"
   ]
  },
  {
   "cell_type": "code",
   "execution_count": 153,
   "id": "55255d80-5f10-4d5d-abd8-3f4710384518",
   "metadata": {},
   "outputs": [
    {
     "data": {
      "text/plain": [
       "False"
      ]
     },
     "execution_count": 153,
     "metadata": {},
     "output_type": "execute_result"
    }
   ],
   "source": [
    "46 in paises"
   ]
  },
  {
   "cell_type": "code",
   "execution_count": 155,
   "id": "ed5891c5-2e73-413a-81b7-efa108591488",
   "metadata": {},
   "outputs": [
    {
     "data": {
      "text/plain": [
       "True"
      ]
     },
     "execution_count": 155,
     "metadata": {},
     "output_type": "execute_result"
    }
   ],
   "source": [
    "46 in paises.values()"
   ]
  },
  {
   "cell_type": "code",
   "execution_count": 157,
   "id": "d9efc3f6-01c8-4c67-adab-e9d072ef35c1",
   "metadata": {},
   "outputs": [
    {
     "data": {
      "text/plain": [
       "dict_values([46, 213, 18])"
      ]
     },
     "execution_count": 157,
     "metadata": {},
     "output_type": "execute_result"
    }
   ],
   "source": [
    "paises.values()"
   ]
  },
  {
   "cell_type": "code",
   "execution_count": 159,
   "id": "9f75ed6f-cbc0-4446-bf4f-8fa84fadd84b",
   "metadata": {},
   "outputs": [
    {
     "data": {
      "text/plain": [
       "True"
      ]
     },
     "execution_count": 159,
     "metadata": {},
     "output_type": "execute_result"
    }
   ],
   "source": [
    "\"Pablo\" not in nombres"
   ]
  },
  {
   "cell_type": "markdown",
   "id": "a9aafbaf-751a-447a-8b75-56ff9517e9ef",
   "metadata": {},
   "source": [
    "## Funciones especiales  \n",
    "- range\n",
    "- enumerate\n",
    "- zip"
   ]
  },
  {
   "cell_type": "code",
   "execution_count": 162,
   "id": "5409f3bf-c04d-46b9-a5a9-5b6473ec42de",
   "metadata": {},
   "outputs": [
    {
     "name": "stdout",
     "output_type": "stream",
     "text": [
      "0\n",
      "1\n",
      "2\n",
      "3\n",
      "4\n",
      "5\n",
      "6\n",
      "7\n",
      "8\n",
      "9\n"
     ]
    }
   ],
   "source": [
    "for i in range(10):\n",
    "    print(i)"
   ]
  },
  {
   "cell_type": "code",
   "execution_count": 164,
   "id": "fb2dd80e-d33e-45b2-a2a4-cdcded965510",
   "metadata": {},
   "outputs": [
    {
     "name": "stdout",
     "output_type": "stream",
     "text": [
      "5\n",
      "6\n",
      "7\n",
      "8\n",
      "9\n",
      "10\n"
     ]
    }
   ],
   "source": [
    "for i in range(5,11):\n",
    "    print(i)"
   ]
  },
  {
   "cell_type": "code",
   "execution_count": 166,
   "id": "7f99dc6b-5f48-48b8-8dd4-2587400bc868",
   "metadata": {},
   "outputs": [
    {
     "name": "stdout",
     "output_type": "stream",
     "text": [
      "5\n",
      "15\n",
      "25\n",
      "35\n",
      "45\n",
      "55\n",
      "65\n",
      "75\n",
      "85\n",
      "95\n"
     ]
    }
   ],
   "source": [
    "for i in range(5,101,10):\n",
    "    print(i)"
   ]
  },
  {
   "cell_type": "code",
   "execution_count": 170,
   "id": "bf41402b-ecc6-42de-93c0-8749c3c094ad",
   "metadata": {},
   "outputs": [
    {
     "name": "stdout",
     "output_type": "stream",
     "text": [
      "0 Juan\n",
      "1 Pedro\n",
      "2 Ana\n",
      "3 Maria\n"
     ]
    }
   ],
   "source": [
    "nombres = [\"Juan\", \"Pedro\", \"Ana\", \"Maria\"]\n",
    "\n",
    "for ix, elemento in enumerate(nombres):\n",
    "    print(ix, elemento)"
   ]
  },
  {
   "cell_type": "code",
   "execution_count": 180,
   "id": "31e6cdfe-ccf4-40bf-bff1-31f1227401a2",
   "metadata": {},
   "outputs": [
    {
     "name": "stdout",
     "output_type": "stream",
     "text": [
      "Perez Juan 10\n",
      "Gomez Pedro 11\n",
      "Rodriguez Ana 12\n"
     ]
    }
   ],
   "source": [
    "nombres = [\"Juan\", \"Pedro\", \"Ana\", \"Maria\"]\n",
    "apellidos = [\"Perez\", \"Gomez\", \"Rodriguez\", \"Fernandez\", \"Ramirez\"]\n",
    "edades = [10, 11,12]\n",
    "\n",
    "for n, a, e in zip(nombres, apellidos, edades):\n",
    "    print( a, n, e)"
   ]
  },
  {
   "cell_type": "code",
   "execution_count": 184,
   "id": "12b06f51-77ff-48f6-97ce-1d0746ae178d",
   "metadata": {},
   "outputs": [
    {
     "name": "stdout",
     "output_type": "stream",
     "text": [
      "0 1\n",
      "1 2\n",
      "2 3\n",
      "3 4\n",
      "4 5\n",
      "5 6\n"
     ]
    }
   ],
   "source": [
    "conjunto = {1,2,3,4,5,6}\n",
    "\n",
    "for n, i in enumerate(conjunto):\n",
    "    print(n, i)"
   ]
  },
  {
   "cell_type": "code",
   "execution_count": 186,
   "id": "713b109a-6fc5-4e68-9569-d12562d594ee",
   "metadata": {},
   "outputs": [
    {
     "name": "stdout",
     "output_type": "stream",
     "text": [
      "ARG 46\n",
      "BRA 213\n",
      "CHI 18\n"
     ]
    }
   ],
   "source": [
    "paises = {\"ARG\": 46, \"BRA\": 213, \"CHI\":18}\n",
    "\n",
    "for k, v in paises.items():\n",
    "    print(k, v)"
   ]
  },
  {
   "cell_type": "code",
   "execution_count": 194,
   "id": "30d222d1-40f0-4764-a197-8cc8456032ea",
   "metadata": {},
   "outputs": [
    {
     "name": "stdout",
     "output_type": "stream",
     "text": [
      "ARG 46\n",
      "BRA 213\n",
      "CHI 18\n"
     ]
    }
   ],
   "source": [
    "\n",
    "for k in paises:\n",
    "    print(k, paises[k])\n"
   ]
  },
  {
   "cell_type": "code",
   "execution_count": 190,
   "id": "9107241e-e151-4516-883a-cf518aa11e17",
   "metadata": {},
   "outputs": [
    {
     "data": {
      "text/plain": [
       "dict_items([('ARG', 46), ('BRA', 213), ('CHI', 18)])"
      ]
     },
     "execution_count": 190,
     "metadata": {},
     "output_type": "execute_result"
    }
   ],
   "source": [
    "paises.items()"
   ]
  },
  {
   "cell_type": "code",
   "execution_count": 196,
   "id": "16bcae54-6abb-4174-b895-3d251c888234",
   "metadata": {},
   "outputs": [
    {
     "data": {
      "text/plain": [
       "\u001b[1;31mType:\u001b[0m        dict\n",
       "\u001b[1;31mString form:\u001b[0m {'ARG': 46, 'BRA': 213, 'CHI': 18}\n",
       "\u001b[1;31mLength:\u001b[0m      3\n",
       "\u001b[1;31mDocstring:\u001b[0m  \n",
       "dict() -> new empty dictionary\n",
       "dict(mapping) -> new dictionary initialized from a mapping object's\n",
       "    (key, value) pairs\n",
       "dict(iterable) -> new dictionary initialized as if via:\n",
       "    d = {}\n",
       "    for k, v in iterable:\n",
       "        d[k] = v\n",
       "dict(**kwargs) -> new dictionary initialized with the name=value pairs\n",
       "    in the keyword argument list.  For example:  dict(one=1, two=2)"
      ]
     },
     "metadata": {},
     "output_type": "display_data"
    }
   ],
   "source": [
    "paises?"
   ]
  },
  {
   "cell_type": "code",
   "execution_count": 198,
   "id": "a02c1ca5-61b9-40b6-b1a9-c68d59567cf8",
   "metadata": {},
   "outputs": [
    {
     "name": "stdout",
     "output_type": "stream",
     "text": [
      "La suma de todos los valores del diccionario es: 100\n"
     ]
    }
   ],
   "source": [
    "# Crear un diccionario de ejemplo\n",
    "mi_diccionario = {\"a\": 10, \"b\": 20, \"c\": 30, \"d\": 40}\n",
    "\n",
    "# Inicializar una variable para almacenar la suma\n",
    "suma_total = 0\n",
    "\n",
    "# Recorrer el diccionario y sumar todos los valores\n",
    "for clave, valor in mi_diccionario.items():\n",
    "    suma_total += valor\n",
    "\n",
    "# Imprimir el resultado final\n",
    "print(f\"La suma de todos los valores del diccionario es: {suma_total}\")"
   ]
  },
  {
   "cell_type": "markdown",
   "id": "fbe932fd-8035-4a25-b4eb-b802f226f241",
   "metadata": {},
   "source": [
    "## Listas por comprension"
   ]
  },
  {
   "cell_type": "code",
   "execution_count": 215,
   "id": "1fc7a4db-40a6-4e4e-9805-4f52bdd43d67",
   "metadata": {},
   "outputs": [],
   "source": [
    "# Crear una lista con los 100 primeros multiplos de 7 y que sean divisibles por 2\n",
    "\n",
    "mul7 = [ i*7           for i in range(1,101)        if i*7%2 == 0  ]"
   ]
  },
  {
   "cell_type": "code",
   "execution_count": 217,
   "id": "a127cfd6-5a48-4f13-bc26-23034fdbbc58",
   "metadata": {},
   "outputs": [
    {
     "data": {
      "text/plain": [
       "[14,\n",
       " 28,\n",
       " 42,\n",
       " 56,\n",
       " 70,\n",
       " 84,\n",
       " 98,\n",
       " 112,\n",
       " 126,\n",
       " 140,\n",
       " 154,\n",
       " 168,\n",
       " 182,\n",
       " 196,\n",
       " 210,\n",
       " 224,\n",
       " 238,\n",
       " 252,\n",
       " 266,\n",
       " 280,\n",
       " 294,\n",
       " 308,\n",
       " 322,\n",
       " 336,\n",
       " 350,\n",
       " 364,\n",
       " 378,\n",
       " 392,\n",
       " 406,\n",
       " 420,\n",
       " 434,\n",
       " 448,\n",
       " 462,\n",
       " 476,\n",
       " 490,\n",
       " 504,\n",
       " 518,\n",
       " 532,\n",
       " 546,\n",
       " 560,\n",
       " 574,\n",
       " 588,\n",
       " 602,\n",
       " 616,\n",
       " 630,\n",
       " 644,\n",
       " 658,\n",
       " 672,\n",
       " 686,\n",
       " 700]"
      ]
     },
     "execution_count": 217,
     "metadata": {},
     "output_type": "execute_result"
    }
   ],
   "source": [
    "mul7"
   ]
  },
  {
   "cell_type": "code",
   "execution_count": 219,
   "id": "05fccac4-6d3f-471c-b809-a36d6e5005b9",
   "metadata": {},
   "outputs": [],
   "source": [
    "# Resolver un diccionario de frecuencias por diccionario por comprension\n",
    "\n",
    "lista = [\"C\", \"A\", \"B\", \"A\", \"B\", \"A\", \"B\", \"D\", \"D\", \"E\", \"A\", \"B\", \"A\", \"B\"]"
   ]
  },
  {
   "cell_type": "code",
   "execution_count": 233,
   "id": "caa169be-9f8a-4eb5-b87d-6a26e66f59f1",
   "metadata": {},
   "outputs": [],
   "source": [
    "resultado = { letra : lista.count(letra)         for letra in set(lista)   if letra != \"B\"   }"
   ]
  },
  {
   "cell_type": "code",
   "execution_count": 235,
   "id": "1983daa4-14a4-4bbe-a47f-3bcac871f61d",
   "metadata": {},
   "outputs": [
    {
     "data": {
      "text/plain": [
       "{'A': 5, 'E': 1, 'D': 2, 'C': 1}"
      ]
     },
     "execution_count": 235,
     "metadata": {},
     "output_type": "execute_result"
    }
   ],
   "source": [
    "resultado"
   ]
  },
  {
   "cell_type": "code",
   "execution_count": 225,
   "id": "a78e4051-6665-4d77-97e6-ea27161ef4e8",
   "metadata": {},
   "outputs": [
    {
     "data": {
      "text/plain": [
       "5"
      ]
     },
     "execution_count": 225,
     "metadata": {},
     "output_type": "execute_result"
    }
   ],
   "source": [
    "lista.count(\"B\")"
   ]
  },
  {
   "cell_type": "code",
   "execution_count": 229,
   "id": "472d8bf8-b0ce-4b23-bf58-86592e85a209",
   "metadata": {},
   "outputs": [
    {
     "data": {
      "text/plain": [
       "{'A', 'B', 'C', 'D', 'E'}"
      ]
     },
     "execution_count": 229,
     "metadata": {},
     "output_type": "execute_result"
    }
   ],
   "source": [
    "set(lista)"
   ]
  },
  {
   "cell_type": "markdown",
   "id": "9f846bdd-505f-4852-a4f1-c0d1721334ed",
   "metadata": {},
   "source": [
    "## Unpacking\n",
    "\n",
    "a, b, c = (1,2,3)"
   ]
  },
  {
   "cell_type": "code",
   "execution_count": 242,
   "id": "cc67cb59-941b-406d-a93b-706304f6f1d2",
   "metadata": {},
   "outputs": [],
   "source": [
    "a, b, c = (1,2,3)"
   ]
  },
  {
   "cell_type": "code",
   "execution_count": 244,
   "id": "0eb8507a-1156-4b11-bbb3-47eea7f53502",
   "metadata": {},
   "outputs": [
    {
     "data": {
      "text/plain": [
       "1"
      ]
     },
     "execution_count": 244,
     "metadata": {},
     "output_type": "execute_result"
    }
   ],
   "source": [
    "a"
   ]
  },
  {
   "cell_type": "code",
   "execution_count": 246,
   "id": "4e6a826e-cb1d-4167-83c7-38f27f0f77b5",
   "metadata": {},
   "outputs": [
    {
     "data": {
      "text/plain": [
       "2"
      ]
     },
     "execution_count": 246,
     "metadata": {},
     "output_type": "execute_result"
    }
   ],
   "source": [
    "b"
   ]
  },
  {
   "cell_type": "code",
   "execution_count": 250,
   "id": "d58bd703-07bf-417e-9626-4ec12d1dc89b",
   "metadata": {},
   "outputs": [],
   "source": [
    "lista = [1,2,3,4]"
   ]
  },
  {
   "cell_type": "code",
   "execution_count": 256,
   "id": "fc866649-8701-4ce4-9461-a2e4e28199e2",
   "metadata": {},
   "outputs": [
    {
     "data": {
      "text/plain": [
       "4"
      ]
     },
     "execution_count": 256,
     "metadata": {},
     "output_type": "execute_result"
    }
   ],
   "source": [
    "max(lista)"
   ]
  },
  {
   "cell_type": "code",
   "execution_count": 260,
   "id": "03acd352-dda2-4d1e-859e-f8df87c9e755",
   "metadata": {},
   "outputs": [
    {
     "data": {
      "text/plain": [
       "4"
      ]
     },
     "execution_count": 260,
     "metadata": {},
     "output_type": "execute_result"
    }
   ],
   "source": [
    "len(lista)"
   ]
  },
  {
   "cell_type": "code",
   "execution_count": 262,
   "id": "34829324-831d-4b3d-8241-e38b1991e568",
   "metadata": {},
   "outputs": [
    {
     "data": {
      "text/plain": [
       "2.5"
      ]
     },
     "execution_count": 262,
     "metadata": {},
     "output_type": "execute_result"
    }
   ],
   "source": [
    "sum(lista)/len(lista)"
   ]
  },
  {
   "cell_type": "markdown",
   "id": "d78c41eb-bf16-40bb-85e8-91f9eced41fb",
   "metadata": {},
   "source": [
    "# Módulo 2"
   ]
  },
  {
   "cell_type": "code",
   "execution_count": 271,
   "id": "368c173d-65fa-434b-8c7a-1784bdb5bf02",
   "metadata": {},
   "outputs": [],
   "source": [
    "def cuadrado(n):\n",
    "    return n**2\n",
    "\n",
    "def cubo(n):\n",
    "    return n**3"
   ]
  },
  {
   "cell_type": "code",
   "execution_count": 267,
   "id": "2689861f-9462-443d-8cd9-3167ca93a587",
   "metadata": {},
   "outputs": [
    {
     "name": "stdout",
     "output_type": "stream",
     "text": [
      "25\n"
     ]
    }
   ],
   "source": [
    "print(cuadrado(5))"
   ]
  },
  {
   "cell_type": "code",
   "execution_count": 269,
   "id": "ac5246f3-85dc-48e6-9ceb-0670ab62acb2",
   "metadata": {},
   "outputs": [
    {
     "name": "stdout",
     "output_type": "stream",
     "text": [
      "100\n"
     ]
    }
   ],
   "source": [
    "print(cuadrado(10))"
   ]
  },
  {
   "cell_type": "code",
   "execution_count": 277,
   "id": "f06d8af3-19fd-4afb-b1c8-7d9f1eea1250",
   "metadata": {},
   "outputs": [
    {
     "name": "stdout",
     "output_type": "stream",
     "text": [
      "512\n"
     ]
    }
   ],
   "source": [
    "print(cubo(8))"
   ]
  },
  {
   "cell_type": "code",
   "execution_count": 283,
   "id": "542b4bb7-af95-4d7f-bac3-066448e699cc",
   "metadata": {},
   "outputs": [
    {
     "name": "stdout",
     "output_type": "stream",
     "text": [
      "Fin de Programa\n"
     ]
    }
   ],
   "source": [
    "def polinomio(x, y):\n",
    "    pass\n",
    "\n",
    "print(\"Fin de Programa\")"
   ]
  },
  {
   "cell_type": "code",
   "execution_count": 287,
   "id": "049a87d8-0745-414d-884c-3518e164f0b0",
   "metadata": {},
   "outputs": [
    {
     "name": "stdout",
     "output_type": "stream",
     "text": [
      "12\n"
     ]
    }
   ],
   "source": [
    "# Argumentos\n",
    "\n",
    "def resta(a, b):\n",
    "    return a - b\n",
    "\n",
    "\n",
    "print(resta(b=3, a=15))"
   ]
  },
  {
   "cell_type": "code",
   "execution_count": 295,
   "id": "0b6196cb-b5b9-4b57-b744-d19730e2e7ed",
   "metadata": {},
   "outputs": [
    {
     "name": "stdout",
     "output_type": "stream",
     "text": [
      "32\n"
     ]
    }
   ],
   "source": [
    "# Argumentos opcionales \n",
    "\n",
    "def potencia(base, exponente=2):\n",
    "    return base**exponente\n",
    "\n",
    "print(potencia(2, 5))"
   ]
  },
  {
   "cell_type": "code",
   "execution_count": 301,
   "id": "082aaa41-bd67-42cf-9ce9-741c6dcf0da1",
   "metadata": {},
   "outputs": [
    {
     "name": "stdout",
     "output_type": "stream",
     "text": [
      "(1, 2, 3, 4, 5, 6, 7, 8, 9, 10, 11)\n",
      "66\n"
     ]
    }
   ],
   "source": [
    "# Cantidad indefinidad de argumentos\n",
    "\n",
    "def sumar(*args):\n",
    "    print(args)\n",
    "    return sum(args)\n",
    "\n",
    "\n",
    "print(sumar(1,2,3,4,5,6,7,8,9,10,11))"
   ]
  },
  {
   "cell_type": "code",
   "execution_count": 305,
   "id": "14c0fa08-daf5-44d6-a2e1-f765bd45927b",
   "metadata": {},
   "outputs": [
    {
     "name": "stdout",
     "output_type": "stream",
     "text": [
      "{'PEPE': 'gomez', 'JUAN': 'perez', 'ALBERTO': 'rodriguez'}\n"
     ]
    }
   ],
   "source": [
    "# Keyword arguments\n",
    "\n",
    "def mostrar(**kwargs):\n",
    "    #print(kwargs)\n",
    "    return { k.upper(): v.lower()  for k, v in kwargs.items() } \n",
    "\n",
    "\n",
    "print(mostrar( pepe=\"GOMEZ\", juan=\"PEREZ\", alberto=\"Rodriguez\"))"
   ]
  },
  {
   "cell_type": "markdown",
   "id": "e61b2e21-b832-4dc9-af5e-461b81a8c33b",
   "metadata": {},
   "source": [
    "## Funciones de Orden Superior\n",
    "\n",
    "- Reciba como parametro otra función\n",
    "- En Python todo es un objeto\n",
    "\n",
    "1. map\n",
    "2. filter\n",
    "3. sorted"
   ]
  },
  {
   "cell_type": "code",
   "execution_count": 314,
   "id": "6dd4d43a-52a7-4b69-b4f1-5b0f60ab6dd5",
   "metadata": {},
   "outputs": [
    {
     "name": "stdout",
     "output_type": "stream",
     "text": [
      "[27, 125, 216, 343]\n"
     ]
    }
   ],
   "source": [
    "def cuadrado(n):\n",
    "    return n**2\n",
    "\n",
    "def cubo(n):\n",
    "    return n**3\n",
    "\n",
    "numeros = [3,5,6,7]\n",
    "\n",
    "print( list(map(cubo, numeros)) )\n"
   ]
  },
  {
   "cell_type": "code",
   "execution_count": 322,
   "id": "4a7e4ec8-9436-4830-aea4-19e253b450e4",
   "metadata": {
    "scrolled": true
   },
   "outputs": [
    {
     "name": "stdout",
     "output_type": "stream",
     "text": [
      "[1840, 2000, 2020]\n"
     ]
    }
   ],
   "source": [
    "\n",
    "def bisiesto(anio):\n",
    "    if  anio%400==0:\n",
    "        return True\n",
    "    else:\n",
    "        if  anio%4==0 and anio%100!=0:\n",
    "            return True\n",
    "    return False\n",
    "\n",
    "anios = [1800,1840,1871,1999,2000,2020,2021]\n",
    "\n",
    "print(  list(filter(bisiesto, anios)) )"
   ]
  },
  {
   "cell_type": "code",
   "execution_count": 326,
   "id": "349dc7aa-4b5f-4fc5-bf00-4f8018724b09",
   "metadata": {},
   "outputs": [
    {
     "data": {
      "text/plain": [
       "[[2, 6, 8, 1], [1, 2, 3, 4, 5], [9, 10, 20, 30]]"
      ]
     },
     "execution_count": 326,
     "metadata": {},
     "output_type": "execute_result"
    }
   ],
   "source": [
    "def producto(lista):\n",
    "    resultado = 1\n",
    "    for i in lista:\n",
    "        resultado *= i\n",
    "    return resultado\n",
    "        \n",
    "lnumeros = [[2,6,8,1],[9,10,20,30],[1,2,3,4,5]]\n",
    "\n",
    "\n",
    "sorted(lnumeros, key=producto)"
   ]
  },
  {
   "cell_type": "code",
   "execution_count": 334,
   "id": "0f27733c-166d-4db3-ac09-610451ca2f33",
   "metadata": {},
   "outputs": [
    {
     "data": {
      "text/plain": [
       "['Alejandro Alonso',\n",
       " 'Pedro Gonzalez',\n",
       " 'Juan Perez',\n",
       " 'Maria Richard',\n",
       " 'Ana Zarasa']"
      ]
     },
     "execution_count": 334,
     "metadata": {},
     "output_type": "execute_result"
    }
   ],
   "source": [
    "def apellido(n_a):\n",
    "    return n_a.split()[-1]\n",
    "\n",
    "nombres = [\"Juan Perez\", \"Ana Zarasa\", \"Pedro Gonzalez\", \"Maria Richard\", \"Alejandro Alonso\"]\n",
    "\n",
    "sorted(nombres, key=apellido)"
   ]
  },
  {
   "cell_type": "code",
   "execution_count": 336,
   "id": "91adb8c8-1d3a-4a0b-8edb-4ce5da518490",
   "metadata": {},
   "outputs": [
    {
     "data": {
      "text/plain": [
       "'PEREZ'"
      ]
     },
     "execution_count": 336,
     "metadata": {},
     "output_type": "execute_result"
    }
   ],
   "source": [
    "\"JUAN PEREZ\".split()[-1]"
   ]
  },
  {
   "cell_type": "markdown",
   "id": "0b3ca45a-36b0-4b28-acba-b989439e0c89",
   "metadata": {},
   "source": [
    "## Funciones anónimas"
   ]
  },
  {
   "cell_type": "code",
   "execution_count": 341,
   "id": "770aa248-cc4f-43e0-af7f-91d8e7df8b5a",
   "metadata": {},
   "outputs": [],
   "source": [
    "cuadrado = lambda x : x**2"
   ]
  },
  {
   "cell_type": "code",
   "execution_count": 347,
   "id": "bb3d9a25-70bb-4719-9f36-16e21cf3481e",
   "metadata": {},
   "outputs": [
    {
     "data": {
      "text/plain": [
       "['Alejandro Alonso',\n",
       " 'Pedro Gonzalez',\n",
       " 'Juan Perez',\n",
       " 'Maria Richard',\n",
       " 'Ana Zarasa']"
      ]
     },
     "execution_count": 347,
     "metadata": {},
     "output_type": "execute_result"
    }
   ],
   "source": [
    "sorted(nombres, key=lambda x: x.split()[-1] )"
   ]
  },
  {
   "cell_type": "code",
   "execution_count": 349,
   "id": "5320be03-088f-459b-a72b-c23069895ba2",
   "metadata": {},
   "outputs": [
    {
     "name": "stdout",
     "output_type": "stream",
     "text": [
      "['higo', 'limon', 'tomate', 'anana']\n"
     ]
    }
   ],
   "source": [
    "\n",
    "frutas = [\"higo\", \"anana\", \"limon\", \"tomate\"]\n",
    "frutas.sort(key=lambda x:x[::-1], reverse=True)\n",
    "print(frutas)"
   ]
  },
  {
   "cell_type": "code",
   "execution_count": 359,
   "id": "416a4e00-f7a6-4823-bf04-268d79013dbc",
   "metadata": {},
   "outputs": [
    {
     "name": "stdout",
     "output_type": "stream",
     "text": [
      "['Juan', 'Ricardo', 'Ana', 'Alberto', 'Maria', 'Juana']\n"
     ]
    }
   ],
   "source": [
    "nombres = [\"jUan\", \" ricardo\", \"ANA\", \"aLberto  \", \" maria\", \"Juana\"]\n",
    "print(list( map(lambda x: x.strip().title(), nombres)  ))"
   ]
  },
  {
   "cell_type": "code",
   "execution_count": 357,
   "id": "e9121d69-5a6c-4809-a1ae-49a0cc0b753f",
   "metadata": {},
   "outputs": [
    {
     "data": {
      "text/plain": [
       "'Pedro Picapiedra'"
      ]
     },
     "execution_count": 357,
     "metadata": {},
     "output_type": "execute_result"
    }
   ],
   "source": [
    "\"         pedro picAPiedRA   \".strip().title()"
   ]
  },
  {
   "cell_type": "code",
   "execution_count": 380,
   "id": "e910ed95-e604-4669-9fef-40273d2d3782",
   "metadata": {},
   "outputs": [
    {
     "name": "stdout",
     "output_type": "stream",
     "text": [
      "30\n",
      "18\n",
      "11\n",
      "59\n",
      "88\n",
      "75\n",
      "8\n",
      "57\n",
      "31\n",
      "51\n",
      "35\n",
      "85\n",
      "48\n",
      "11\n",
      "5\n",
      "69\n",
      "69\n",
      "50\n",
      "40\n",
      "100\n",
      "77\n",
      "60\n",
      "84\n",
      "41\n",
      "22\n",
      "91\n",
      "27\n",
      "19\n",
      "43\n",
      "86\n",
      "33\n",
      "93\n",
      "100\n",
      "66\n",
      "28\n",
      "14\n",
      "91\n",
      "7\n",
      "49\n",
      "84\n",
      "61\n",
      "91\n",
      "76\n",
      "1\n",
      "100\n",
      "82\n",
      "77\n",
      "56\n",
      "12\n",
      "37\n",
      "30\n",
      "60\n",
      "94\n",
      "51\n",
      "69\n",
      "88\n",
      "59\n",
      "23\n",
      "4\n",
      "7\n",
      "3\n",
      "96\n",
      "73\n",
      "57\n",
      "4\n",
      "93\n",
      "12\n",
      "22\n",
      "61\n",
      "88\n",
      "49\n",
      "63\n",
      "93\n",
      "86\n",
      "69\n",
      "84\n",
      "52\n",
      "32\n",
      "1\n",
      "1\n",
      "45\n",
      "28\n",
      "2\n",
      "36\n",
      "16\n",
      "40\n",
      "37\n",
      "56\n",
      "89\n",
      "24\n",
      "67\n",
      "33\n",
      "59\n",
      "74\n",
      "45\n",
      "44\n",
      "42\n",
      "17\n",
      "53\n",
      "77\n"
     ]
    }
   ],
   "source": [
    "import random \n",
    "\n",
    "for i in range(100):\n",
    "    print (random.randint(1,100))"
   ]
  },
  {
   "cell_type": "code",
   "execution_count": 384,
   "id": "217755ae-b808-43cd-85fc-ff40de2055d4",
   "metadata": {},
   "outputs": [
    {
     "name": "stdout",
     "output_type": "stream",
     "text": [
      "10.0\n"
     ]
    }
   ],
   "source": [
    "from math import sqrt, sin\n",
    "\n",
    "print(sqrt(100))"
   ]
  },
  {
   "cell_type": "markdown",
   "id": "a3fdefce-49a4-4e14-a31f-189842409cc8",
   "metadata": {},
   "source": [
    "# Librerias / Modulos (numpy, pandas, matplotlib)\n",
    "## SubModulos (pyplot)\n",
    "\n",
    "- Usar dentro del programa son funciones, constantes, variables, clases, estructuras"
   ]
  },
  {
   "cell_type": "code",
   "execution_count": null,
   "id": "03672c58-4195-4c43-944b-125de30712e3",
   "metadata": {},
   "outputs": [],
   "source": []
  }
 ],
 "metadata": {
  "kernelspec": {
   "display_name": "Python [conda env:base] *",
   "language": "python",
   "name": "conda-base-py"
  },
  "language_info": {
   "codemirror_mode": {
    "name": "ipython",
    "version": 3
   },
   "file_extension": ".py",
   "mimetype": "text/x-python",
   "name": "python",
   "nbconvert_exporter": "python",
   "pygments_lexer": "ipython3",
   "version": "3.12.7"
  }
 },
 "nbformat": 4,
 "nbformat_minor": 5
}
