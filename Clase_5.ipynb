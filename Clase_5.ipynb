{
 "cells": [
  {
   "cell_type": "markdown",
   "id": "be497427-d4d3-4353-88e7-f449c45b0cef",
   "metadata": {},
   "source": [
    "# Clase 5 - Pandas"
   ]
  },
  {
   "cell_type": "code",
   "execution_count": 3,
   "id": "ce4bce2c-b282-4d1e-bba4-9360d6965bbc",
   "metadata": {},
   "outputs": [],
   "source": [
    "import numpy as np\n",
    "import pandas as pd"
   ]
  },
  {
   "cell_type": "code",
   "execution_count": 5,
   "id": "2d08d5ea-7230-44e1-a701-f892f6e65019",
   "metadata": {},
   "outputs": [],
   "source": [
    "data = pd.read_csv(\"titanic.csv\")"
   ]
  },
  {
   "cell_type": "code",
   "execution_count": 7,
   "id": "7579a8bb-a6de-463c-9f32-17afe8aa32dc",
   "metadata": {},
   "outputs": [
    {
     "name": "stdout",
     "output_type": "stream",
     "text": [
      "<class 'pandas.core.frame.DataFrame'>\n",
      "RangeIndex: 891 entries, 0 to 890\n",
      "Data columns (total 12 columns):\n",
      " #   Column       Non-Null Count  Dtype  \n",
      "---  ------       --------------  -----  \n",
      " 0   PassengerId  891 non-null    int64  \n",
      " 1   Survived     891 non-null    int64  \n",
      " 2   Pclass       891 non-null    int64  \n",
      " 3   Name         891 non-null    object \n",
      " 4   Sex          891 non-null    object \n",
      " 5   Age          714 non-null    float64\n",
      " 6   SibSp        891 non-null    int64  \n",
      " 7   Parch        891 non-null    int64  \n",
      " 8   Ticket       891 non-null    object \n",
      " 9   Fare         891 non-null    float64\n",
      " 10  Cabin        204 non-null    object \n",
      " 11  Embarked     889 non-null    object \n",
      "dtypes: float64(2), int64(5), object(5)\n",
      "memory usage: 83.7+ KB\n"
     ]
    }
   ],
   "source": [
    "data.info()"
   ]
  },
  {
   "cell_type": "code",
   "execution_count": 13,
   "id": "87010165-38ed-466b-848a-0fad5a936712",
   "metadata": {},
   "outputs": [
    {
     "data": {
      "text/plain": [
       "216"
      ]
     },
     "execution_count": 13,
     "metadata": {},
     "output_type": "execute_result"
    }
   ],
   "source": [
    "data.loc[(data[\"Pclass\"]==1), \"PassengerId\"].count()"
   ]
  },
  {
   "cell_type": "code",
   "execution_count": 15,
   "id": "f9f66356-be57-4ed3-a0f9-87d03010fc2c",
   "metadata": {},
   "outputs": [
    {
     "data": {
      "text/plain": [
       "184"
      ]
     },
     "execution_count": 15,
     "metadata": {},
     "output_type": "execute_result"
    }
   ],
   "source": [
    "data.loc[(data[\"Pclass\"]==2), \"PassengerId\"].count()"
   ]
  },
  {
   "cell_type": "code",
   "execution_count": 17,
   "id": "c3b6f3f9-609f-4e3c-a52e-b0789ca2f0fa",
   "metadata": {},
   "outputs": [
    {
     "data": {
      "text/plain": [
       "491"
      ]
     },
     "execution_count": 17,
     "metadata": {},
     "output_type": "execute_result"
    }
   ],
   "source": [
    "data.loc[(data[\"Pclass\"]==3), \"PassengerId\"].count()"
   ]
  },
  {
   "cell_type": "code",
   "execution_count": 19,
   "id": "5f16b590-e6fb-4917-a12b-7008c14aec6f",
   "metadata": {},
   "outputs": [
    {
     "data": {
      "text/plain": [
       "0.6296296296296297"
      ]
     },
     "execution_count": 19,
     "metadata": {},
     "output_type": "execute_result"
    }
   ],
   "source": [
    "136/216"
   ]
  },
  {
   "cell_type": "code",
   "execution_count": 21,
   "id": "c2002dc6-2b3f-455b-8928-418e2fb3e194",
   "metadata": {},
   "outputs": [
    {
     "data": {
      "text/plain": [
       "0.47282608695652173"
      ]
     },
     "execution_count": 21,
     "metadata": {},
     "output_type": "execute_result"
    }
   ],
   "source": [
    "87/184"
   ]
  },
  {
   "cell_type": "code",
   "execution_count": 23,
   "id": "f7889fe4-95af-44d7-a356-e438754acb5e",
   "metadata": {},
   "outputs": [
    {
     "data": {
      "text/plain": [
       "0.24236252545824846"
      ]
     },
     "execution_count": 23,
     "metadata": {},
     "output_type": "execute_result"
    }
   ],
   "source": [
    "119/491"
   ]
  },
  {
   "cell_type": "markdown",
   "id": "afa3b3e5-3fa4-48a0-b89c-0291f4a444bb",
   "metadata": {},
   "source": [
    "## Aggregate"
   ]
  },
  {
   "cell_type": "code",
   "execution_count": 26,
   "id": "b0e05e38-8265-4c69-93fb-7e5e9f97dc1c",
   "metadata": {},
   "outputs": [
    {
     "data": {
      "text/html": [
       "<div>\n",
       "<style scoped>\n",
       "    .dataframe tbody tr th:only-of-type {\n",
       "        vertical-align: middle;\n",
       "    }\n",
       "\n",
       "    .dataframe tbody tr th {\n",
       "        vertical-align: top;\n",
       "    }\n",
       "\n",
       "    .dataframe thead th {\n",
       "        text-align: right;\n",
       "    }\n",
       "</style>\n",
       "<table border=\"1\" class=\"dataframe\">\n",
       "  <thead>\n",
       "    <tr style=\"text-align: right;\">\n",
       "      <th></th>\n",
       "      <th>PassengerId</th>\n",
       "      <th>Survived</th>\n",
       "      <th>Pclass</th>\n",
       "      <th>Age</th>\n",
       "      <th>SibSp</th>\n",
       "      <th>Parch</th>\n",
       "      <th>Fare</th>\n",
       "    </tr>\n",
       "  </thead>\n",
       "  <tbody>\n",
       "    <tr>\n",
       "      <th>sum</th>\n",
       "      <td>397386.0</td>\n",
       "      <td>342.000000</td>\n",
       "      <td>2057.000000</td>\n",
       "      <td>21205.170000</td>\n",
       "      <td>466.000000</td>\n",
       "      <td>340.000000</td>\n",
       "      <td>28693.949300</td>\n",
       "    </tr>\n",
       "    <tr>\n",
       "      <th>min</th>\n",
       "      <td>1.0</td>\n",
       "      <td>0.000000</td>\n",
       "      <td>1.000000</td>\n",
       "      <td>0.420000</td>\n",
       "      <td>0.000000</td>\n",
       "      <td>0.000000</td>\n",
       "      <td>0.000000</td>\n",
       "    </tr>\n",
       "    <tr>\n",
       "      <th>max</th>\n",
       "      <td>891.0</td>\n",
       "      <td>1.000000</td>\n",
       "      <td>3.000000</td>\n",
       "      <td>80.000000</td>\n",
       "      <td>8.000000</td>\n",
       "      <td>6.000000</td>\n",
       "      <td>512.329200</td>\n",
       "    </tr>\n",
       "    <tr>\n",
       "      <th>var</th>\n",
       "      <td>66231.0</td>\n",
       "      <td>0.236772</td>\n",
       "      <td>0.699015</td>\n",
       "      <td>211.019125</td>\n",
       "      <td>1.216043</td>\n",
       "      <td>0.649728</td>\n",
       "      <td>2469.436846</td>\n",
       "    </tr>\n",
       "    <tr>\n",
       "      <th>mean</th>\n",
       "      <td>446.0</td>\n",
       "      <td>0.383838</td>\n",
       "      <td>2.308642</td>\n",
       "      <td>29.699118</td>\n",
       "      <td>0.523008</td>\n",
       "      <td>0.381594</td>\n",
       "      <td>32.204208</td>\n",
       "    </tr>\n",
       "    <tr>\n",
       "      <th>count</th>\n",
       "      <td>891.0</td>\n",
       "      <td>891.000000</td>\n",
       "      <td>891.000000</td>\n",
       "      <td>714.000000</td>\n",
       "      <td>891.000000</td>\n",
       "      <td>891.000000</td>\n",
       "      <td>891.000000</td>\n",
       "    </tr>\n",
       "  </tbody>\n",
       "</table>\n",
       "</div>"
      ],
      "text/plain": [
       "       PassengerId    Survived       Pclass           Age       SibSp  \\\n",
       "sum       397386.0  342.000000  2057.000000  21205.170000  466.000000   \n",
       "min            1.0    0.000000     1.000000      0.420000    0.000000   \n",
       "max          891.0    1.000000     3.000000     80.000000    8.000000   \n",
       "var        66231.0    0.236772     0.699015    211.019125    1.216043   \n",
       "mean         446.0    0.383838     2.308642     29.699118    0.523008   \n",
       "count        891.0  891.000000   891.000000    714.000000  891.000000   \n",
       "\n",
       "            Parch          Fare  \n",
       "sum    340.000000  28693.949300  \n",
       "min      0.000000      0.000000  \n",
       "max      6.000000    512.329200  \n",
       "var      0.649728   2469.436846  \n",
       "mean     0.381594     32.204208  \n",
       "count  891.000000    891.000000  "
      ]
     },
     "execution_count": 26,
     "metadata": {},
     "output_type": "execute_result"
    }
   ],
   "source": [
    "data.select_dtypes(\"number\").aggregate([\"sum\", \"min\", \"max\", \"var\", \"mean\", \"count\"])"
   ]
  },
  {
   "cell_type": "code",
   "execution_count": 28,
   "id": "780862d0-2c51-4afb-97b3-f88f2438ac0f",
   "metadata": {},
   "outputs": [
    {
     "name": "stderr",
     "output_type": "stream",
     "text": [
      "C:\\Users\\Norman Beltran\\AppData\\Local\\Temp\\ipykernel_2548\\4123814486.py:1: FutureWarning: The provided callable <function sum at 0x0000029DDD9C5300> is currently using Series.sum. In a future version of pandas, the provided callable will be used directly. To keep current behavior pass the string \"sum\" instead.\n",
      "  data.select_dtypes(\"number\").aggregate({\"Survived\": np.sum, \"Age\": np.mean})\n",
      "C:\\Users\\Norman Beltran\\AppData\\Local\\Temp\\ipykernel_2548\\4123814486.py:1: FutureWarning: The provided callable <function mean at 0x0000029DDD9C63E0> is currently using Series.mean. In a future version of pandas, the provided callable will be used directly. To keep current behavior pass the string \"mean\" instead.\n",
      "  data.select_dtypes(\"number\").aggregate({\"Survived\": np.sum, \"Age\": np.mean})\n"
     ]
    },
    {
     "data": {
      "text/plain": [
       "Survived    342.000000\n",
       "Age          29.699118\n",
       "dtype: float64"
      ]
     },
     "execution_count": 28,
     "metadata": {},
     "output_type": "execute_result"
    }
   ],
   "source": [
    "data.select_dtypes(\"number\").aggregate({\"Survived\": np.sum, \"Age\": np.mean})"
   ]
  },
  {
   "cell_type": "code",
   "execution_count": 34,
   "id": "f0a20b23-e27d-40d0-a926-3956bf35c221",
   "metadata": {},
   "outputs": [
    {
     "data": {
      "text/html": [
       "<div>\n",
       "<style scoped>\n",
       "    .dataframe tbody tr th:only-of-type {\n",
       "        vertical-align: middle;\n",
       "    }\n",
       "\n",
       "    .dataframe tbody tr th {\n",
       "        vertical-align: top;\n",
       "    }\n",
       "\n",
       "    .dataframe thead th {\n",
       "        text-align: right;\n",
       "    }\n",
       "</style>\n",
       "<table border=\"1\" class=\"dataframe\">\n",
       "  <thead>\n",
       "    <tr style=\"text-align: right;\">\n",
       "      <th></th>\n",
       "      <th>Age</th>\n",
       "      <th>Survived</th>\n",
       "    </tr>\n",
       "  </thead>\n",
       "  <tbody>\n",
       "    <tr>\n",
       "      <th>sum</th>\n",
       "      <td>21205.170000</td>\n",
       "      <td>342.000000</td>\n",
       "    </tr>\n",
       "    <tr>\n",
       "      <th>mean</th>\n",
       "      <td>29.699118</td>\n",
       "      <td>0.383838</td>\n",
       "    </tr>\n",
       "  </tbody>\n",
       "</table>\n",
       "</div>"
      ],
      "text/plain": [
       "               Age    Survived\n",
       "sum   21205.170000  342.000000\n",
       "mean     29.699118    0.383838"
      ]
     },
     "execution_count": 34,
     "metadata": {},
     "output_type": "execute_result"
    }
   ],
   "source": [
    "data.select_dtypes(\"number\").aggregate({\"Age\": [\"sum\", \"mean\"], \"Survived\": [\"sum\", \"mean\"]})"
   ]
  },
  {
   "cell_type": "markdown",
   "id": "e5f2615b-5c94-4f59-9404-04833a14237e",
   "metadata": {},
   "source": [
    "## value_counts()"
   ]
  },
  {
   "cell_type": "code",
   "execution_count": 37,
   "id": "80c12b08-db8f-47b7-9c5d-e2a9b397cd7f",
   "metadata": {},
   "outputs": [],
   "source": [
    "df = pd.DataFrame({'num_patas': [2, 4, 4, 6, 4, 2],\n",
    "                   'num_alas': [2, 0, 0, 0, 0, 2]},\n",
    "                  index=['halcon', 'perro', 'gato', 'hormiga', 'caballo', 'loro'])"
   ]
  },
  {
   "cell_type": "code",
   "execution_count": 39,
   "id": "91854b66-3bba-4aae-b091-dd55da4f6e5f",
   "metadata": {},
   "outputs": [
    {
     "data": {
      "text/html": [
       "<div>\n",
       "<style scoped>\n",
       "    .dataframe tbody tr th:only-of-type {\n",
       "        vertical-align: middle;\n",
       "    }\n",
       "\n",
       "    .dataframe tbody tr th {\n",
       "        vertical-align: top;\n",
       "    }\n",
       "\n",
       "    .dataframe thead th {\n",
       "        text-align: right;\n",
       "    }\n",
       "</style>\n",
       "<table border=\"1\" class=\"dataframe\">\n",
       "  <thead>\n",
       "    <tr style=\"text-align: right;\">\n",
       "      <th></th>\n",
       "      <th>num_patas</th>\n",
       "      <th>num_alas</th>\n",
       "    </tr>\n",
       "  </thead>\n",
       "  <tbody>\n",
       "    <tr>\n",
       "      <th>halcon</th>\n",
       "      <td>2</td>\n",
       "      <td>2</td>\n",
       "    </tr>\n",
       "    <tr>\n",
       "      <th>perro</th>\n",
       "      <td>4</td>\n",
       "      <td>0</td>\n",
       "    </tr>\n",
       "    <tr>\n",
       "      <th>gato</th>\n",
       "      <td>4</td>\n",
       "      <td>0</td>\n",
       "    </tr>\n",
       "    <tr>\n",
       "      <th>hormiga</th>\n",
       "      <td>6</td>\n",
       "      <td>0</td>\n",
       "    </tr>\n",
       "    <tr>\n",
       "      <th>caballo</th>\n",
       "      <td>4</td>\n",
       "      <td>0</td>\n",
       "    </tr>\n",
       "    <tr>\n",
       "      <th>loro</th>\n",
       "      <td>2</td>\n",
       "      <td>2</td>\n",
       "    </tr>\n",
       "  </tbody>\n",
       "</table>\n",
       "</div>"
      ],
      "text/plain": [
       "         num_patas  num_alas\n",
       "halcon           2         2\n",
       "perro            4         0\n",
       "gato             4         0\n",
       "hormiga          6         0\n",
       "caballo          4         0\n",
       "loro             2         2"
      ]
     },
     "execution_count": 39,
     "metadata": {},
     "output_type": "execute_result"
    }
   ],
   "source": [
    "df"
   ]
  },
  {
   "cell_type": "code",
   "execution_count": 41,
   "id": "f9c1c73f-a1db-4c30-aa70-d1e17dd20860",
   "metadata": {},
   "outputs": [
    {
     "data": {
      "text/plain": [
       "num_patas  num_alas\n",
       "4          0           3\n",
       "2          2           2\n",
       "6          0           1\n",
       "Name: count, dtype: int64"
      ]
     },
     "execution_count": 41,
     "metadata": {},
     "output_type": "execute_result"
    }
   ],
   "source": [
    "df.value_counts()"
   ]
  },
  {
   "cell_type": "code",
   "execution_count": 45,
   "id": "e3f4478a-6c9f-4bd0-a5c0-9508fbdcb0d0",
   "metadata": {},
   "outputs": [
    {
     "data": {
      "text/plain": [
       "num_patas  num_alas\n",
       "4          0           0.500000\n",
       "2          2           0.333333\n",
       "6          0           0.166667\n",
       "Name: proportion, dtype: float64"
      ]
     },
     "execution_count": 45,
     "metadata": {},
     "output_type": "execute_result"
    }
   ],
   "source": [
    "df.value_counts(normalize=True)"
   ]
  },
  {
   "cell_type": "markdown",
   "id": "d5bc9894-da05-455e-9bbb-db7dfc2b9241",
   "metadata": {},
   "source": [
    "## Group By"
   ]
  },
  {
   "cell_type": "code",
   "execution_count": 48,
   "id": "dee1b481-d6c9-49d4-970e-dcf1d1051c98",
   "metadata": {},
   "outputs": [],
   "source": [
    "data_groupby_sex = data.groupby(\"Sex\")"
   ]
  },
  {
   "cell_type": "code",
   "execution_count": 50,
   "id": "9834e5ba-a588-47ea-a45c-fb7395593a6f",
   "metadata": {},
   "outputs": [
    {
     "data": {
      "text/plain": [
       "pandas.core.groupby.generic.DataFrameGroupBy"
      ]
     },
     "execution_count": 50,
     "metadata": {},
     "output_type": "execute_result"
    }
   ],
   "source": [
    "type(data_groupby_sex)"
   ]
  },
  {
   "cell_type": "code",
   "execution_count": 52,
   "id": "1a541770-f31c-47fd-b920-fa5579e2e8be",
   "metadata": {},
   "outputs": [
    {
     "data": {
      "text/plain": [
       "<pandas.core.groupby.generic.DataFrameGroupBy object at 0x0000029DE00A0560>"
      ]
     },
     "execution_count": 52,
     "metadata": {},
     "output_type": "execute_result"
    }
   ],
   "source": [
    "data_groupby_sex"
   ]
  },
  {
   "cell_type": "code",
   "execution_count": 54,
   "id": "8ee43263-33f7-439b-96b4-681847d0b8f7",
   "metadata": {},
   "outputs": [
    {
     "data": {
      "text/html": [
       "<div>\n",
       "<style scoped>\n",
       "    .dataframe tbody tr th:only-of-type {\n",
       "        vertical-align: middle;\n",
       "    }\n",
       "\n",
       "    .dataframe tbody tr th {\n",
       "        vertical-align: top;\n",
       "    }\n",
       "\n",
       "    .dataframe thead th {\n",
       "        text-align: right;\n",
       "    }\n",
       "</style>\n",
       "<table border=\"1\" class=\"dataframe\">\n",
       "  <thead>\n",
       "    <tr style=\"text-align: right;\">\n",
       "      <th></th>\n",
       "      <th>PassengerId</th>\n",
       "      <th>Survived</th>\n",
       "      <th>Pclass</th>\n",
       "      <th>Name</th>\n",
       "      <th>Age</th>\n",
       "      <th>SibSp</th>\n",
       "      <th>Parch</th>\n",
       "      <th>Ticket</th>\n",
       "      <th>Fare</th>\n",
       "      <th>Cabin</th>\n",
       "      <th>Embarked</th>\n",
       "    </tr>\n",
       "    <tr>\n",
       "      <th>Sex</th>\n",
       "      <th></th>\n",
       "      <th></th>\n",
       "      <th></th>\n",
       "      <th></th>\n",
       "      <th></th>\n",
       "      <th></th>\n",
       "      <th></th>\n",
       "      <th></th>\n",
       "      <th></th>\n",
       "      <th></th>\n",
       "      <th></th>\n",
       "    </tr>\n",
       "  </thead>\n",
       "  <tbody>\n",
       "    <tr>\n",
       "      <th>female</th>\n",
       "      <td>314</td>\n",
       "      <td>314</td>\n",
       "      <td>314</td>\n",
       "      <td>314</td>\n",
       "      <td>261</td>\n",
       "      <td>314</td>\n",
       "      <td>314</td>\n",
       "      <td>314</td>\n",
       "      <td>314</td>\n",
       "      <td>97</td>\n",
       "      <td>312</td>\n",
       "    </tr>\n",
       "    <tr>\n",
       "      <th>male</th>\n",
       "      <td>577</td>\n",
       "      <td>577</td>\n",
       "      <td>577</td>\n",
       "      <td>577</td>\n",
       "      <td>453</td>\n",
       "      <td>577</td>\n",
       "      <td>577</td>\n",
       "      <td>577</td>\n",
       "      <td>577</td>\n",
       "      <td>107</td>\n",
       "      <td>577</td>\n",
       "    </tr>\n",
       "  </tbody>\n",
       "</table>\n",
       "</div>"
      ],
      "text/plain": [
       "        PassengerId  Survived  Pclass  Name  Age  SibSp  Parch  Ticket  Fare  \\\n",
       "Sex                                                                            \n",
       "female          314       314     314   314  261    314    314     314   314   \n",
       "male            577       577     577   577  453    577    577     577   577   \n",
       "\n",
       "        Cabin  Embarked  \n",
       "Sex                      \n",
       "female     97       312  \n",
       "male      107       577  "
      ]
     },
     "execution_count": 54,
     "metadata": {},
     "output_type": "execute_result"
    }
   ],
   "source": [
    "data.groupby(\"Sex\").count()"
   ]
  },
  {
   "cell_type": "code",
   "execution_count": 58,
   "id": "7588056b-d66d-4b76-842f-1ffc6b67aceb",
   "metadata": {},
   "outputs": [
    {
     "data": {
      "text/plain": [
       "2"
      ]
     },
     "execution_count": 58,
     "metadata": {},
     "output_type": "execute_result"
    }
   ],
   "source": [
    "data_groupby_sex.ngroups"
   ]
  },
  {
   "cell_type": "code",
   "execution_count": 60,
   "id": "7a96f0e6-423e-4eab-b819-684f5fd02e12",
   "metadata": {},
   "outputs": [
    {
     "data": {
      "text/plain": [
       "{'female': [1, 2, 3, 8, 9, 10, 11, 14, 15, 18, 19, 22, 24, 25, 28, 31, 32, 38, 39, 40, 41, 43, 44, 47, 49, 52, 53, 56, 58, 61, 66, 68, 71, 79, 82, 84, 85, 88, 98, 100, 106, 109, 111, 113, 114, 119, 123, 128, 132, 133, 136, 140, 141, 142, 147, 151, 156, 161, 166, 167, 172, 177, 180, 184, 186, 190, 192, 194, 195, 198, 199, 205, 208, 211, 215, 216, 218, 229, 230, 233, 235, 237, 240, 241, 246, 247, 251, 254, 255, 256, 257, 258, 259, 264, 268, 269, 272, 274, 275, 276, ...], 'male': [0, 4, 5, 6, 7, 12, 13, 16, 17, 20, 21, 23, 26, 27, 29, 30, 33, 34, 35, 36, 37, 42, 45, 46, 48, 50, 51, 54, 55, 57, 59, 60, 62, 63, 64, 65, 67, 69, 70, 72, 73, 74, 75, 76, 77, 78, 80, 81, 83, 86, 87, 89, 90, 91, 92, 93, 94, 95, 96, 97, 99, 101, 102, 103, 104, 105, 107, 108, 110, 112, 115, 116, 117, 118, 120, 121, 122, 124, 125, 126, 127, 129, 130, 131, 134, 135, 137, 138, 139, 143, 144, 145, 146, 148, 149, 150, 152, 153, 154, 155, ...]}"
      ]
     },
     "execution_count": 60,
     "metadata": {},
     "output_type": "execute_result"
    }
   ],
   "source": [
    "data_groupby_sex.groups"
   ]
  },
  {
   "cell_type": "code",
   "execution_count": 62,
   "id": "470817ba-876f-4192-9bee-f0755d6201ad",
   "metadata": {},
   "outputs": [
    {
     "data": {
      "text/plain": [
       "Sex\n",
       "female    314\n",
       "male      577\n",
       "dtype: int64"
      ]
     },
     "execution_count": 62,
     "metadata": {},
     "output_type": "execute_result"
    }
   ],
   "source": [
    "data_groupby_sex.size()"
   ]
  },
  {
   "cell_type": "code",
   "execution_count": 64,
   "id": "d9392f2f-5528-4086-8687-4374546b3298",
   "metadata": {},
   "outputs": [
    {
     "data": {
      "text/html": [
       "<div>\n",
       "<style scoped>\n",
       "    .dataframe tbody tr th:only-of-type {\n",
       "        vertical-align: middle;\n",
       "    }\n",
       "\n",
       "    .dataframe tbody tr th {\n",
       "        vertical-align: top;\n",
       "    }\n",
       "\n",
       "    .dataframe thead th {\n",
       "        text-align: right;\n",
       "    }\n",
       "</style>\n",
       "<table border=\"1\" class=\"dataframe\">\n",
       "  <thead>\n",
       "    <tr style=\"text-align: right;\">\n",
       "      <th></th>\n",
       "      <th>PassengerId</th>\n",
       "      <th>Survived</th>\n",
       "      <th>Name</th>\n",
       "      <th>Sex</th>\n",
       "      <th>Age</th>\n",
       "      <th>SibSp</th>\n",
       "      <th>Parch</th>\n",
       "      <th>Ticket</th>\n",
       "      <th>Fare</th>\n",
       "      <th>Cabin</th>\n",
       "      <th>Embarked</th>\n",
       "    </tr>\n",
       "    <tr>\n",
       "      <th>Pclass</th>\n",
       "      <th></th>\n",
       "      <th></th>\n",
       "      <th></th>\n",
       "      <th></th>\n",
       "      <th></th>\n",
       "      <th></th>\n",
       "      <th></th>\n",
       "      <th></th>\n",
       "      <th></th>\n",
       "      <th></th>\n",
       "      <th></th>\n",
       "    </tr>\n",
       "  </thead>\n",
       "  <tbody>\n",
       "    <tr>\n",
       "      <th>1</th>\n",
       "      <td>216</td>\n",
       "      <td>216</td>\n",
       "      <td>216</td>\n",
       "      <td>216</td>\n",
       "      <td>186</td>\n",
       "      <td>216</td>\n",
       "      <td>216</td>\n",
       "      <td>216</td>\n",
       "      <td>216</td>\n",
       "      <td>176</td>\n",
       "      <td>214</td>\n",
       "    </tr>\n",
       "    <tr>\n",
       "      <th>2</th>\n",
       "      <td>184</td>\n",
       "      <td>184</td>\n",
       "      <td>184</td>\n",
       "      <td>184</td>\n",
       "      <td>173</td>\n",
       "      <td>184</td>\n",
       "      <td>184</td>\n",
       "      <td>184</td>\n",
       "      <td>184</td>\n",
       "      <td>16</td>\n",
       "      <td>184</td>\n",
       "    </tr>\n",
       "    <tr>\n",
       "      <th>3</th>\n",
       "      <td>491</td>\n",
       "      <td>491</td>\n",
       "      <td>491</td>\n",
       "      <td>491</td>\n",
       "      <td>355</td>\n",
       "      <td>491</td>\n",
       "      <td>491</td>\n",
       "      <td>491</td>\n",
       "      <td>491</td>\n",
       "      <td>12</td>\n",
       "      <td>491</td>\n",
       "    </tr>\n",
       "  </tbody>\n",
       "</table>\n",
       "</div>"
      ],
      "text/plain": [
       "        PassengerId  Survived  Name  Sex  Age  SibSp  Parch  Ticket  Fare  \\\n",
       "Pclass                                                                      \n",
       "1               216       216   216  216  186    216    216     216   216   \n",
       "2               184       184   184  184  173    184    184     184   184   \n",
       "3               491       491   491  491  355    491    491     491   491   \n",
       "\n",
       "        Cabin  Embarked  \n",
       "Pclass                   \n",
       "1         176       214  \n",
       "2          16       184  \n",
       "3          12       491  "
      ]
     },
     "execution_count": 64,
     "metadata": {},
     "output_type": "execute_result"
    }
   ],
   "source": [
    "data.groupby(\"Pclass\").count()"
   ]
  },
  {
   "cell_type": "code",
   "execution_count": 68,
   "id": "7275f760-3d99-446e-9ff8-d2a0af51d3f1",
   "metadata": {},
   "outputs": [
    {
     "data": {
      "text/html": [
       "<div>\n",
       "<style scoped>\n",
       "    .dataframe tbody tr th:only-of-type {\n",
       "        vertical-align: middle;\n",
       "    }\n",
       "\n",
       "    .dataframe tbody tr th {\n",
       "        vertical-align: top;\n",
       "    }\n",
       "\n",
       "    .dataframe thead th {\n",
       "        text-align: right;\n",
       "    }\n",
       "</style>\n",
       "<table border=\"1\" class=\"dataframe\">\n",
       "  <thead>\n",
       "    <tr style=\"text-align: right;\">\n",
       "      <th></th>\n",
       "      <th>PassengerId</th>\n",
       "      <th>Survived</th>\n",
       "      <th>Pclass</th>\n",
       "      <th>Name</th>\n",
       "      <th>Sex</th>\n",
       "      <th>Age</th>\n",
       "      <th>SibSp</th>\n",
       "      <th>Parch</th>\n",
       "      <th>Ticket</th>\n",
       "      <th>Fare</th>\n",
       "      <th>Cabin</th>\n",
       "      <th>Embarked</th>\n",
       "    </tr>\n",
       "  </thead>\n",
       "  <tbody>\n",
       "    <tr>\n",
       "      <th>1</th>\n",
       "      <td>2</td>\n",
       "      <td>1</td>\n",
       "      <td>1</td>\n",
       "      <td>Cumings, Mrs. John Bradley (Florence Briggs Th...</td>\n",
       "      <td>female</td>\n",
       "      <td>38.0</td>\n",
       "      <td>1</td>\n",
       "      <td>0</td>\n",
       "      <td>PC 17599</td>\n",
       "      <td>71.2833</td>\n",
       "      <td>C85</td>\n",
       "      <td>C</td>\n",
       "    </tr>\n",
       "    <tr>\n",
       "      <th>2</th>\n",
       "      <td>3</td>\n",
       "      <td>1</td>\n",
       "      <td>3</td>\n",
       "      <td>Heikkinen, Miss. Laina</td>\n",
       "      <td>female</td>\n",
       "      <td>26.0</td>\n",
       "      <td>0</td>\n",
       "      <td>0</td>\n",
       "      <td>STON/O2. 3101282</td>\n",
       "      <td>7.9250</td>\n",
       "      <td>NaN</td>\n",
       "      <td>S</td>\n",
       "    </tr>\n",
       "    <tr>\n",
       "      <th>3</th>\n",
       "      <td>4</td>\n",
       "      <td>1</td>\n",
       "      <td>1</td>\n",
       "      <td>Futrelle, Mrs. Jacques Heath (Lily May Peel)</td>\n",
       "      <td>female</td>\n",
       "      <td>35.0</td>\n",
       "      <td>1</td>\n",
       "      <td>0</td>\n",
       "      <td>113803</td>\n",
       "      <td>53.1000</td>\n",
       "      <td>C123</td>\n",
       "      <td>S</td>\n",
       "    </tr>\n",
       "    <tr>\n",
       "      <th>8</th>\n",
       "      <td>9</td>\n",
       "      <td>1</td>\n",
       "      <td>3</td>\n",
       "      <td>Johnson, Mrs. Oscar W (Elisabeth Vilhelmina Berg)</td>\n",
       "      <td>female</td>\n",
       "      <td>27.0</td>\n",
       "      <td>0</td>\n",
       "      <td>2</td>\n",
       "      <td>347742</td>\n",
       "      <td>11.1333</td>\n",
       "      <td>NaN</td>\n",
       "      <td>S</td>\n",
       "    </tr>\n",
       "    <tr>\n",
       "      <th>9</th>\n",
       "      <td>10</td>\n",
       "      <td>1</td>\n",
       "      <td>2</td>\n",
       "      <td>Nasser, Mrs. Nicholas (Adele Achem)</td>\n",
       "      <td>female</td>\n",
       "      <td>14.0</td>\n",
       "      <td>1</td>\n",
       "      <td>0</td>\n",
       "      <td>237736</td>\n",
       "      <td>30.0708</td>\n",
       "      <td>NaN</td>\n",
       "      <td>C</td>\n",
       "    </tr>\n",
       "  </tbody>\n",
       "</table>\n",
       "</div>"
      ],
      "text/plain": [
       "   PassengerId  Survived  Pclass  \\\n",
       "1            2         1       1   \n",
       "2            3         1       3   \n",
       "3            4         1       1   \n",
       "8            9         1       3   \n",
       "9           10         1       2   \n",
       "\n",
       "                                                Name     Sex   Age  SibSp  \\\n",
       "1  Cumings, Mrs. John Bradley (Florence Briggs Th...  female  38.0      1   \n",
       "2                             Heikkinen, Miss. Laina  female  26.0      0   \n",
       "3       Futrelle, Mrs. Jacques Heath (Lily May Peel)  female  35.0      1   \n",
       "8  Johnson, Mrs. Oscar W (Elisabeth Vilhelmina Berg)  female  27.0      0   \n",
       "9                Nasser, Mrs. Nicholas (Adele Achem)  female  14.0      1   \n",
       "\n",
       "   Parch            Ticket     Fare Cabin Embarked  \n",
       "1      0          PC 17599  71.2833   C85        C  \n",
       "2      0  STON/O2. 3101282   7.9250   NaN        S  \n",
       "3      0            113803  53.1000  C123        S  \n",
       "8      2            347742  11.1333   NaN        S  \n",
       "9      0            237736  30.0708   NaN        C  "
      ]
     },
     "execution_count": 68,
     "metadata": {},
     "output_type": "execute_result"
    }
   ],
   "source": [
    "data_groupby_sex.get_group(\"female\").head()"
   ]
  },
  {
   "cell_type": "code",
   "execution_count": 78,
   "id": "e0ea55ff-1486-44c0-b610-02dc9e2b5bde",
   "metadata": {},
   "outputs": [
    {
     "data": {
      "text/html": [
       "<div>\n",
       "<style scoped>\n",
       "    .dataframe tbody tr th:only-of-type {\n",
       "        vertical-align: middle;\n",
       "    }\n",
       "\n",
       "    .dataframe tbody tr th {\n",
       "        vertical-align: top;\n",
       "    }\n",
       "\n",
       "    .dataframe thead th {\n",
       "        text-align: right;\n",
       "    }\n",
       "</style>\n",
       "<table border=\"1\" class=\"dataframe\">\n",
       "  <thead>\n",
       "    <tr style=\"text-align: right;\">\n",
       "      <th></th>\n",
       "      <th>PassengerId</th>\n",
       "      <th>Survived</th>\n",
       "      <th>Pclass</th>\n",
       "      <th>Name</th>\n",
       "      <th>Age</th>\n",
       "      <th>SibSp</th>\n",
       "      <th>Parch</th>\n",
       "      <th>Ticket</th>\n",
       "      <th>Fare</th>\n",
       "      <th>Cabin</th>\n",
       "      <th>Embarked</th>\n",
       "    </tr>\n",
       "    <tr>\n",
       "      <th>Sex</th>\n",
       "      <th></th>\n",
       "      <th></th>\n",
       "      <th></th>\n",
       "      <th></th>\n",
       "      <th></th>\n",
       "      <th></th>\n",
       "      <th></th>\n",
       "      <th></th>\n",
       "      <th></th>\n",
       "      <th></th>\n",
       "      <th></th>\n",
       "    </tr>\n",
       "  </thead>\n",
       "  <tbody>\n",
       "    <tr>\n",
       "      <th>female</th>\n",
       "      <td>314</td>\n",
       "      <td>314</td>\n",
       "      <td>314</td>\n",
       "      <td>314</td>\n",
       "      <td>261</td>\n",
       "      <td>314</td>\n",
       "      <td>314</td>\n",
       "      <td>314</td>\n",
       "      <td>314</td>\n",
       "      <td>97</td>\n",
       "      <td>312</td>\n",
       "    </tr>\n",
       "    <tr>\n",
       "      <th>male</th>\n",
       "      <td>577</td>\n",
       "      <td>577</td>\n",
       "      <td>577</td>\n",
       "      <td>577</td>\n",
       "      <td>453</td>\n",
       "      <td>577</td>\n",
       "      <td>577</td>\n",
       "      <td>577</td>\n",
       "      <td>577</td>\n",
       "      <td>107</td>\n",
       "      <td>577</td>\n",
       "    </tr>\n",
       "  </tbody>\n",
       "</table>\n",
       "</div>"
      ],
      "text/plain": [
       "        PassengerId  Survived  Pclass  Name  Age  SibSp  Parch  Ticket  Fare  \\\n",
       "Sex                                                                            \n",
       "female          314       314     314   314  261    314    314     314   314   \n",
       "male            577       577     577   577  453    577    577     577   577   \n",
       "\n",
       "        Cabin  Embarked  \n",
       "Sex                      \n",
       "female     97       312  \n",
       "male      107       577  "
      ]
     },
     "execution_count": 78,
     "metadata": {},
     "output_type": "execute_result"
    }
   ],
   "source": [
    "data.groupby(\"Sex\").count()"
   ]
  },
  {
   "cell_type": "code",
   "execution_count": 86,
   "id": "3d6b29bc-3521-4a33-8816-d28b0e3c8ba5",
   "metadata": {},
   "outputs": [
    {
     "data": {
      "text/html": [
       "<div>\n",
       "<style scoped>\n",
       "    .dataframe tbody tr th:only-of-type {\n",
       "        vertical-align: middle;\n",
       "    }\n",
       "\n",
       "    .dataframe tbody tr th {\n",
       "        vertical-align: top;\n",
       "    }\n",
       "\n",
       "    .dataframe thead th {\n",
       "        text-align: right;\n",
       "    }\n",
       "</style>\n",
       "<table border=\"1\" class=\"dataframe\">\n",
       "  <thead>\n",
       "    <tr style=\"text-align: right;\">\n",
       "      <th></th>\n",
       "      <th>Age</th>\n",
       "    </tr>\n",
       "    <tr>\n",
       "      <th>Sex</th>\n",
       "      <th></th>\n",
       "    </tr>\n",
       "  </thead>\n",
       "  <tbody>\n",
       "    <tr>\n",
       "      <th>female</th>\n",
       "      <td>27.915709</td>\n",
       "    </tr>\n",
       "    <tr>\n",
       "      <th>male</th>\n",
       "      <td>30.726645</td>\n",
       "    </tr>\n",
       "  </tbody>\n",
       "</table>\n",
       "</div>"
      ],
      "text/plain": [
       "              Age\n",
       "Sex              \n",
       "female  27.915709\n",
       "male    30.726645"
      ]
     },
     "execution_count": 86,
     "metadata": {},
     "output_type": "execute_result"
    }
   ],
   "source": [
    "data[[\"Age\", \"Sex\"]].groupby(\"Sex\").mean()"
   ]
  },
  {
   "cell_type": "code",
   "execution_count": 92,
   "id": "9af91b54-1fc3-4965-a3ce-6a0d3c80f5ee",
   "metadata": {},
   "outputs": [
    {
     "data": {
      "text/plain": [
       "Sex\n",
       "female    27.915709\n",
       "male      30.726645\n",
       "Name: Age, dtype: float64"
      ]
     },
     "execution_count": 92,
     "metadata": {},
     "output_type": "execute_result"
    }
   ],
   "source": [
    "data.groupby(\"Sex\")[\"Age\"].mean()"
   ]
  },
  {
   "cell_type": "code",
   "execution_count": 94,
   "id": "6a05a937-bab4-4cc6-952a-cc4e126b549e",
   "metadata": {},
   "outputs": [
    {
     "data": {
      "text/plain": [
       "Sex\n",
       "female    27.915709\n",
       "male      30.726645\n",
       "Name: Age, dtype: float64"
      ]
     },
     "execution_count": 94,
     "metadata": {},
     "output_type": "execute_result"
    }
   ],
   "source": [
    "data.groupby(\"Sex\").Age.mean()"
   ]
  },
  {
   "cell_type": "code",
   "execution_count": 96,
   "id": "8475afd8-0f31-4553-8577-9476ab0459b8",
   "metadata": {},
   "outputs": [
    {
     "data": {
      "text/html": [
       "<div>\n",
       "<style scoped>\n",
       "    .dataframe tbody tr th:only-of-type {\n",
       "        vertical-align: middle;\n",
       "    }\n",
       "\n",
       "    .dataframe tbody tr th {\n",
       "        vertical-align: top;\n",
       "    }\n",
       "\n",
       "    .dataframe thead th {\n",
       "        text-align: right;\n",
       "    }\n",
       "</style>\n",
       "<table border=\"1\" class=\"dataframe\">\n",
       "  <thead>\n",
       "    <tr style=\"text-align: right;\">\n",
       "      <th></th>\n",
       "      <th>max</th>\n",
       "      <th>min</th>\n",
       "      <th>mean</th>\n",
       "      <th>count</th>\n",
       "    </tr>\n",
       "    <tr>\n",
       "      <th>Sex</th>\n",
       "      <th></th>\n",
       "      <th></th>\n",
       "      <th></th>\n",
       "      <th></th>\n",
       "    </tr>\n",
       "  </thead>\n",
       "  <tbody>\n",
       "    <tr>\n",
       "      <th>female</th>\n",
       "      <td>63.0</td>\n",
       "      <td>0.75</td>\n",
       "      <td>27.915709</td>\n",
       "      <td>261</td>\n",
       "    </tr>\n",
       "    <tr>\n",
       "      <th>male</th>\n",
       "      <td>80.0</td>\n",
       "      <td>0.42</td>\n",
       "      <td>30.726645</td>\n",
       "      <td>453</td>\n",
       "    </tr>\n",
       "  </tbody>\n",
       "</table>\n",
       "</div>"
      ],
      "text/plain": [
       "         max   min       mean  count\n",
       "Sex                                 \n",
       "female  63.0  0.75  27.915709    261\n",
       "male    80.0  0.42  30.726645    453"
      ]
     },
     "execution_count": 96,
     "metadata": {},
     "output_type": "execute_result"
    }
   ],
   "source": [
    "data.groupby(\"Sex\").Age.agg([\"max\", \"min\", \"mean\", \"count\"])"
   ]
  },
  {
   "cell_type": "code",
   "execution_count": 100,
   "id": "96243b86-f553-4b01-9609-ed795282c6a7",
   "metadata": {},
   "outputs": [
    {
     "data": {
      "text/html": [
       "<div>\n",
       "<style scoped>\n",
       "    .dataframe tbody tr th:only-of-type {\n",
       "        vertical-align: middle;\n",
       "    }\n",
       "\n",
       "    .dataframe tbody tr th {\n",
       "        vertical-align: top;\n",
       "    }\n",
       "\n",
       "    .dataframe thead th {\n",
       "        text-align: right;\n",
       "    }\n",
       "</style>\n",
       "<table border=\"1\" class=\"dataframe\">\n",
       "  <thead>\n",
       "    <tr style=\"text-align: right;\">\n",
       "      <th></th>\n",
       "      <th>sex_max</th>\n",
       "      <th>sex_mean</th>\n",
       "    </tr>\n",
       "    <tr>\n",
       "      <th>Sex</th>\n",
       "      <th></th>\n",
       "      <th></th>\n",
       "    </tr>\n",
       "  </thead>\n",
       "  <tbody>\n",
       "    <tr>\n",
       "      <th>female</th>\n",
       "      <td>63.0</td>\n",
       "      <td>27.915709</td>\n",
       "    </tr>\n",
       "    <tr>\n",
       "      <th>male</th>\n",
       "      <td>80.0</td>\n",
       "      <td>30.726645</td>\n",
       "    </tr>\n",
       "  </tbody>\n",
       "</table>\n",
       "</div>"
      ],
      "text/plain": [
       "        sex_max   sex_mean\n",
       "Sex                       \n",
       "female     63.0  27.915709\n",
       "male       80.0  30.726645"
      ]
     },
     "execution_count": 100,
     "metadata": {},
     "output_type": "execute_result"
    }
   ],
   "source": [
    "data.groupby(\"Sex\").Age.agg(sex_max=(\"max\"), sex_mean=(\"mean\"))"
   ]
  },
  {
   "cell_type": "code",
   "execution_count": 102,
   "id": "0c6797d8-5f90-4ffd-b73b-e8eb50f83c8a",
   "metadata": {},
   "outputs": [
    {
     "data": {
      "text/html": [
       "<div>\n",
       "<style scoped>\n",
       "    .dataframe tbody tr th:only-of-type {\n",
       "        vertical-align: middle;\n",
       "    }\n",
       "\n",
       "    .dataframe tbody tr th {\n",
       "        vertical-align: top;\n",
       "    }\n",
       "\n",
       "    .dataframe thead th {\n",
       "        text-align: right;\n",
       "    }\n",
       "</style>\n",
       "<table border=\"1\" class=\"dataframe\">\n",
       "  <thead>\n",
       "    <tr style=\"text-align: right;\">\n",
       "      <th></th>\n",
       "      <th>max</th>\n",
       "      <th>mean</th>\n",
       "      <th>categorizar</th>\n",
       "    </tr>\n",
       "    <tr>\n",
       "      <th>Sex</th>\n",
       "      <th></th>\n",
       "      <th></th>\n",
       "      <th></th>\n",
       "    </tr>\n",
       "  </thead>\n",
       "  <tbody>\n",
       "    <tr>\n",
       "      <th>female</th>\n",
       "      <td>63.0</td>\n",
       "      <td>27.915709</td>\n",
       "      <td>False</td>\n",
       "    </tr>\n",
       "    <tr>\n",
       "      <th>male</th>\n",
       "      <td>80.0</td>\n",
       "      <td>30.726645</td>\n",
       "      <td>True</td>\n",
       "    </tr>\n",
       "  </tbody>\n",
       "</table>\n",
       "</div>"
      ],
      "text/plain": [
       "         max       mean  categorizar\n",
       "Sex                                 \n",
       "female  63.0  27.915709        False\n",
       "male    80.0  30.726645         True"
      ]
     },
     "execution_count": 102,
     "metadata": {},
     "output_type": "execute_result"
    }
   ],
   "source": [
    "def categorizar(x):\n",
    "    m = x.mean()\n",
    "    return True if m > 29 else False\n",
    "\n",
    "data.groupby(\"Sex\").Age.agg([\"max\", \"mean\", categorizar])"
   ]
  },
  {
   "cell_type": "code",
   "execution_count": 104,
   "id": "2a0c3a94-0243-4738-893d-9425fdb6c07c",
   "metadata": {},
   "outputs": [
    {
     "data": {
      "text/html": [
       "<div>\n",
       "<style scoped>\n",
       "    .dataframe tbody tr th:only-of-type {\n",
       "        vertical-align: middle;\n",
       "    }\n",
       "\n",
       "    .dataframe tbody tr th {\n",
       "        vertical-align: top;\n",
       "    }\n",
       "\n",
       "    .dataframe thead th {\n",
       "        text-align: right;\n",
       "    }\n",
       "</style>\n",
       "<table border=\"1\" class=\"dataframe\">\n",
       "  <thead>\n",
       "    <tr style=\"text-align: right;\">\n",
       "      <th></th>\n",
       "      <th>max</th>\n",
       "      <th>mean</th>\n",
       "      <th>&lt;lambda_0&gt;</th>\n",
       "    </tr>\n",
       "    <tr>\n",
       "      <th>Sex</th>\n",
       "      <th></th>\n",
       "      <th></th>\n",
       "      <th></th>\n",
       "    </tr>\n",
       "  </thead>\n",
       "  <tbody>\n",
       "    <tr>\n",
       "      <th>female</th>\n",
       "      <td>63.0</td>\n",
       "      <td>27.915709</td>\n",
       "      <td>False</td>\n",
       "    </tr>\n",
       "    <tr>\n",
       "      <th>male</th>\n",
       "      <td>80.0</td>\n",
       "      <td>30.726645</td>\n",
       "      <td>True</td>\n",
       "    </tr>\n",
       "  </tbody>\n",
       "</table>\n",
       "</div>"
      ],
      "text/plain": [
       "         max       mean  <lambda_0>\n",
       "Sex                                \n",
       "female  63.0  27.915709       False\n",
       "male    80.0  30.726645        True"
      ]
     },
     "execution_count": 104,
     "metadata": {},
     "output_type": "execute_result"
    }
   ],
   "source": [
    "data.groupby(\"Sex\").Age.agg([\"max\", \"mean\", lambda x: True if x.mean() > 29 else False ])"
   ]
  },
  {
   "cell_type": "code",
   "execution_count": 108,
   "id": "c775e629-d07d-4127-a90f-8bc628d2f9a4",
   "metadata": {},
   "outputs": [
    {
     "data": {
      "text/html": [
       "<div>\n",
       "<style scoped>\n",
       "    .dataframe tbody tr th:only-of-type {\n",
       "        vertical-align: middle;\n",
       "    }\n",
       "\n",
       "    .dataframe tbody tr th {\n",
       "        vertical-align: top;\n",
       "    }\n",
       "\n",
       "    .dataframe thead th {\n",
       "        text-align: right;\n",
       "    }\n",
       "</style>\n",
       "<table border=\"1\" class=\"dataframe\">\n",
       "  <thead>\n",
       "    <tr style=\"text-align: right;\">\n",
       "      <th></th>\n",
       "      <th></th>\n",
       "      <th>count</th>\n",
       "      <th>max</th>\n",
       "      <th>min</th>\n",
       "    </tr>\n",
       "    <tr>\n",
       "      <th>Pclass</th>\n",
       "      <th>Survived</th>\n",
       "      <th></th>\n",
       "      <th></th>\n",
       "      <th></th>\n",
       "    </tr>\n",
       "  </thead>\n",
       "  <tbody>\n",
       "    <tr>\n",
       "      <th rowspan=\"2\" valign=\"top\">1</th>\n",
       "      <th>0</th>\n",
       "      <td>80</td>\n",
       "      <td>873</td>\n",
       "      <td>7</td>\n",
       "    </tr>\n",
       "    <tr>\n",
       "      <th>1</th>\n",
       "      <td>136</td>\n",
       "      <td>890</td>\n",
       "      <td>2</td>\n",
       "    </tr>\n",
       "    <tr>\n",
       "      <th rowspan=\"2\" valign=\"top\">2</th>\n",
       "      <th>0</th>\n",
       "      <td>97</td>\n",
       "      <td>887</td>\n",
       "      <td>21</td>\n",
       "    </tr>\n",
       "    <tr>\n",
       "      <th>1</th>\n",
       "      <td>87</td>\n",
       "      <td>881</td>\n",
       "      <td>10</td>\n",
       "    </tr>\n",
       "    <tr>\n",
       "      <th rowspan=\"2\" valign=\"top\">3</th>\n",
       "      <th>0</th>\n",
       "      <td>372</td>\n",
       "      <td>891</td>\n",
       "      <td>1</td>\n",
       "    </tr>\n",
       "    <tr>\n",
       "      <th>1</th>\n",
       "      <td>119</td>\n",
       "      <td>876</td>\n",
       "      <td>3</td>\n",
       "    </tr>\n",
       "  </tbody>\n",
       "</table>\n",
       "</div>"
      ],
      "text/plain": [
       "                 count  max  min\n",
       "Pclass Survived                 \n",
       "1      0            80  873    7\n",
       "       1           136  890    2\n",
       "2      0            97  887   21\n",
       "       1            87  881   10\n",
       "3      0           372  891    1\n",
       "       1           119  876    3"
      ]
     },
     "execution_count": 108,
     "metadata": {},
     "output_type": "execute_result"
    }
   ],
   "source": [
    "data.groupby([\"Pclass\", \"Survived\"]).PassengerId.agg([\"count\", \"max\", \"min\"])"
   ]
  },
  {
   "cell_type": "markdown",
   "id": "95a4308e-85af-4e20-ae55-c67e51fdebcd",
   "metadata": {},
   "source": [
    "## Graficos"
   ]
  },
  {
   "cell_type": "code",
   "execution_count": 113,
   "id": "56c8152e-35e3-479b-91bd-3cdfd4201abf",
   "metadata": {},
   "outputs": [],
   "source": [
    "import matplotlib as plot"
   ]
  },
  {
   "cell_type": "code",
   "execution_count": 117,
   "id": "06dcfd82-8050-4682-bb3d-19ad6f5092f5",
   "metadata": {},
   "outputs": [
    {
     "data": {
      "text/plain": [
       "<Axes: >"
      ]
     },
     "execution_count": 117,
     "metadata": {},
     "output_type": "execute_result"
    },
    {
     "data": {
      "image/png": "[encoded data removed]",
      "text/plain": [
       "<Figure size 640x480 with 1 Axes>"
      ]
     },
     "metadata": {},
     "output_type": "display_data"
    }
   ],
   "source": [
    "data[\"Age\"].plot()"
   ]
  },
  {
   "cell_type": "code",
   "execution_count": 119,
   "id": "722f3418-ac47-4f98-8839-250c1bb8531c",
   "metadata": {},
   "outputs": [
    {
     "name": "stdout",
     "output_type": "stream",
     "text": [
      "<class 'pandas.core.frame.DataFrame'>\n",
      "RangeIndex: 891 entries, 0 to 890\n",
      "Data columns (total 12 columns):\n",
      " #   Column       Non-Null Count  Dtype  \n",
      "---  ------       --------------  -----  \n",
      " 0   PassengerId  891 non-null    int64  \n",
      " 1   Survived     891 non-null    int64  \n",
      " 2   Pclass       891 non-null    int64  \n",
      " 3   Name         891 non-null    object \n",
      " 4   Sex          891 non-null    object \n",
      " 5   Age          714 non-null    float64\n",
      " 6   SibSp        891 non-null    int64  \n",
      " 7   Parch        891 non-null    int64  \n",
      " 8   Ticket       891 non-null    object \n",
      " 9   Fare         891 non-null    float64\n",
      " 10  Cabin        204 non-null    object \n",
      " 11  Embarked     889 non-null    object \n",
      "dtypes: float64(2), int64(5), object(5)\n",
      "memory usage: 83.7+ KB\n"
     ]
    }
   ],
   "source": [
    "data.info()"
   ]
  },
  {
   "cell_type": "code",
   "execution_count": 123,
   "id": "65014390-2b41-4e26-96eb-93419ffaaf4f",
   "metadata": {},
   "outputs": [
    {
     "data": {
      "text/plain": [
       "<Axes: ylabel='Frequency'>"
      ]
     },
     "execution_count": 123,
     "metadata": {},
     "output_type": "execute_result"
    },
    {
     "data": {
      "image/png": "[encoded data removed]",
      "text/plain": [
       "<Figure size 640x480 with 1 Axes>"
      ]
     },
     "metadata": {},
     "output_type": "display_data"
    }
   ],
   "source": [
    "data[\"Age\"].plot.hist(bins=20)"
   ]
  },
  {
   "cell_type": "code",
   "execution_count": 125,
   "id": "070e5bad-06d5-414a-bf9a-8e9e5fe6ab9c",
   "metadata": {},
   "outputs": [
    {
     "data": {
      "text/plain": [
       "<Axes: xlabel='Sex'>"
      ]
     },
     "execution_count": 125,
     "metadata": {},
     "output_type": "execute_result"
    },
    {
     "data": {
      "image/png": "[encoded data removed]",
      "text/plain": [
       "<Figure size 640x480 with 1 Axes>"
      ]
     },
     "metadata": {},
     "output_type": "display_data"
    }
   ],
   "source": [
    "data.groupby(\"Sex\").size().plot.bar()"
   ]
  },
  {
   "cell_type": "code",
   "execution_count": 127,
   "id": "9084bc5b-80b0-4bb0-bf8e-d3a18f62e1e1",
   "metadata": {},
   "outputs": [
    {
     "data": {
      "text/plain": [
       "<Axes: xlabel='Sex'>"
      ]
     },
     "execution_count": 127,
     "metadata": {},
     "output_type": "execute_result"
    },
    {
     "data": {
      "image/png": "[encoded data removed]",
      "text/plain": [
       "<Figure size 640x480 with 1 Axes>"
      ]
     },
     "metadata": {},
     "output_type": "display_data"
    }
   ],
   "source": [
    "data.groupby(\"Sex\")[\"Survived\"].sum().plot.bar()"
   ]
  },
  {
   "cell_type": "code",
   "execution_count": 131,
   "id": "5be89e0c-c27b-41c9-a59a-f19659daf0a0",
   "metadata": {},
   "outputs": [
    {
     "data": {
      "text/plain": [
       "<Axes: title={'center': 'Proporción de pasajeros masculinos / femeninos'}, ylabel='Total'>"
      ]
     },
     "execution_count": 131,
     "metadata": {},
     "output_type": "execute_result"
    },
    {
     "data": {
      "image/png": "[encoded data removed]",
      "text/plain": [
       "<Figure size 640x480 with 1 Axes>"
      ]
     },
     "metadata": {},
     "output_type": "display_data"
    }
   ],
   "source": [
    "data.groupby(\"Sex\").size().plot.pie(title=\"Proporción de pasajeros masculinos / femeninos\", label=\"Total\")"
   ]
  },
  {
   "cell_type": "code",
   "execution_count": 133,
   "id": "b2860255-bdea-4416-9ea6-76e4911fc260",
   "metadata": {},
   "outputs": [],
   "source": [
    "arr = np.random.randint(1,100,25)\n",
    "df = pd.DataFrame(arr.reshape(5,5))\n",
    "df.columns=[\"Audi\", \"Citroen\", \"Fiat\", \"Renault\", \"Mercedes\"]\n",
    "df.index=[2000,2004,2008,2012,2016]"
   ]
  },
  {
   "cell_type": "code",
   "execution_count": 135,
   "id": "dd57bfaf-dd14-4d63-b84d-853b3b2b5694",
   "metadata": {},
   "outputs": [
    {
     "data": {
      "text/html": [
       "<div>\n",
       "<style scoped>\n",
       "    .dataframe tbody tr th:only-of-type {\n",
       "        vertical-align: middle;\n",
       "    }\n",
       "\n",
       "    .dataframe tbody tr th {\n",
       "        vertical-align: top;\n",
       "    }\n",
       "\n",
       "    .dataframe thead th {\n",
       "        text-align: right;\n",
       "    }\n",
       "</style>\n",
       "<table border=\"1\" class=\"dataframe\">\n",
       "  <thead>\n",
       "    <tr style=\"text-align: right;\">\n",
       "      <th></th>\n",
       "      <th>Audi</th>\n",
       "      <th>Citroen</th>\n",
       "      <th>Fiat</th>\n",
       "      <th>Renault</th>\n",
       "      <th>Mercedes</th>\n",
       "    </tr>\n",
       "  </thead>\n",
       "  <tbody>\n",
       "    <tr>\n",
       "      <th>2000</th>\n",
       "      <td>13</td>\n",
       "      <td>66</td>\n",
       "      <td>4</td>\n",
       "      <td>69</td>\n",
       "      <td>23</td>\n",
       "    </tr>\n",
       "    <tr>\n",
       "      <th>2004</th>\n",
       "      <td>23</td>\n",
       "      <td>8</td>\n",
       "      <td>55</td>\n",
       "      <td>92</td>\n",
       "      <td>13</td>\n",
       "    </tr>\n",
       "    <tr>\n",
       "      <th>2008</th>\n",
       "      <td>91</td>\n",
       "      <td>26</td>\n",
       "      <td>58</td>\n",
       "      <td>12</td>\n",
       "      <td>41</td>\n",
       "    </tr>\n",
       "    <tr>\n",
       "      <th>2012</th>\n",
       "      <td>26</td>\n",
       "      <td>7</td>\n",
       "      <td>37</td>\n",
       "      <td>41</td>\n",
       "      <td>48</td>\n",
       "    </tr>\n",
       "    <tr>\n",
       "      <th>2016</th>\n",
       "      <td>82</td>\n",
       "      <td>1</td>\n",
       "      <td>12</td>\n",
       "      <td>3</td>\n",
       "      <td>45</td>\n",
       "    </tr>\n",
       "  </tbody>\n",
       "</table>\n",
       "</div>"
      ],
      "text/plain": [
       "      Audi  Citroen  Fiat  Renault  Mercedes\n",
       "2000    13       66     4       69        23\n",
       "2004    23        8    55       92        13\n",
       "2008    91       26    58       12        41\n",
       "2012    26        7    37       41        48\n",
       "2016    82        1    12        3        45"
      ]
     },
     "execution_count": 135,
     "metadata": {},
     "output_type": "execute_result"
    }
   ],
   "source": [
    "df"
   ]
  },
  {
   "cell_type": "code",
   "execution_count": 137,
   "id": "6c9c68be-115c-4fca-aedc-50dcb23e914f",
   "metadata": {},
   "outputs": [
    {
     "data": {
      "text/plain": [
       "<Axes: >"
      ]
     },
     "execution_count": 137,
     "metadata": {},
     "output_type": "execute_result"
    },
    {
     "data": {
      "image/png": "[encoded data removed]",
      "text/plain": [
       "<Figure size 640x480 with 1 Axes>"
      ]
     },
     "metadata": {},
     "output_type": "display_data"
    }
   ],
   "source": [
    "df.plot()"
   ]
  },
  {
   "cell_type": "markdown",
   "id": "88dcc312-f4f5-4f6c-963f-5a99ea9dbebf",
   "metadata": {},
   "source": [
    "## Missing Values"
   ]
  },
  {
   "cell_type": "code",
   "execution_count": 140,
   "id": "b190c163-b591-4497-9f31-cca2450f152d",
   "metadata": {},
   "outputs": [],
   "source": [
    "df1 = pd.DataFrame({\"Fiat\":[100,200,300,150,300], \"Renault\":[300,240,np.nan,300,400], \"VW\":[400,100,200,250,400],})"
   ]
  },
  {
   "cell_type": "code",
   "execution_count": 142,
   "id": "9c24d0b2-fb52-46d0-823b-2ec764cefc52",
   "metadata": {},
   "outputs": [
    {
     "data": {
      "text/html": [
       "<div>\n",
       "<style scoped>\n",
       "    .dataframe tbody tr th:only-of-type {\n",
       "        vertical-align: middle;\n",
       "    }\n",
       "\n",
       "    .dataframe tbody tr th {\n",
       "        vertical-align: top;\n",
       "    }\n",
       "\n",
       "    .dataframe thead th {\n",
       "        text-align: right;\n",
       "    }\n",
       "</style>\n",
       "<table border=\"1\" class=\"dataframe\">\n",
       "  <thead>\n",
       "    <tr style=\"text-align: right;\">\n",
       "      <th></th>\n",
       "      <th>Fiat</th>\n",
       "      <th>Renault</th>\n",
       "      <th>VW</th>\n",
       "    </tr>\n",
       "  </thead>\n",
       "  <tbody>\n",
       "    <tr>\n",
       "      <th>0</th>\n",
       "      <td>100</td>\n",
       "      <td>300.0</td>\n",
       "      <td>400</td>\n",
       "    </tr>\n",
       "    <tr>\n",
       "      <th>1</th>\n",
       "      <td>200</td>\n",
       "      <td>240.0</td>\n",
       "      <td>100</td>\n",
       "    </tr>\n",
       "    <tr>\n",
       "      <th>2</th>\n",
       "      <td>300</td>\n",
       "      <td>NaN</td>\n",
       "      <td>200</td>\n",
       "    </tr>\n",
       "    <tr>\n",
       "      <th>3</th>\n",
       "      <td>150</td>\n",
       "      <td>300.0</td>\n",
       "      <td>250</td>\n",
       "    </tr>\n",
       "    <tr>\n",
       "      <th>4</th>\n",
       "      <td>300</td>\n",
       "      <td>400.0</td>\n",
       "      <td>400</td>\n",
       "    </tr>\n",
       "  </tbody>\n",
       "</table>\n",
       "</div>"
      ],
      "text/plain": [
       "   Fiat  Renault   VW\n",
       "0   100    300.0  400\n",
       "1   200    240.0  100\n",
       "2   300      NaN  200\n",
       "3   150    300.0  250\n",
       "4   300    400.0  400"
      ]
     },
     "execution_count": 142,
     "metadata": {},
     "output_type": "execute_result"
    }
   ],
   "source": [
    "df1"
   ]
  },
  {
   "cell_type": "code",
   "execution_count": 144,
   "id": "79fe2ecc-a9be-4fe9-ad68-463273fc1eff",
   "metadata": {},
   "outputs": [
    {
     "data": {
      "text/plain": [
       "0    400.0\n",
       "1    440.0\n",
       "2      NaN\n",
       "3    450.0\n",
       "4    700.0\n",
       "dtype: float64"
      ]
     },
     "execution_count": 144,
     "metadata": {},
     "output_type": "execute_result"
    }
   ],
   "source": [
    "df1[\"Renault\"]+df1[\"Fiat\"]"
   ]
  },
  {
   "cell_type": "code",
   "execution_count": 146,
   "id": "07db1034-7d52-41f1-bbff-b9fa0c36d0d1",
   "metadata": {},
   "outputs": [
    {
     "data": {
      "text/plain": [
       "0    400.0\n",
       "1    440.0\n",
       "2    300.0\n",
       "3    450.0\n",
       "4    700.0\n",
       "dtype: float64"
      ]
     },
     "execution_count": 146,
     "metadata": {},
     "output_type": "execute_result"
    }
   ],
   "source": [
    "df1[\"Fiat\"].add(df1[\"Renault\"], fill_value=0)"
   ]
  },
  {
   "cell_type": "code",
   "execution_count": 152,
   "id": "68399340-86f5-46de-8877-1af8b52b9477",
   "metadata": {},
   "outputs": [
    {
     "data": {
      "text/plain": [
       "Fiat       210.0\n",
       "Renault      NaN\n",
       "VW         270.0\n",
       "dtype: float64"
      ]
     },
     "execution_count": 152,
     "metadata": {},
     "output_type": "execute_result"
    }
   ],
   "source": [
    "df1.mean(skipna=False) # Raro pero se puede hacer"
   ]
  },
  {
   "cell_type": "code",
   "execution_count": 154,
   "id": "99147e53-a098-4362-bfad-13402becce5a",
   "metadata": {},
   "outputs": [
    {
     "data": {
      "text/html": [
       "<div>\n",
       "<style scoped>\n",
       "    .dataframe tbody tr th:only-of-type {\n",
       "        vertical-align: middle;\n",
       "    }\n",
       "\n",
       "    .dataframe tbody tr th {\n",
       "        vertical-align: top;\n",
       "    }\n",
       "\n",
       "    .dataframe thead th {\n",
       "        text-align: right;\n",
       "    }\n",
       "</style>\n",
       "<table border=\"1\" class=\"dataframe\">\n",
       "  <thead>\n",
       "    <tr style=\"text-align: right;\">\n",
       "      <th></th>\n",
       "      <th>Fiat</th>\n",
       "      <th>Renault</th>\n",
       "      <th>VW</th>\n",
       "    </tr>\n",
       "  </thead>\n",
       "  <tbody>\n",
       "    <tr>\n",
       "      <th>0</th>\n",
       "      <td>False</td>\n",
       "      <td>False</td>\n",
       "      <td>False</td>\n",
       "    </tr>\n",
       "    <tr>\n",
       "      <th>1</th>\n",
       "      <td>False</td>\n",
       "      <td>False</td>\n",
       "      <td>False</td>\n",
       "    </tr>\n",
       "    <tr>\n",
       "      <th>2</th>\n",
       "      <td>False</td>\n",
       "      <td>True</td>\n",
       "      <td>False</td>\n",
       "    </tr>\n",
       "    <tr>\n",
       "      <th>3</th>\n",
       "      <td>False</td>\n",
       "      <td>False</td>\n",
       "      <td>False</td>\n",
       "    </tr>\n",
       "    <tr>\n",
       "      <th>4</th>\n",
       "      <td>False</td>\n",
       "      <td>False</td>\n",
       "      <td>False</td>\n",
       "    </tr>\n",
       "  </tbody>\n",
       "</table>\n",
       "</div>"
      ],
      "text/plain": [
       "    Fiat  Renault     VW\n",
       "0  False    False  False\n",
       "1  False    False  False\n",
       "2  False     True  False\n",
       "3  False    False  False\n",
       "4  False    False  False"
      ]
     },
     "execution_count": 154,
     "metadata": {},
     "output_type": "execute_result"
    }
   ],
   "source": [
    "df1.isna()"
   ]
  },
  {
   "cell_type": "code",
   "execution_count": 156,
   "id": "3a75e2c1-4417-432a-8158-86bc9365f6f8",
   "metadata": {},
   "outputs": [
    {
     "data": {
      "text/html": [
       "<div>\n",
       "<style scoped>\n",
       "    .dataframe tbody tr th:only-of-type {\n",
       "        vertical-align: middle;\n",
       "    }\n",
       "\n",
       "    .dataframe tbody tr th {\n",
       "        vertical-align: top;\n",
       "    }\n",
       "\n",
       "    .dataframe thead th {\n",
       "        text-align: right;\n",
       "    }\n",
       "</style>\n",
       "<table border=\"1\" class=\"dataframe\">\n",
       "  <thead>\n",
       "    <tr style=\"text-align: right;\">\n",
       "      <th></th>\n",
       "      <th>Fiat</th>\n",
       "      <th>Renault</th>\n",
       "      <th>VW</th>\n",
       "    </tr>\n",
       "  </thead>\n",
       "  <tbody>\n",
       "    <tr>\n",
       "      <th>0</th>\n",
       "      <td>True</td>\n",
       "      <td>True</td>\n",
       "      <td>True</td>\n",
       "    </tr>\n",
       "    <tr>\n",
       "      <th>1</th>\n",
       "      <td>True</td>\n",
       "      <td>True</td>\n",
       "      <td>True</td>\n",
       "    </tr>\n",
       "    <tr>\n",
       "      <th>2</th>\n",
       "      <td>True</td>\n",
       "      <td>False</td>\n",
       "      <td>True</td>\n",
       "    </tr>\n",
       "    <tr>\n",
       "      <th>3</th>\n",
       "      <td>True</td>\n",
       "      <td>True</td>\n",
       "      <td>True</td>\n",
       "    </tr>\n",
       "    <tr>\n",
       "      <th>4</th>\n",
       "      <td>True</td>\n",
       "      <td>True</td>\n",
       "      <td>True</td>\n",
       "    </tr>\n",
       "  </tbody>\n",
       "</table>\n",
       "</div>"
      ],
      "text/plain": [
       "   Fiat  Renault    VW\n",
       "0  True     True  True\n",
       "1  True     True  True\n",
       "2  True    False  True\n",
       "3  True     True  True\n",
       "4  True     True  True"
      ]
     },
     "execution_count": 156,
     "metadata": {},
     "output_type": "execute_result"
    }
   ],
   "source": [
    "df1.notna()"
   ]
  },
  {
   "cell_type": "code",
   "execution_count": 158,
   "id": "fce2936f-aa10-4c65-ac5e-93749425c0e2",
   "metadata": {},
   "outputs": [
    {
     "data": {
      "text/plain": [
       "Fiat       0\n",
       "Renault    1\n",
       "VW         0\n",
       "dtype: int64"
      ]
     },
     "execution_count": 158,
     "metadata": {},
     "output_type": "execute_result"
    }
   ],
   "source": [
    "df1.isna().sum()"
   ]
  },
  {
   "cell_type": "code",
   "execution_count": 160,
   "id": "06554752-4c25-4d7c-86a4-0c5909f2464e",
   "metadata": {},
   "outputs": [
    {
     "data": {
      "text/plain": [
       "PassengerId      0\n",
       "Survived         0\n",
       "Pclass           0\n",
       "Name             0\n",
       "Sex              0\n",
       "Age            177\n",
       "SibSp            0\n",
       "Parch            0\n",
       "Ticket           0\n",
       "Fare             0\n",
       "Cabin          687\n",
       "Embarked         2\n",
       "dtype: int64"
      ]
     },
     "execution_count": 160,
     "metadata": {},
     "output_type": "execute_result"
    }
   ],
   "source": [
    "data.isna().sum()"
   ]
  },
  {
   "cell_type": "code",
   "execution_count": 162,
   "id": "ed0eddb0-c345-4b97-9199-4b5a395601cc",
   "metadata": {},
   "outputs": [
    {
     "data": {
      "text/html": [
       "<div>\n",
       "<style scoped>\n",
       "    .dataframe tbody tr th:only-of-type {\n",
       "        vertical-align: middle;\n",
       "    }\n",
       "\n",
       "    .dataframe tbody tr th {\n",
       "        vertical-align: top;\n",
       "    }\n",
       "\n",
       "    .dataframe thead th {\n",
       "        text-align: right;\n",
       "    }\n",
       "</style>\n",
       "<table border=\"1\" class=\"dataframe\">\n",
       "  <thead>\n",
       "    <tr style=\"text-align: right;\">\n",
       "      <th></th>\n",
       "      <th>PassengerId</th>\n",
       "      <th>Survived</th>\n",
       "      <th>Pclass</th>\n",
       "      <th>Name</th>\n",
       "      <th>Sex</th>\n",
       "      <th>Age</th>\n",
       "      <th>SibSp</th>\n",
       "      <th>Parch</th>\n",
       "      <th>Ticket</th>\n",
       "      <th>Fare</th>\n",
       "      <th>Cabin</th>\n",
       "      <th>Embarked</th>\n",
       "    </tr>\n",
       "  </thead>\n",
       "  <tbody>\n",
       "    <tr>\n",
       "      <th>1</th>\n",
       "      <td>2</td>\n",
       "      <td>1</td>\n",
       "      <td>1</td>\n",
       "      <td>Cumings, Mrs. John Bradley (Florence Briggs Th...</td>\n",
       "      <td>female</td>\n",
       "      <td>38.0</td>\n",
       "      <td>1</td>\n",
       "      <td>0</td>\n",
       "      <td>PC 17599</td>\n",
       "      <td>71.2833</td>\n",
       "      <td>C85</td>\n",
       "      <td>C</td>\n",
       "    </tr>\n",
       "    <tr>\n",
       "      <th>3</th>\n",
       "      <td>4</td>\n",
       "      <td>1</td>\n",
       "      <td>1</td>\n",
       "      <td>Futrelle, Mrs. Jacques Heath (Lily May Peel)</td>\n",
       "      <td>female</td>\n",
       "      <td>35.0</td>\n",
       "      <td>1</td>\n",
       "      <td>0</td>\n",
       "      <td>113803</td>\n",
       "      <td>53.1000</td>\n",
       "      <td>C123</td>\n",
       "      <td>S</td>\n",
       "    </tr>\n",
       "    <tr>\n",
       "      <th>6</th>\n",
       "      <td>7</td>\n",
       "      <td>0</td>\n",
       "      <td>1</td>\n",
       "      <td>McCarthy, Mr. Timothy J</td>\n",
       "      <td>male</td>\n",
       "      <td>54.0</td>\n",
       "      <td>0</td>\n",
       "      <td>0</td>\n",
       "      <td>17463</td>\n",
       "      <td>51.8625</td>\n",
       "      <td>E46</td>\n",
       "      <td>S</td>\n",
       "    </tr>\n",
       "    <tr>\n",
       "      <th>10</th>\n",
       "      <td>11</td>\n",
       "      <td>1</td>\n",
       "      <td>3</td>\n",
       "      <td>Sandstrom, Miss. Marguerite Rut</td>\n",
       "      <td>female</td>\n",
       "      <td>4.0</td>\n",
       "      <td>1</td>\n",
       "      <td>1</td>\n",
       "      <td>PP 9549</td>\n",
       "      <td>16.7000</td>\n",
       "      <td>G6</td>\n",
       "      <td>S</td>\n",
       "    </tr>\n",
       "    <tr>\n",
       "      <th>11</th>\n",
       "      <td>12</td>\n",
       "      <td>1</td>\n",
       "      <td>1</td>\n",
       "      <td>Bonnell, Miss. Elizabeth</td>\n",
       "      <td>female</td>\n",
       "      <td>58.0</td>\n",
       "      <td>0</td>\n",
       "      <td>0</td>\n",
       "      <td>113783</td>\n",
       "      <td>26.5500</td>\n",
       "      <td>C103</td>\n",
       "      <td>S</td>\n",
       "    </tr>\n",
       "    <tr>\n",
       "      <th>...</th>\n",
       "      <td>...</td>\n",
       "      <td>...</td>\n",
       "      <td>...</td>\n",
       "      <td>...</td>\n",
       "      <td>...</td>\n",
       "      <td>...</td>\n",
       "      <td>...</td>\n",
       "      <td>...</td>\n",
       "      <td>...</td>\n",
       "      <td>...</td>\n",
       "      <td>...</td>\n",
       "      <td>...</td>\n",
       "    </tr>\n",
       "    <tr>\n",
       "      <th>871</th>\n",
       "      <td>872</td>\n",
       "      <td>1</td>\n",
       "      <td>1</td>\n",
       "      <td>Beckwith, Mrs. Richard Leonard (Sallie Monypeny)</td>\n",
       "      <td>female</td>\n",
       "      <td>47.0</td>\n",
       "      <td>1</td>\n",
       "      <td>1</td>\n",
       "      <td>11751</td>\n",
       "      <td>52.5542</td>\n",
       "      <td>D35</td>\n",
       "      <td>S</td>\n",
       "    </tr>\n",
       "    <tr>\n",
       "      <th>872</th>\n",
       "      <td>873</td>\n",
       "      <td>0</td>\n",
       "      <td>1</td>\n",
       "      <td>Carlsson, Mr. Frans Olof</td>\n",
       "      <td>male</td>\n",
       "      <td>33.0</td>\n",
       "      <td>0</td>\n",
       "      <td>0</td>\n",
       "      <td>695</td>\n",
       "      <td>5.0000</td>\n",
       "      <td>B51 B53 B55</td>\n",
       "      <td>S</td>\n",
       "    </tr>\n",
       "    <tr>\n",
       "      <th>879</th>\n",
       "      <td>880</td>\n",
       "      <td>1</td>\n",
       "      <td>1</td>\n",
       "      <td>Potter, Mrs. Thomas Jr (Lily Alexenia Wilson)</td>\n",
       "      <td>female</td>\n",
       "      <td>56.0</td>\n",
       "      <td>0</td>\n",
       "      <td>1</td>\n",
       "      <td>11767</td>\n",
       "      <td>83.1583</td>\n",
       "      <td>C50</td>\n",
       "      <td>C</td>\n",
       "    </tr>\n",
       "    <tr>\n",
       "      <th>887</th>\n",
       "      <td>888</td>\n",
       "      <td>1</td>\n",
       "      <td>1</td>\n",
       "      <td>Graham, Miss. Margaret Edith</td>\n",
       "      <td>female</td>\n",
       "      <td>19.0</td>\n",
       "      <td>0</td>\n",
       "      <td>0</td>\n",
       "      <td>112053</td>\n",
       "      <td>30.0000</td>\n",
       "      <td>B42</td>\n",
       "      <td>S</td>\n",
       "    </tr>\n",
       "    <tr>\n",
       "      <th>889</th>\n",
       "      <td>890</td>\n",
       "      <td>1</td>\n",
       "      <td>1</td>\n",
       "      <td>Behr, Mr. Karl Howell</td>\n",
       "      <td>male</td>\n",
       "      <td>26.0</td>\n",
       "      <td>0</td>\n",
       "      <td>0</td>\n",
       "      <td>111369</td>\n",
       "      <td>30.0000</td>\n",
       "      <td>C148</td>\n",
       "      <td>C</td>\n",
       "    </tr>\n",
       "  </tbody>\n",
       "</table>\n",
       "<p>183 rows × 12 columns</p>\n",
       "</div>"
      ],
      "text/plain": [
       "     PassengerId  Survived  Pclass  \\\n",
       "1              2         1       1   \n",
       "3              4         1       1   \n",
       "6              7         0       1   \n",
       "10            11         1       3   \n",
       "11            12         1       1   \n",
       "..           ...       ...     ...   \n",
       "871          872         1       1   \n",
       "872          873         0       1   \n",
       "879          880         1       1   \n",
       "887          888         1       1   \n",
       "889          890         1       1   \n",
       "\n",
       "                                                  Name     Sex   Age  SibSp  \\\n",
       "1    Cumings, Mrs. John Bradley (Florence Briggs Th...  female  38.0      1   \n",
       "3         Futrelle, Mrs. Jacques Heath (Lily May Peel)  female  35.0      1   \n",
       "6                              McCarthy, Mr. Timothy J    male  54.0      0   \n",
       "10                     Sandstrom, Miss. Marguerite Rut  female   4.0      1   \n",
       "11                            Bonnell, Miss. Elizabeth  female  58.0      0   \n",
       "..                                                 ...     ...   ...    ...   \n",
       "871   Beckwith, Mrs. Richard Leonard (Sallie Monypeny)  female  47.0      1   \n",
       "872                           Carlsson, Mr. Frans Olof    male  33.0      0   \n",
       "879      Potter, Mrs. Thomas Jr (Lily Alexenia Wilson)  female  56.0      0   \n",
       "887                       Graham, Miss. Margaret Edith  female  19.0      0   \n",
       "889                              Behr, Mr. Karl Howell    male  26.0      0   \n",
       "\n",
       "     Parch    Ticket     Fare        Cabin Embarked  \n",
       "1        0  PC 17599  71.2833          C85        C  \n",
       "3        0    113803  53.1000         C123        S  \n",
       "6        0     17463  51.8625          E46        S  \n",
       "10       1   PP 9549  16.7000           G6        S  \n",
       "11       0    113783  26.5500         C103        S  \n",
       "..     ...       ...      ...          ...      ...  \n",
       "871      1     11751  52.5542          D35        S  \n",
       "872      0       695   5.0000  B51 B53 B55        S  \n",
       "879      1     11767  83.1583          C50        C  \n",
       "887      0    112053  30.0000          B42        S  \n",
       "889      0    111369  30.0000         C148        C  \n",
       "\n",
       "[183 rows x 12 columns]"
      ]
     },
     "execution_count": 162,
     "metadata": {},
     "output_type": "execute_result"
    }
   ],
   "source": [
    "data.dropna()"
   ]
  },
  {
   "cell_type": "code",
   "execution_count": 164,
   "id": "0a469b02-95d2-46b0-80f8-97206645ad82",
   "metadata": {},
   "outputs": [
    {
     "name": "stdout",
     "output_type": "stream",
     "text": [
      "<class 'pandas.core.frame.DataFrame'>\n",
      "RangeIndex: 891 entries, 0 to 890\n",
      "Data columns (total 12 columns):\n",
      " #   Column       Non-Null Count  Dtype  \n",
      "---  ------       --------------  -----  \n",
      " 0   PassengerId  891 non-null    int64  \n",
      " 1   Survived     891 non-null    int64  \n",
      " 2   Pclass       891 non-null    int64  \n",
      " 3   Name         891 non-null    object \n",
      " 4   Sex          891 non-null    object \n",
      " 5   Age          714 non-null    float64\n",
      " 6   SibSp        891 non-null    int64  \n",
      " 7   Parch        891 non-null    int64  \n",
      " 8   Ticket       891 non-null    object \n",
      " 9   Fare         891 non-null    float64\n",
      " 10  Cabin        204 non-null    object \n",
      " 11  Embarked     889 non-null    object \n",
      "dtypes: float64(2), int64(5), object(5)\n",
      "memory usage: 83.7+ KB\n"
     ]
    }
   ],
   "source": [
    "data.info()"
   ]
  },
  {
   "cell_type": "code",
   "execution_count": 168,
   "id": "f6847620-4414-4374-a8df-3cca3dec7ef8",
   "metadata": {},
   "outputs": [],
   "source": [
    "data[\"Age\"].fillna(data[\"Age\"].mean(), inplace=True)"
   ]
  },
  {
   "cell_type": "code",
   "execution_count": 170,
   "id": "6b10efb0-8dff-4964-8529-b4d509ed593d",
   "metadata": {},
   "outputs": [
    {
     "data": {
      "text/plain": [
       "29.69911764705882"
      ]
     },
     "execution_count": 170,
     "metadata": {},
     "output_type": "execute_result"
    }
   ],
   "source": [
    "data[\"Age\"].mean()"
   ]
  },
  {
   "cell_type": "code",
   "execution_count": 172,
   "id": "2ed179cc-9137-46f6-96e1-136dbc269639",
   "metadata": {},
   "outputs": [
    {
     "data": {
      "text/plain": [
       "<Axes: >"
      ]
     },
     "execution_count": 172,
     "metadata": {},
     "output_type": "execute_result"
    },
    {
     "data": {
      "image/png": "[encoded data removed]",
      "text/plain": [
       "<Figure size 640x480 with 1 Axes>"
      ]
     },
     "metadata": {},
     "output_type": "display_data"
    }
   ],
   "source": [
    "df1.plot()"
   ]
  },
  {
   "cell_type": "code",
   "execution_count": 180,
   "id": "7601875a-6c9d-4381-b362-ad26315860c8",
   "metadata": {},
   "outputs": [
    {
     "data": {
      "text/plain": [
       "<Axes: >"
      ]
     },
     "execution_count": 180,
     "metadata": {},
     "output_type": "execute_result"
    },
    {
     "data": {
      "image/png": "[encoded data removed]",
      "text/plain": [
       "<Figure size 640x480 with 1 Axes>"
      ]
     },
     "metadata": {},
     "output_type": "display_data"
    }
   ],
   "source": [
    "df1.interpolate(method='quadratic').plot()"
   ]
  },
  {
   "cell_type": "markdown",
   "id": "6a56b83c-d91b-4781-bffd-ec41b885e055",
   "metadata": {},
   "source": [
    "## Strings"
   ]
  },
  {
   "cell_type": "code",
   "execution_count": 183,
   "id": "eaeaeece-28d4-4b33-91ab-04ef4f095662",
   "metadata": {},
   "outputs": [
    {
     "data": {
      "text/plain": [
       "0                                braund, mr. owen harris\n",
       "1      cumings, mrs. john bradley (florence briggs th...\n",
       "2                                 heikkinen, miss. laina\n",
       "3           futrelle, mrs. jacques heath (lily may peel)\n",
       "4                               allen, mr. william henry\n",
       "                             ...                        \n",
       "886                                montvila, rev. juozas\n",
       "887                         graham, miss. margaret edith\n",
       "888             johnston, miss. catherine helen \"carrie\"\n",
       "889                                behr, mr. karl howell\n",
       "890                                  dooley, mr. patrick\n",
       "Name: Name, Length: 891, dtype: object"
      ]
     },
     "execution_count": 183,
     "metadata": {},
     "output_type": "execute_result"
    }
   ],
   "source": [
    "data[\"Name\"].str.lower()"
   ]
  },
  {
   "cell_type": "code",
   "execution_count": 185,
   "id": "fa9bb458-dbc5-4bdb-b1a6-268a0a06e006",
   "metadata": {},
   "outputs": [
    {
     "data": {
      "text/plain": [
       "0                                Braund, mr. owen harris\n",
       "1      Cumings, mrs. john bradley (florence briggs th...\n",
       "2                                 Heikkinen, miss. laina\n",
       "3           Futrelle, mrs. jacques heath (lily may peel)\n",
       "4                               Allen, mr. william henry\n",
       "                             ...                        \n",
       "886                                Montvila, rev. juozas\n",
       "887                         Graham, miss. margaret edith\n",
       "888             Johnston, miss. catherine helen \"carrie\"\n",
       "889                                Behr, mr. karl howell\n",
       "890                                  Dooley, mr. patrick\n",
       "Name: Name, Length: 891, dtype: object"
      ]
     },
     "execution_count": 185,
     "metadata": {},
     "output_type": "execute_result"
    }
   ],
   "source": [
    "data[\"Name\"].str.capitalize()"
   ]
  },
  {
   "cell_type": "code",
   "execution_count": 187,
   "id": "40f7153b-7ba1-457a-aeb9-9e09cde10051",
   "metadata": {},
   "outputs": [
    {
     "data": {
      "text/plain": [
       "0                                Braund, Mr. Owen Harris\n",
       "1      Cumings, Mrs. John Bradley (Florence Briggs Th...\n",
       "2                                 Heikkinen, Miss. Laina\n",
       "3           Futrelle, Mrs. Jacques Heath (Lily May Peel)\n",
       "4                               Allen, Mr. William Henry\n",
       "                             ...                        \n",
       "886                                Montvila, Rev. Juozas\n",
       "887                         Graham, Miss. Margaret Edith\n",
       "888             Johnston, Miss. Catherine Helen \"Carrie\"\n",
       "889                                Behr, Mr. Karl Howell\n",
       "890                                  Dooley, Mr. Patrick\n",
       "Name: Name, Length: 891, dtype: object"
      ]
     },
     "execution_count": 187,
     "metadata": {},
     "output_type": "execute_result"
    }
   ],
   "source": [
    "data[\"Name\"].str.title()"
   ]
  },
  {
   "cell_type": "code",
   "execution_count": 189,
   "id": "c8bdac2c-6e7a-4330-ba7c-2a9d0c2990fa",
   "metadata": {},
   "outputs": [
    {
     "data": {
      "text/plain": [
       "0      23\n",
       "1      51\n",
       "2      22\n",
       "3      44\n",
       "4      24\n",
       "       ..\n",
       "886    21\n",
       "887    28\n",
       "888    40\n",
       "889    21\n",
       "890    19\n",
       "Name: Name, Length: 891, dtype: int64"
      ]
     },
     "execution_count": 189,
     "metadata": {},
     "output_type": "execute_result"
    }
   ],
   "source": [
    "data[\"Name\"].str.len()"
   ]
  },
  {
   "cell_type": "code",
   "execution_count": 193,
   "id": "9f17da5f-fd41-4772-ad98-1823f4802374",
   "metadata": {},
   "outputs": [
    {
     "data": {
      "text/plain": [
       "650"
      ]
     },
     "execution_count": 193,
     "metadata": {},
     "output_type": "execute_result"
    }
   ],
   "source": [
    "data[\"Name\"].str.count(\"Mr\").sum()"
   ]
  },
  {
   "cell_type": "code",
   "execution_count": 197,
   "id": "792cc903-9690-497b-b253-11a312cb5394",
   "metadata": {},
   "outputs": [
    {
     "data": {
      "text/plain": [
       "9"
      ]
     },
     "execution_count": 197,
     "metadata": {},
     "output_type": "execute_result"
    }
   ],
   "source": [
    "data[\"Name\"].str.contains(\"Andersson\").sum()"
   ]
  },
  {
   "cell_type": "code",
   "execution_count": 199,
   "id": "bcfc8df7-6d7f-4939-bde8-aef28983bbed",
   "metadata": {},
   "outputs": [
    {
     "data": {
      "text/plain": [
       "True"
      ]
     },
     "execution_count": 199,
     "metadata": {},
     "output_type": "execute_result"
    }
   ],
   "source": [
    "data[\"Name\"].str.startswith(\"John\").any()"
   ]
  },
  {
   "cell_type": "code",
   "execution_count": 201,
   "id": "e51bf9ec-be0d-4178-b1a9-dd3dc4240841",
   "metadata": {},
   "outputs": [
    {
     "data": {
      "text/plain": [
       "0       NaN\n",
       "1      True\n",
       "2       NaN\n",
       "3      True\n",
       "4       NaN\n",
       "       ... \n",
       "886     NaN\n",
       "887    True\n",
       "888     NaN\n",
       "889    True\n",
       "890     NaN\n",
       "Name: Cabin, Length: 891, dtype: object"
      ]
     },
     "execution_count": 201,
     "metadata": {},
     "output_type": "execute_result"
    }
   ],
   "source": [
    "data[\"Cabin\"].str.isalnum()"
   ]
  },
  {
   "cell_type": "code",
   "execution_count": 203,
   "id": "96c9f664-f484-4e24-887e-60f75d4bec2b",
   "metadata": {},
   "outputs": [
    {
     "data": {
      "text/plain": [
       "0        NaN\n",
       "1      False\n",
       "2        NaN\n",
       "3      False\n",
       "4        NaN\n",
       "       ...  \n",
       "886      NaN\n",
       "887    False\n",
       "888      NaN\n",
       "889    False\n",
       "890      NaN\n",
       "Name: Cabin, Length: 891, dtype: object"
      ]
     },
     "execution_count": 203,
     "metadata": {},
     "output_type": "execute_result"
    }
   ],
   "source": [
    "data[\"Cabin\"].str.isalpha()"
   ]
  },
  {
   "cell_type": "code",
   "execution_count": 205,
   "id": "37d82f76-a860-44dc-8ae8-98ce94f97cb2",
   "metadata": {},
   "outputs": [
    {
     "data": {
      "text/plain": [
       "0      Braun\n",
       "1      Cumin\n",
       "2      Heikk\n",
       "3      Futre\n",
       "4      Allen\n",
       "       ...  \n",
       "886    Montv\n",
       "887    Graha\n",
       "888    Johns\n",
       "889    Behr,\n",
       "890    Doole\n",
       "Name: Name, Length: 891, dtype: object"
      ]
     },
     "execution_count": 205,
     "metadata": {},
     "output_type": "execute_result"
    }
   ],
   "source": [
    "data[\"Name\"].str[:5]"
   ]
  },
  {
   "cell_type": "code",
   "execution_count": 207,
   "id": "a6afad9a-910b-4d93-ac57-9f620cc2de0a",
   "metadata": {},
   "outputs": [
    {
     "data": {
      "text/plain": [
       "0      wen Harris\n",
       "1      gs Thayer)\n",
       "2      iss. Laina\n",
       "3       May Peel)\n",
       "4      liam Henry\n",
       "          ...    \n",
       "886    ev. Juozas\n",
       "887    aret Edith\n",
       "888    n \"Carrie\"\n",
       "889    arl Howell\n",
       "890    r. Patrick\n",
       "Name: Name, Length: 891, dtype: object"
      ]
     },
     "execution_count": 207,
     "metadata": {},
     "output_type": "execute_result"
    }
   ],
   "source": [
    "data[\"Name\"].str[-10:]"
   ]
  },
  {
   "cell_type": "markdown",
   "id": "cfa09268-5df5-49b4-9b1f-51467919c5a6",
   "metadata": {},
   "source": [
    "## Fechas / GoldPrice"
   ]
  },
  {
   "cell_type": "code",
   "execution_count": 211,
   "id": "8bcbc513-8dc7-4ce8-ba56-bcb874742640",
   "metadata": {},
   "outputs": [],
   "source": [
    "gold = pd.read_csv(\"goldprice.csv\")"
   ]
  },
  {
   "cell_type": "code",
   "execution_count": 215,
   "id": "9fa94584-7524-45c2-ab97-9881e1213d5c",
   "metadata": {},
   "outputs": [
    {
     "name": "stdout",
     "output_type": "stream",
     "text": [
      "<class 'pandas.core.frame.DataFrame'>\n",
      "RangeIndex: 9771 entries, 0 to 9770\n",
      "Data columns (total 5 columns):\n",
      " #   Column  Non-Null Count  Dtype  \n",
      "---  ------  --------------  -----  \n",
      " 0   Date    9771 non-null   object \n",
      " 1   Price   9771 non-null   float64\n",
      " 2   Open    9771 non-null   float64\n",
      " 3   High    9771 non-null   float64\n",
      " 4   Low     9771 non-null   float64\n",
      "dtypes: float64(4), object(1)\n",
      "memory usage: 381.8+ KB\n"
     ]
    }
   ],
   "source": [
    "gold.info()"
   ]
  },
  {
   "cell_type": "code",
   "execution_count": 217,
   "id": "2ad7dd9b-a616-4501-b588-c046c867102e",
   "metadata": {},
   "outputs": [
    {
     "data": {
      "text/html": [
       "<div>\n",
       "<style scoped>\n",
       "    .dataframe tbody tr th:only-of-type {\n",
       "        vertical-align: middle;\n",
       "    }\n",
       "\n",
       "    .dataframe tbody tr th {\n",
       "        vertical-align: top;\n",
       "    }\n",
       "\n",
       "    .dataframe thead th {\n",
       "        text-align: right;\n",
       "    }\n",
       "</style>\n",
       "<table border=\"1\" class=\"dataframe\">\n",
       "  <thead>\n",
       "    <tr style=\"text-align: right;\">\n",
       "      <th></th>\n",
       "      <th>Date</th>\n",
       "      <th>Price</th>\n",
       "      <th>Open</th>\n",
       "      <th>High</th>\n",
       "      <th>Low</th>\n",
       "    </tr>\n",
       "  </thead>\n",
       "  <tbody>\n",
       "    <tr>\n",
       "      <th>0</th>\n",
       "      <td>Aug 01, 2018</td>\n",
       "      <td>1216.6</td>\n",
       "      <td>1223.40</td>\n",
       "      <td>1223.4</td>\n",
       "      <td>1216.20</td>\n",
       "    </tr>\n",
       "    <tr>\n",
       "      <th>1</th>\n",
       "      <td>Jul 31, 2018</td>\n",
       "      <td>1223.7</td>\n",
       "      <td>1220.40</td>\n",
       "      <td>1228.1</td>\n",
       "      <td>1213.00</td>\n",
       "    </tr>\n",
       "    <tr>\n",
       "      <th>2</th>\n",
       "      <td>Jul 30, 2018</td>\n",
       "      <td>1221.3</td>\n",
       "      <td>1222.50</td>\n",
       "      <td>1223.9</td>\n",
       "      <td>1218.10</td>\n",
       "    </tr>\n",
       "    <tr>\n",
       "      <th>3</th>\n",
       "      <td>Jul 27, 2018</td>\n",
       "      <td>1222.2</td>\n",
       "      <td>1223.50</td>\n",
       "      <td>1226.8</td>\n",
       "      <td>1216.70</td>\n",
       "    </tr>\n",
       "    <tr>\n",
       "      <th>4</th>\n",
       "      <td>Jul 26, 2018</td>\n",
       "      <td>1225.3</td>\n",
       "      <td>1227.80</td>\n",
       "      <td>1227.8</td>\n",
       "      <td>1227.80</td>\n",
       "    </tr>\n",
       "    <tr>\n",
       "      <th>...</th>\n",
       "      <td>...</td>\n",
       "      <td>...</td>\n",
       "      <td>...</td>\n",
       "      <td>...</td>\n",
       "      <td>...</td>\n",
       "    </tr>\n",
       "    <tr>\n",
       "      <th>9766</th>\n",
       "      <td>Jan 03, 1980</td>\n",
       "      <td>625.0</td>\n",
       "      <td>627.00</td>\n",
       "      <td>640.0</td>\n",
       "      <td>603.00</td>\n",
       "    </tr>\n",
       "    <tr>\n",
       "      <th>9767</th>\n",
       "      <td>Jan 02, 1980</td>\n",
       "      <td>575.5</td>\n",
       "      <td>562.50</td>\n",
       "      <td>577.0</td>\n",
       "      <td>558.00</td>\n",
       "    </tr>\n",
       "    <tr>\n",
       "      <th>9768</th>\n",
       "      <td>Dec 31, 1979</td>\n",
       "      <td>533.6</td>\n",
       "      <td>527.88</td>\n",
       "      <td>534.5</td>\n",
       "      <td>527.88</td>\n",
       "    </tr>\n",
       "    <tr>\n",
       "      <th>9769</th>\n",
       "      <td>Dec 28, 1979</td>\n",
       "      <td>517.8</td>\n",
       "      <td>516.00</td>\n",
       "      <td>517.8</td>\n",
       "      <td>510.40</td>\n",
       "    </tr>\n",
       "    <tr>\n",
       "      <th>9770</th>\n",
       "      <td>Dec 27, 1979</td>\n",
       "      <td>515.5</td>\n",
       "      <td>517.00</td>\n",
       "      <td>517.0</td>\n",
       "      <td>513.00</td>\n",
       "    </tr>\n",
       "  </tbody>\n",
       "</table>\n",
       "<p>9771 rows × 5 columns</p>\n",
       "</div>"
      ],
      "text/plain": [
       "              Date   Price     Open    High      Low\n",
       "0     Aug 01, 2018  1216.6  1223.40  1223.4  1216.20\n",
       "1     Jul 31, 2018  1223.7  1220.40  1228.1  1213.00\n",
       "2     Jul 30, 2018  1221.3  1222.50  1223.9  1218.10\n",
       "3     Jul 27, 2018  1222.2  1223.50  1226.8  1216.70\n",
       "4     Jul 26, 2018  1225.3  1227.80  1227.8  1227.80\n",
       "...            ...     ...      ...     ...      ...\n",
       "9766  Jan 03, 1980   625.0   627.00   640.0   603.00\n",
       "9767  Jan 02, 1980   575.5   562.50   577.0   558.00\n",
       "9768  Dec 31, 1979   533.6   527.88   534.5   527.88\n",
       "9769  Dec 28, 1979   517.8   516.00   517.8   510.40\n",
       "9770  Dec 27, 1979   515.5   517.00   517.0   513.00\n",
       "\n",
       "[9771 rows x 5 columns]"
      ]
     },
     "execution_count": 217,
     "metadata": {},
     "output_type": "execute_result"
    }
   ],
   "source": [
    "gold"
   ]
  },
  {
   "cell_type": "code",
   "execution_count": 219,
   "id": "80f2af69-90e5-47f8-b349-3e2a015adbed",
   "metadata": {},
   "outputs": [],
   "source": [
    "gold[\"Date\"] = pd.to_datetime(gold[\"Date\"])"
   ]
  },
  {
   "cell_type": "code",
   "execution_count": 221,
   "id": "1b8ae64e-a413-45bb-8b8e-8fca8c4dda69",
   "metadata": {},
   "outputs": [
    {
     "name": "stdout",
     "output_type": "stream",
     "text": [
      "<class 'pandas.core.frame.DataFrame'>\n",
      "RangeIndex: 9771 entries, 0 to 9770\n",
      "Data columns (total 5 columns):\n",
      " #   Column  Non-Null Count  Dtype         \n",
      "---  ------  --------------  -----         \n",
      " 0   Date    9771 non-null   datetime64[ns]\n",
      " 1   Price   9771 non-null   float64       \n",
      " 2   Open    9771 non-null   float64       \n",
      " 3   High    9771 non-null   float64       \n",
      " 4   Low     9771 non-null   float64       \n",
      "dtypes: datetime64[ns](1), float64(4)\n",
      "memory usage: 381.8 KB\n"
     ]
    }
   ],
   "source": [
    "gold.info()"
   ]
  },
  {
   "cell_type": "markdown",
   "id": "eb45bf9c-8903-404d-945f-8db8b3977760",
   "metadata": {},
   "source": [
    "## Operaciones con tipos de datos datetime64"
   ]
  },
  {
   "cell_type": "code",
   "execution_count": 228,
   "id": "0b0f9b26-d6de-4b1e-8bb6-1aabe622ca55",
   "metadata": {},
   "outputs": [
    {
     "data": {
      "text/plain": [
       "0       2018\n",
       "1       2018\n",
       "2       2018\n",
       "3       2018\n",
       "4       2018\n",
       "        ... \n",
       "9766    1980\n",
       "9767    1980\n",
       "9768    1979\n",
       "9769    1979\n",
       "9770    1979\n",
       "Name: Date, Length: 9771, dtype: int32"
      ]
     },
     "execution_count": 228,
     "metadata": {},
     "output_type": "execute_result"
    }
   ],
   "source": [
    "gold[\"Date\"].dt.year"
   ]
  },
  {
   "cell_type": "code",
   "execution_count": 230,
   "id": "ec4b8936-e8dc-453e-9c18-ac228a0c25f6",
   "metadata": {},
   "outputs": [
    {
     "data": {
      "text/plain": [
       "Timestamp('1979-12-27 00:00:00')"
      ]
     },
     "execution_count": 230,
     "metadata": {},
     "output_type": "execute_result"
    }
   ],
   "source": [
    "gold.Date.min()"
   ]
  },
  {
   "cell_type": "code",
   "execution_count": 232,
   "id": "e7f4ae56-a6dc-4292-a00e-480326b06f3e",
   "metadata": {},
   "outputs": [
    {
     "data": {
      "text/plain": [
       "Timestamp('2018-08-01 00:00:00')"
      ]
     },
     "execution_count": 232,
     "metadata": {},
     "output_type": "execute_result"
    }
   ],
   "source": [
    "gold.Date.max()"
   ]
  },
  {
   "cell_type": "code",
   "execution_count": 234,
   "id": "4bd2ca5b-20fd-41ed-bf95-3f01dc3ea2aa",
   "metadata": {},
   "outputs": [
    {
     "data": {
      "text/plain": [
       "Timedelta('14097 days 00:00:00')"
      ]
     },
     "execution_count": 234,
     "metadata": {},
     "output_type": "execute_result"
    }
   ],
   "source": [
    "gold.Date.max()-gold.Date.min()"
   ]
  },
  {
   "cell_type": "code",
   "execution_count": 236,
   "id": "4744619c-5d83-4380-88c2-b9274df73ee9",
   "metadata": {},
   "outputs": [
    {
     "data": {
      "text/html": [
       "<div>\n",
       "<style scoped>\n",
       "    .dataframe tbody tr th:only-of-type {\n",
       "        vertical-align: middle;\n",
       "    }\n",
       "\n",
       "    .dataframe tbody tr th {\n",
       "        vertical-align: top;\n",
       "    }\n",
       "\n",
       "    .dataframe thead th {\n",
       "        text-align: right;\n",
       "    }\n",
       "</style>\n",
       "<table border=\"1\" class=\"dataframe\">\n",
       "  <thead>\n",
       "    <tr style=\"text-align: right;\">\n",
       "      <th></th>\n",
       "      <th>Date</th>\n",
       "      <th>Price</th>\n",
       "      <th>Open</th>\n",
       "      <th>High</th>\n",
       "      <th>Low</th>\n",
       "    </tr>\n",
       "  </thead>\n",
       "  <tbody>\n",
       "    <tr>\n",
       "      <th>0</th>\n",
       "      <td>2018-08-01</td>\n",
       "      <td>1216.6</td>\n",
       "      <td>1223.40</td>\n",
       "      <td>1223.4</td>\n",
       "      <td>1216.20</td>\n",
       "    </tr>\n",
       "    <tr>\n",
       "      <th>1</th>\n",
       "      <td>2018-07-31</td>\n",
       "      <td>1223.7</td>\n",
       "      <td>1220.40</td>\n",
       "      <td>1228.1</td>\n",
       "      <td>1213.00</td>\n",
       "    </tr>\n",
       "    <tr>\n",
       "      <th>2</th>\n",
       "      <td>2018-07-30</td>\n",
       "      <td>1221.3</td>\n",
       "      <td>1222.50</td>\n",
       "      <td>1223.9</td>\n",
       "      <td>1218.10</td>\n",
       "    </tr>\n",
       "    <tr>\n",
       "      <th>3</th>\n",
       "      <td>2018-07-27</td>\n",
       "      <td>1222.2</td>\n",
       "      <td>1223.50</td>\n",
       "      <td>1226.8</td>\n",
       "      <td>1216.70</td>\n",
       "    </tr>\n",
       "    <tr>\n",
       "      <th>4</th>\n",
       "      <td>2018-07-26</td>\n",
       "      <td>1225.3</td>\n",
       "      <td>1227.80</td>\n",
       "      <td>1227.8</td>\n",
       "      <td>1227.80</td>\n",
       "    </tr>\n",
       "    <tr>\n",
       "      <th>...</th>\n",
       "      <td>...</td>\n",
       "      <td>...</td>\n",
       "      <td>...</td>\n",
       "      <td>...</td>\n",
       "      <td>...</td>\n",
       "    </tr>\n",
       "    <tr>\n",
       "      <th>9766</th>\n",
       "      <td>1980-01-03</td>\n",
       "      <td>625.0</td>\n",
       "      <td>627.00</td>\n",
       "      <td>640.0</td>\n",
       "      <td>603.00</td>\n",
       "    </tr>\n",
       "    <tr>\n",
       "      <th>9767</th>\n",
       "      <td>1980-01-02</td>\n",
       "      <td>575.5</td>\n",
       "      <td>562.50</td>\n",
       "      <td>577.0</td>\n",
       "      <td>558.00</td>\n",
       "    </tr>\n",
       "    <tr>\n",
       "      <th>9768</th>\n",
       "      <td>1979-12-31</td>\n",
       "      <td>533.6</td>\n",
       "      <td>527.88</td>\n",
       "      <td>534.5</td>\n",
       "      <td>527.88</td>\n",
       "    </tr>\n",
       "    <tr>\n",
       "      <th>9769</th>\n",
       "      <td>1979-12-28</td>\n",
       "      <td>517.8</td>\n",
       "      <td>516.00</td>\n",
       "      <td>517.8</td>\n",
       "      <td>510.40</td>\n",
       "    </tr>\n",
       "    <tr>\n",
       "      <th>9770</th>\n",
       "      <td>1979-12-27</td>\n",
       "      <td>515.5</td>\n",
       "      <td>517.00</td>\n",
       "      <td>517.0</td>\n",
       "      <td>513.00</td>\n",
       "    </tr>\n",
       "  </tbody>\n",
       "</table>\n",
       "<p>9771 rows × 5 columns</p>\n",
       "</div>"
      ],
      "text/plain": [
       "           Date   Price     Open    High      Low\n",
       "0    2018-08-01  1216.6  1223.40  1223.4  1216.20\n",
       "1    2018-07-31  1223.7  1220.40  1228.1  1213.00\n",
       "2    2018-07-30  1221.3  1222.50  1223.9  1218.10\n",
       "3    2018-07-27  1222.2  1223.50  1226.8  1216.70\n",
       "4    2018-07-26  1225.3  1227.80  1227.8  1227.80\n",
       "...         ...     ...      ...     ...      ...\n",
       "9766 1980-01-03   625.0   627.00   640.0   603.00\n",
       "9767 1980-01-02   575.5   562.50   577.0   558.00\n",
       "9768 1979-12-31   533.6   527.88   534.5   527.88\n",
       "9769 1979-12-28   517.8   516.00   517.8   510.40\n",
       "9770 1979-12-27   515.5   517.00   517.0   513.00\n",
       "\n",
       "[9771 rows x 5 columns]"
      ]
     },
     "execution_count": 236,
     "metadata": {},
     "output_type": "execute_result"
    }
   ],
   "source": [
    "gold"
   ]
  },
  {
   "cell_type": "code",
   "execution_count": 238,
   "id": "925b5f94-f376-41eb-8e7d-4ae5800dab79",
   "metadata": {},
   "outputs": [],
   "source": [
    "gold.set_index(\"Date\", inplace=True)"
   ]
  },
  {
   "cell_type": "code",
   "execution_count": 240,
   "id": "4527b5c4-5efe-4be3-9023-f0914da2390a",
   "metadata": {},
   "outputs": [
    {
     "data": {
      "text/html": [
       "<div>\n",
       "<style scoped>\n",
       "    .dataframe tbody tr th:only-of-type {\n",
       "        vertical-align: middle;\n",
       "    }\n",
       "\n",
       "    .dataframe tbody tr th {\n",
       "        vertical-align: top;\n",
       "    }\n",
       "\n",
       "    .dataframe thead th {\n",
       "        text-align: right;\n",
       "    }\n",
       "</style>\n",
       "<table border=\"1\" class=\"dataframe\">\n",
       "  <thead>\n",
       "    <tr style=\"text-align: right;\">\n",
       "      <th></th>\n",
       "      <th>Price</th>\n",
       "      <th>Open</th>\n",
       "      <th>High</th>\n",
       "      <th>Low</th>\n",
       "    </tr>\n",
       "    <tr>\n",
       "      <th>Date</th>\n",
       "      <th></th>\n",
       "      <th></th>\n",
       "      <th></th>\n",
       "      <th></th>\n",
       "    </tr>\n",
       "  </thead>\n",
       "  <tbody>\n",
       "    <tr>\n",
       "      <th>2018-08-01</th>\n",
       "      <td>1216.6</td>\n",
       "      <td>1223.40</td>\n",
       "      <td>1223.4</td>\n",
       "      <td>1216.20</td>\n",
       "    </tr>\n",
       "    <tr>\n",
       "      <th>2018-07-31</th>\n",
       "      <td>1223.7</td>\n",
       "      <td>1220.40</td>\n",
       "      <td>1228.1</td>\n",
       "      <td>1213.00</td>\n",
       "    </tr>\n",
       "    <tr>\n",
       "      <th>2018-07-30</th>\n",
       "      <td>1221.3</td>\n",
       "      <td>1222.50</td>\n",
       "      <td>1223.9</td>\n",
       "      <td>1218.10</td>\n",
       "    </tr>\n",
       "    <tr>\n",
       "      <th>2018-07-27</th>\n",
       "      <td>1222.2</td>\n",
       "      <td>1223.50</td>\n",
       "      <td>1226.8</td>\n",
       "      <td>1216.70</td>\n",
       "    </tr>\n",
       "    <tr>\n",
       "      <th>2018-07-26</th>\n",
       "      <td>1225.3</td>\n",
       "      <td>1227.80</td>\n",
       "      <td>1227.8</td>\n",
       "      <td>1227.80</td>\n",
       "    </tr>\n",
       "    <tr>\n",
       "      <th>...</th>\n",
       "      <td>...</td>\n",
       "      <td>...</td>\n",
       "      <td>...</td>\n",
       "      <td>...</td>\n",
       "    </tr>\n",
       "    <tr>\n",
       "      <th>1980-01-03</th>\n",
       "      <td>625.0</td>\n",
       "      <td>627.00</td>\n",
       "      <td>640.0</td>\n",
       "      <td>603.00</td>\n",
       "    </tr>\n",
       "    <tr>\n",
       "      <th>1980-01-02</th>\n",
       "      <td>575.5</td>\n",
       "      <td>562.50</td>\n",
       "      <td>577.0</td>\n",
       "      <td>558.00</td>\n",
       "    </tr>\n",
       "    <tr>\n",
       "      <th>1979-12-31</th>\n",
       "      <td>533.6</td>\n",
       "      <td>527.88</td>\n",
       "      <td>534.5</td>\n",
       "      <td>527.88</td>\n",
       "    </tr>\n",
       "    <tr>\n",
       "      <th>1979-12-28</th>\n",
       "      <td>517.8</td>\n",
       "      <td>516.00</td>\n",
       "      <td>517.8</td>\n",
       "      <td>510.40</td>\n",
       "    </tr>\n",
       "    <tr>\n",
       "      <th>1979-12-27</th>\n",
       "      <td>515.5</td>\n",
       "      <td>517.00</td>\n",
       "      <td>517.0</td>\n",
       "      <td>513.00</td>\n",
       "    </tr>\n",
       "  </tbody>\n",
       "</table>\n",
       "<p>9771 rows × 4 columns</p>\n",
       "</div>"
      ],
      "text/plain": [
       "             Price     Open    High      Low\n",
       "Date                                        \n",
       "2018-08-01  1216.6  1223.40  1223.4  1216.20\n",
       "2018-07-31  1223.7  1220.40  1228.1  1213.00\n",
       "2018-07-30  1221.3  1222.50  1223.9  1218.10\n",
       "2018-07-27  1222.2  1223.50  1226.8  1216.70\n",
       "2018-07-26  1225.3  1227.80  1227.8  1227.80\n",
       "...            ...      ...     ...      ...\n",
       "1980-01-03   625.0   627.00   640.0   603.00\n",
       "1980-01-02   575.5   562.50   577.0   558.00\n",
       "1979-12-31   533.6   527.88   534.5   527.88\n",
       "1979-12-28   517.8   516.00   517.8   510.40\n",
       "1979-12-27   515.5   517.00   517.0   513.00\n",
       "\n",
       "[9771 rows x 4 columns]"
      ]
     },
     "execution_count": 240,
     "metadata": {},
     "output_type": "execute_result"
    }
   ],
   "source": [
    "gold"
   ]
  },
  {
   "cell_type": "code",
   "execution_count": 242,
   "id": "be48e823-5d21-48dc-a801-5d5d87e90672",
   "metadata": {},
   "outputs": [
    {
     "data": {
      "text/html": [
       "<div>\n",
       "<style scoped>\n",
       "    .dataframe tbody tr th:only-of-type {\n",
       "        vertical-align: middle;\n",
       "    }\n",
       "\n",
       "    .dataframe tbody tr th {\n",
       "        vertical-align: top;\n",
       "    }\n",
       "\n",
       "    .dataframe thead th {\n",
       "        text-align: right;\n",
       "    }\n",
       "</style>\n",
       "<table border=\"1\" class=\"dataframe\">\n",
       "  <thead>\n",
       "    <tr style=\"text-align: right;\">\n",
       "      <th></th>\n",
       "      <th>Price</th>\n",
       "      <th>Open</th>\n",
       "      <th>High</th>\n",
       "      <th>Low</th>\n",
       "    </tr>\n",
       "    <tr>\n",
       "      <th>Date</th>\n",
       "      <th></th>\n",
       "      <th></th>\n",
       "      <th></th>\n",
       "      <th></th>\n",
       "    </tr>\n",
       "  </thead>\n",
       "  <tbody>\n",
       "    <tr>\n",
       "      <th>2016-12-30</th>\n",
       "      <td>1150.00</td>\n",
       "      <td>1162.0</td>\n",
       "      <td>1162.00</td>\n",
       "      <td>1151.0</td>\n",
       "    </tr>\n",
       "    <tr>\n",
       "      <th>2016-12-29</th>\n",
       "      <td>1156.40</td>\n",
       "      <td>1143.8</td>\n",
       "      <td>1158.80</td>\n",
       "      <td>1143.6</td>\n",
       "    </tr>\n",
       "    <tr>\n",
       "      <th>2016-12-28</th>\n",
       "      <td>1139.40</td>\n",
       "      <td>1141.2</td>\n",
       "      <td>1141.20</td>\n",
       "      <td>1138.0</td>\n",
       "    </tr>\n",
       "    <tr>\n",
       "      <th>2016-12-27</th>\n",
       "      <td>1137.30</td>\n",
       "      <td>1134.3</td>\n",
       "      <td>1142.20</td>\n",
       "      <td>1134.3</td>\n",
       "    </tr>\n",
       "    <tr>\n",
       "      <th>2016-12-26</th>\n",
       "      <td>1134.55</td>\n",
       "      <td>1135.0</td>\n",
       "      <td>1136.05</td>\n",
       "      <td>1134.0</td>\n",
       "    </tr>\n",
       "    <tr>\n",
       "      <th>...</th>\n",
       "      <td>...</td>\n",
       "      <td>...</td>\n",
       "      <td>...</td>\n",
       "      <td>...</td>\n",
       "    </tr>\n",
       "    <tr>\n",
       "      <th>2016-01-08</th>\n",
       "      <td>1097.80</td>\n",
       "      <td>1111.1</td>\n",
       "      <td>1111.10</td>\n",
       "      <td>1093.0</td>\n",
       "    </tr>\n",
       "    <tr>\n",
       "      <th>2016-01-07</th>\n",
       "      <td>1107.70</td>\n",
       "      <td>1091.6</td>\n",
       "      <td>1109.40</td>\n",
       "      <td>1091.6</td>\n",
       "    </tr>\n",
       "    <tr>\n",
       "      <th>2016-01-06</th>\n",
       "      <td>1091.90</td>\n",
       "      <td>1081.6</td>\n",
       "      <td>1093.70</td>\n",
       "      <td>1081.6</td>\n",
       "    </tr>\n",
       "    <tr>\n",
       "      <th>2016-01-05</th>\n",
       "      <td>1078.40</td>\n",
       "      <td>1075.6</td>\n",
       "      <td>1081.50</td>\n",
       "      <td>1075.3</td>\n",
       "    </tr>\n",
       "    <tr>\n",
       "      <th>2016-01-04</th>\n",
       "      <td>1075.10</td>\n",
       "      <td>1063.4</td>\n",
       "      <td>1082.50</td>\n",
       "      <td>1063.2</td>\n",
       "    </tr>\n",
       "  </tbody>\n",
       "</table>\n",
       "<p>265 rows × 4 columns</p>\n",
       "</div>"
      ],
      "text/plain": [
       "              Price    Open     High     Low\n",
       "Date                                        \n",
       "2016-12-30  1150.00  1162.0  1162.00  1151.0\n",
       "2016-12-29  1156.40  1143.8  1158.80  1143.6\n",
       "2016-12-28  1139.40  1141.2  1141.20  1138.0\n",
       "2016-12-27  1137.30  1134.3  1142.20  1134.3\n",
       "2016-12-26  1134.55  1135.0  1136.05  1134.0\n",
       "...             ...     ...      ...     ...\n",
       "2016-01-08  1097.80  1111.1  1111.10  1093.0\n",
       "2016-01-07  1107.70  1091.6  1109.40  1091.6\n",
       "2016-01-06  1091.90  1081.6  1093.70  1081.6\n",
       "2016-01-05  1078.40  1075.6  1081.50  1075.3\n",
       "2016-01-04  1075.10  1063.4  1082.50  1063.2\n",
       "\n",
       "[265 rows x 4 columns]"
      ]
     },
     "execution_count": 242,
     "metadata": {},
     "output_type": "execute_result"
    }
   ],
   "source": [
    "gold.loc[\"2016\"]"
   ]
  },
  {
   "cell_type": "code",
   "execution_count": 244,
   "id": "81ac6887-affc-48a7-90fe-d861d915db71",
   "metadata": {},
   "outputs": [
    {
     "data": {
      "text/html": [
       "<div>\n",
       "<style scoped>\n",
       "    .dataframe tbody tr th:only-of-type {\n",
       "        vertical-align: middle;\n",
       "    }\n",
       "\n",
       "    .dataframe tbody tr th {\n",
       "        vertical-align: top;\n",
       "    }\n",
       "\n",
       "    .dataframe thead th {\n",
       "        text-align: right;\n",
       "    }\n",
       "</style>\n",
       "<table border=\"1\" class=\"dataframe\">\n",
       "  <thead>\n",
       "    <tr style=\"text-align: right;\">\n",
       "      <th></th>\n",
       "      <th>Price</th>\n",
       "      <th>Open</th>\n",
       "      <th>High</th>\n",
       "      <th>Low</th>\n",
       "    </tr>\n",
       "    <tr>\n",
       "      <th>Date</th>\n",
       "      <th></th>\n",
       "      <th></th>\n",
       "      <th></th>\n",
       "      <th></th>\n",
       "    </tr>\n",
       "  </thead>\n",
       "  <tbody>\n",
       "    <tr>\n",
       "      <th>2016-01-29</th>\n",
       "      <td>1116.4</td>\n",
       "      <td>1114.4</td>\n",
       "      <td>1118.6</td>\n",
       "      <td>1108.8</td>\n",
       "    </tr>\n",
       "    <tr>\n",
       "      <th>2016-01-28</th>\n",
       "      <td>1115.6</td>\n",
       "      <td>1125.4</td>\n",
       "      <td>1125.7</td>\n",
       "      <td>1109.8</td>\n",
       "    </tr>\n",
       "    <tr>\n",
       "      <th>2016-01-27</th>\n",
       "      <td>1116.1</td>\n",
       "      <td>1117.8</td>\n",
       "      <td>1117.8</td>\n",
       "      <td>1115.8</td>\n",
       "    </tr>\n",
       "    <tr>\n",
       "      <th>2016-01-26</th>\n",
       "      <td>1121.7</td>\n",
       "      <td>1115.1</td>\n",
       "      <td>1115.9</td>\n",
       "      <td>1114.3</td>\n",
       "    </tr>\n",
       "    <tr>\n",
       "      <th>2016-01-25</th>\n",
       "      <td>1106.2</td>\n",
       "      <td>1099.3</td>\n",
       "      <td>1109.3</td>\n",
       "      <td>1099.3</td>\n",
       "    </tr>\n",
       "    <tr>\n",
       "      <th>2016-01-22</th>\n",
       "      <td>1097.2</td>\n",
       "      <td>1098.0</td>\n",
       "      <td>1103.2</td>\n",
       "      <td>1098.0</td>\n",
       "    </tr>\n",
       "    <tr>\n",
       "      <th>2016-01-21</th>\n",
       "      <td>1099.1</td>\n",
       "      <td>1103.6</td>\n",
       "      <td>1103.6</td>\n",
       "      <td>1094.1</td>\n",
       "    </tr>\n",
       "    <tr>\n",
       "      <th>2016-01-20</th>\n",
       "      <td>1107.1</td>\n",
       "      <td>1099.8</td>\n",
       "      <td>1109.8</td>\n",
       "      <td>1099.8</td>\n",
       "    </tr>\n",
       "    <tr>\n",
       "      <th>2016-01-19</th>\n",
       "      <td>1089.9</td>\n",
       "      <td>1089.8</td>\n",
       "      <td>1094.4</td>\n",
       "      <td>1084.9</td>\n",
       "    </tr>\n",
       "    <tr>\n",
       "      <th>2016-01-18</th>\n",
       "      <td>1088.5</td>\n",
       "      <td>1090.2</td>\n",
       "      <td>1093.3</td>\n",
       "      <td>1087.4</td>\n",
       "    </tr>\n",
       "    <tr>\n",
       "      <th>2016-01-17</th>\n",
       "      <td>1090.3</td>\n",
       "      <td>1088.6</td>\n",
       "      <td>1090.8</td>\n",
       "      <td>1088.6</td>\n",
       "    </tr>\n",
       "    <tr>\n",
       "      <th>2016-01-15</th>\n",
       "      <td>1091.5</td>\n",
       "      <td>1085.0</td>\n",
       "      <td>1095.8</td>\n",
       "      <td>1081.8</td>\n",
       "    </tr>\n",
       "    <tr>\n",
       "      <th>2016-01-14</th>\n",
       "      <td>1073.9</td>\n",
       "      <td>1091.5</td>\n",
       "      <td>1091.5</td>\n",
       "      <td>1073.7</td>\n",
       "    </tr>\n",
       "    <tr>\n",
       "      <th>2016-01-13</th>\n",
       "      <td>1087.5</td>\n",
       "      <td>1081.5</td>\n",
       "      <td>1093.9</td>\n",
       "      <td>1081.5</td>\n",
       "    </tr>\n",
       "    <tr>\n",
       "      <th>2016-01-12</th>\n",
       "      <td>1085.6</td>\n",
       "      <td>1093.8</td>\n",
       "      <td>1098.5</td>\n",
       "      <td>1084.0</td>\n",
       "    </tr>\n",
       "    <tr>\n",
       "      <th>2016-01-11</th>\n",
       "      <td>1096.5</td>\n",
       "      <td>1105.7</td>\n",
       "      <td>1107.9</td>\n",
       "      <td>1096.5</td>\n",
       "    </tr>\n",
       "    <tr>\n",
       "      <th>2016-01-08</th>\n",
       "      <td>1097.8</td>\n",
       "      <td>1111.1</td>\n",
       "      <td>1111.1</td>\n",
       "      <td>1093.0</td>\n",
       "    </tr>\n",
       "    <tr>\n",
       "      <th>2016-01-07</th>\n",
       "      <td>1107.7</td>\n",
       "      <td>1091.6</td>\n",
       "      <td>1109.4</td>\n",
       "      <td>1091.6</td>\n",
       "    </tr>\n",
       "    <tr>\n",
       "      <th>2016-01-06</th>\n",
       "      <td>1091.9</td>\n",
       "      <td>1081.6</td>\n",
       "      <td>1093.7</td>\n",
       "      <td>1081.6</td>\n",
       "    </tr>\n",
       "    <tr>\n",
       "      <th>2016-01-05</th>\n",
       "      <td>1078.4</td>\n",
       "      <td>1075.6</td>\n",
       "      <td>1081.5</td>\n",
       "      <td>1075.3</td>\n",
       "    </tr>\n",
       "    <tr>\n",
       "      <th>2016-01-04</th>\n",
       "      <td>1075.1</td>\n",
       "      <td>1063.4</td>\n",
       "      <td>1082.5</td>\n",
       "      <td>1063.2</td>\n",
       "    </tr>\n",
       "  </tbody>\n",
       "</table>\n",
       "</div>"
      ],
      "text/plain": [
       "             Price    Open    High     Low\n",
       "Date                                      \n",
       "2016-01-29  1116.4  1114.4  1118.6  1108.8\n",
       "2016-01-28  1115.6  1125.4  1125.7  1109.8\n",
       "2016-01-27  1116.1  1117.8  1117.8  1115.8\n",
       "2016-01-26  1121.7  1115.1  1115.9  1114.3\n",
       "2016-01-25  1106.2  1099.3  1109.3  1099.3\n",
       "2016-01-22  1097.2  1098.0  1103.2  1098.0\n",
       "2016-01-21  1099.1  1103.6  1103.6  1094.1\n",
       "2016-01-20  1107.1  1099.8  1109.8  1099.8\n",
       "2016-01-19  1089.9  1089.8  1094.4  1084.9\n",
       "2016-01-18  1088.5  1090.2  1093.3  1087.4\n",
       "2016-01-17  1090.3  1088.6  1090.8  1088.6\n",
       "2016-01-15  1091.5  1085.0  1095.8  1081.8\n",
       "2016-01-14  1073.9  1091.5  1091.5  1073.7\n",
       "2016-01-13  1087.5  1081.5  1093.9  1081.5\n",
       "2016-01-12  1085.6  1093.8  1098.5  1084.0\n",
       "2016-01-11  1096.5  1105.7  1107.9  1096.5\n",
       "2016-01-08  1097.8  1111.1  1111.1  1093.0\n",
       "2016-01-07  1107.7  1091.6  1109.4  1091.6\n",
       "2016-01-06  1091.9  1081.6  1093.7  1081.6\n",
       "2016-01-05  1078.4  1075.6  1081.5  1075.3\n",
       "2016-01-04  1075.1  1063.4  1082.5  1063.2"
      ]
     },
     "execution_count": 244,
     "metadata": {},
     "output_type": "execute_result"
    }
   ],
   "source": [
    "gold[(gold.index >=\"2016-01-01\") & (gold.index <= \"2016-01-31\")]"
   ]
  },
  {
   "attachments": {
    "b49c454c-d9cc-42cd-8873-ed8adea56b84.png": {
     "image/png": "[encoded data removed]"
    }
   },
   "cell_type": "markdown",
   "id": "c7c381b2-a5a5-40db-b305-f512c472bba2",
   "metadata": {},
   "source": [
    "![imagen.png](attachment:b49c454c-d9cc-42cd-8873-ed8adea56b84.png)"
   ]
  },
  {
   "cell_type": "code",
   "execution_count": 251,
   "id": "3ceaea7e-de18-4141-b6ca-fa29ab37f7a8",
   "metadata": {},
   "outputs": [
    {
     "data": {
      "text/html": [
       "<div>\n",
       "<style scoped>\n",
       "    .dataframe tbody tr th:only-of-type {\n",
       "        vertical-align: middle;\n",
       "    }\n",
       "\n",
       "    .dataframe tbody tr th {\n",
       "        vertical-align: top;\n",
       "    }\n",
       "\n",
       "    .dataframe thead th {\n",
       "        text-align: right;\n",
       "    }\n",
       "</style>\n",
       "<table border=\"1\" class=\"dataframe\">\n",
       "  <thead>\n",
       "    <tr style=\"text-align: right;\">\n",
       "      <th></th>\n",
       "      <th>Price</th>\n",
       "      <th>Open</th>\n",
       "      <th>High</th>\n",
       "      <th>Low</th>\n",
       "    </tr>\n",
       "    <tr>\n",
       "      <th>Date</th>\n",
       "      <th></th>\n",
       "      <th></th>\n",
       "      <th></th>\n",
       "      <th></th>\n",
       "    </tr>\n",
       "  </thead>\n",
       "  <tbody>\n",
       "    <tr>\n",
       "      <th>2018-08-01</th>\n",
       "      <td>1216.6</td>\n",
       "      <td>1223.40</td>\n",
       "      <td>1223.4</td>\n",
       "      <td>1216.20</td>\n",
       "    </tr>\n",
       "    <tr>\n",
       "      <th>2018-07-31</th>\n",
       "      <td>1223.7</td>\n",
       "      <td>1220.40</td>\n",
       "      <td>1228.1</td>\n",
       "      <td>1213.00</td>\n",
       "    </tr>\n",
       "    <tr>\n",
       "      <th>2018-07-30</th>\n",
       "      <td>1221.3</td>\n",
       "      <td>1222.50</td>\n",
       "      <td>1223.9</td>\n",
       "      <td>1218.10</td>\n",
       "    </tr>\n",
       "    <tr>\n",
       "      <th>2018-07-27</th>\n",
       "      <td>1222.2</td>\n",
       "      <td>1223.50</td>\n",
       "      <td>1226.8</td>\n",
       "      <td>1216.70</td>\n",
       "    </tr>\n",
       "    <tr>\n",
       "      <th>2018-07-26</th>\n",
       "      <td>1225.3</td>\n",
       "      <td>1227.80</td>\n",
       "      <td>1227.8</td>\n",
       "      <td>1227.80</td>\n",
       "    </tr>\n",
       "    <tr>\n",
       "      <th>...</th>\n",
       "      <td>...</td>\n",
       "      <td>...</td>\n",
       "      <td>...</td>\n",
       "      <td>...</td>\n",
       "    </tr>\n",
       "    <tr>\n",
       "      <th>1980-01-03</th>\n",
       "      <td>625.0</td>\n",
       "      <td>627.00</td>\n",
       "      <td>640.0</td>\n",
       "      <td>603.00</td>\n",
       "    </tr>\n",
       "    <tr>\n",
       "      <th>1980-01-02</th>\n",
       "      <td>575.5</td>\n",
       "      <td>562.50</td>\n",
       "      <td>577.0</td>\n",
       "      <td>558.00</td>\n",
       "    </tr>\n",
       "    <tr>\n",
       "      <th>1979-12-31</th>\n",
       "      <td>533.6</td>\n",
       "      <td>527.88</td>\n",
       "      <td>534.5</td>\n",
       "      <td>527.88</td>\n",
       "    </tr>\n",
       "    <tr>\n",
       "      <th>1979-12-28</th>\n",
       "      <td>517.8</td>\n",
       "      <td>516.00</td>\n",
       "      <td>517.8</td>\n",
       "      <td>510.40</td>\n",
       "    </tr>\n",
       "    <tr>\n",
       "      <th>1979-12-27</th>\n",
       "      <td>515.5</td>\n",
       "      <td>517.00</td>\n",
       "      <td>517.0</td>\n",
       "      <td>513.00</td>\n",
       "    </tr>\n",
       "  </tbody>\n",
       "</table>\n",
       "<p>9771 rows × 4 columns</p>\n",
       "</div>"
      ],
      "text/plain": [
       "             Price     Open    High      Low\n",
       "Date                                        \n",
       "2018-08-01  1216.6  1223.40  1223.4  1216.20\n",
       "2018-07-31  1223.7  1220.40  1228.1  1213.00\n",
       "2018-07-30  1221.3  1222.50  1223.9  1218.10\n",
       "2018-07-27  1222.2  1223.50  1226.8  1216.70\n",
       "2018-07-26  1225.3  1227.80  1227.8  1227.80\n",
       "...            ...      ...     ...      ...\n",
       "1980-01-03   625.0   627.00   640.0   603.00\n",
       "1980-01-02   575.5   562.50   577.0   558.00\n",
       "1979-12-31   533.6   527.88   534.5   527.88\n",
       "1979-12-28   517.8   516.00   517.8   510.40\n",
       "1979-12-27   515.5   517.00   517.0   513.00\n",
       "\n",
       "[9771 rows x 4 columns]"
      ]
     },
     "execution_count": 251,
     "metadata": {},
     "output_type": "execute_result"
    }
   ],
   "source": [
    "gold"
   ]
  },
  {
   "cell_type": "code",
   "execution_count": 255,
   "id": "266d0390-e54f-4bd2-97c1-72985778c20f",
   "metadata": {},
   "outputs": [],
   "source": [
    "gold.reset_index(inplace=True)"
   ]
  },
  {
   "cell_type": "code",
   "execution_count": 257,
   "id": "6c97284f-fb8f-4683-b980-b25c11ed4305",
   "metadata": {},
   "outputs": [
    {
     "data": {
      "text/html": [
       "<div>\n",
       "<style scoped>\n",
       "    .dataframe tbody tr th:only-of-type {\n",
       "        vertical-align: middle;\n",
       "    }\n",
       "\n",
       "    .dataframe tbody tr th {\n",
       "        vertical-align: top;\n",
       "    }\n",
       "\n",
       "    .dataframe thead th {\n",
       "        text-align: right;\n",
       "    }\n",
       "</style>\n",
       "<table border=\"1\" class=\"dataframe\">\n",
       "  <thead>\n",
       "    <tr style=\"text-align: right;\">\n",
       "      <th></th>\n",
       "      <th>Date</th>\n",
       "      <th>Price</th>\n",
       "      <th>Open</th>\n",
       "      <th>High</th>\n",
       "      <th>Low</th>\n",
       "    </tr>\n",
       "  </thead>\n",
       "  <tbody>\n",
       "    <tr>\n",
       "      <th>0</th>\n",
       "      <td>2018-08-01</td>\n",
       "      <td>1216.6</td>\n",
       "      <td>1223.40</td>\n",
       "      <td>1223.4</td>\n",
       "      <td>1216.20</td>\n",
       "    </tr>\n",
       "    <tr>\n",
       "      <th>1</th>\n",
       "      <td>2018-07-31</td>\n",
       "      <td>1223.7</td>\n",
       "      <td>1220.40</td>\n",
       "      <td>1228.1</td>\n",
       "      <td>1213.00</td>\n",
       "    </tr>\n",
       "    <tr>\n",
       "      <th>2</th>\n",
       "      <td>2018-07-30</td>\n",
       "      <td>1221.3</td>\n",
       "      <td>1222.50</td>\n",
       "      <td>1223.9</td>\n",
       "      <td>1218.10</td>\n",
       "    </tr>\n",
       "    <tr>\n",
       "      <th>3</th>\n",
       "      <td>2018-07-27</td>\n",
       "      <td>1222.2</td>\n",
       "      <td>1223.50</td>\n",
       "      <td>1226.8</td>\n",
       "      <td>1216.70</td>\n",
       "    </tr>\n",
       "    <tr>\n",
       "      <th>4</th>\n",
       "      <td>2018-07-26</td>\n",
       "      <td>1225.3</td>\n",
       "      <td>1227.80</td>\n",
       "      <td>1227.8</td>\n",
       "      <td>1227.80</td>\n",
       "    </tr>\n",
       "    <tr>\n",
       "      <th>...</th>\n",
       "      <td>...</td>\n",
       "      <td>...</td>\n",
       "      <td>...</td>\n",
       "      <td>...</td>\n",
       "      <td>...</td>\n",
       "    </tr>\n",
       "    <tr>\n",
       "      <th>9766</th>\n",
       "      <td>1980-01-03</td>\n",
       "      <td>625.0</td>\n",
       "      <td>627.00</td>\n",
       "      <td>640.0</td>\n",
       "      <td>603.00</td>\n",
       "    </tr>\n",
       "    <tr>\n",
       "      <th>9767</th>\n",
       "      <td>1980-01-02</td>\n",
       "      <td>575.5</td>\n",
       "      <td>562.50</td>\n",
       "      <td>577.0</td>\n",
       "      <td>558.00</td>\n",
       "    </tr>\n",
       "    <tr>\n",
       "      <th>9768</th>\n",
       "      <td>1979-12-31</td>\n",
       "      <td>533.6</td>\n",
       "      <td>527.88</td>\n",
       "      <td>534.5</td>\n",
       "      <td>527.88</td>\n",
       "    </tr>\n",
       "    <tr>\n",
       "      <th>9769</th>\n",
       "      <td>1979-12-28</td>\n",
       "      <td>517.8</td>\n",
       "      <td>516.00</td>\n",
       "      <td>517.8</td>\n",
       "      <td>510.40</td>\n",
       "    </tr>\n",
       "    <tr>\n",
       "      <th>9770</th>\n",
       "      <td>1979-12-27</td>\n",
       "      <td>515.5</td>\n",
       "      <td>517.00</td>\n",
       "      <td>517.0</td>\n",
       "      <td>513.00</td>\n",
       "    </tr>\n",
       "  </tbody>\n",
       "</table>\n",
       "<p>9771 rows × 5 columns</p>\n",
       "</div>"
      ],
      "text/plain": [
       "           Date   Price     Open    High      Low\n",
       "0    2018-08-01  1216.6  1223.40  1223.4  1216.20\n",
       "1    2018-07-31  1223.7  1220.40  1228.1  1213.00\n",
       "2    2018-07-30  1221.3  1222.50  1223.9  1218.10\n",
       "3    2018-07-27  1222.2  1223.50  1226.8  1216.70\n",
       "4    2018-07-26  1225.3  1227.80  1227.8  1227.80\n",
       "...         ...     ...      ...     ...      ...\n",
       "9766 1980-01-03   625.0   627.00   640.0   603.00\n",
       "9767 1980-01-02   575.5   562.50   577.0   558.00\n",
       "9768 1979-12-31   533.6   527.88   534.5   527.88\n",
       "9769 1979-12-28   517.8   516.00   517.8   510.40\n",
       "9770 1979-12-27   515.5   517.00   517.0   513.00\n",
       "\n",
       "[9771 rows x 5 columns]"
      ]
     },
     "execution_count": 257,
     "metadata": {},
     "output_type": "execute_result"
    }
   ],
   "source": [
    "gold"
   ]
  },
  {
   "cell_type": "code",
   "execution_count": 259,
   "id": "8c3eb5a5-d769-4b9e-a1e4-6f2cf83f4876",
   "metadata": {},
   "outputs": [],
   "source": [
    "gold[\"Year\"] = gold[\"Date\"].dt.year"
   ]
  },
  {
   "cell_type": "code",
   "execution_count": 261,
   "id": "dc3abac4-d4f8-45d5-bdec-495ddecb2ada",
   "metadata": {},
   "outputs": [
    {
     "data": {
      "text/html": [
       "<div>\n",
       "<style scoped>\n",
       "    .dataframe tbody tr th:only-of-type {\n",
       "        vertical-align: middle;\n",
       "    }\n",
       "\n",
       "    .dataframe tbody tr th {\n",
       "        vertical-align: top;\n",
       "    }\n",
       "\n",
       "    .dataframe thead th {\n",
       "        text-align: right;\n",
       "    }\n",
       "</style>\n",
       "<table border=\"1\" class=\"dataframe\">\n",
       "  <thead>\n",
       "    <tr style=\"text-align: right;\">\n",
       "      <th></th>\n",
       "      <th>Date</th>\n",
       "      <th>Price</th>\n",
       "      <th>Open</th>\n",
       "      <th>High</th>\n",
       "      <th>Low</th>\n",
       "      <th>Year</th>\n",
       "    </tr>\n",
       "  </thead>\n",
       "  <tbody>\n",
       "    <tr>\n",
       "      <th>0</th>\n",
       "      <td>2018-08-01</td>\n",
       "      <td>1216.6</td>\n",
       "      <td>1223.40</td>\n",
       "      <td>1223.4</td>\n",
       "      <td>1216.20</td>\n",
       "      <td>2018</td>\n",
       "    </tr>\n",
       "    <tr>\n",
       "      <th>1</th>\n",
       "      <td>2018-07-31</td>\n",
       "      <td>1223.7</td>\n",
       "      <td>1220.40</td>\n",
       "      <td>1228.1</td>\n",
       "      <td>1213.00</td>\n",
       "      <td>2018</td>\n",
       "    </tr>\n",
       "    <tr>\n",
       "      <th>2</th>\n",
       "      <td>2018-07-30</td>\n",
       "      <td>1221.3</td>\n",
       "      <td>1222.50</td>\n",
       "      <td>1223.9</td>\n",
       "      <td>1218.10</td>\n",
       "      <td>2018</td>\n",
       "    </tr>\n",
       "    <tr>\n",
       "      <th>3</th>\n",
       "      <td>2018-07-27</td>\n",
       "      <td>1222.2</td>\n",
       "      <td>1223.50</td>\n",
       "      <td>1226.8</td>\n",
       "      <td>1216.70</td>\n",
       "      <td>2018</td>\n",
       "    </tr>\n",
       "    <tr>\n",
       "      <th>4</th>\n",
       "      <td>2018-07-26</td>\n",
       "      <td>1225.3</td>\n",
       "      <td>1227.80</td>\n",
       "      <td>1227.8</td>\n",
       "      <td>1227.80</td>\n",
       "      <td>2018</td>\n",
       "    </tr>\n",
       "    <tr>\n",
       "      <th>...</th>\n",
       "      <td>...</td>\n",
       "      <td>...</td>\n",
       "      <td>...</td>\n",
       "      <td>...</td>\n",
       "      <td>...</td>\n",
       "      <td>...</td>\n",
       "    </tr>\n",
       "    <tr>\n",
       "      <th>9766</th>\n",
       "      <td>1980-01-03</td>\n",
       "      <td>625.0</td>\n",
       "      <td>627.00</td>\n",
       "      <td>640.0</td>\n",
       "      <td>603.00</td>\n",
       "      <td>1980</td>\n",
       "    </tr>\n",
       "    <tr>\n",
       "      <th>9767</th>\n",
       "      <td>1980-01-02</td>\n",
       "      <td>575.5</td>\n",
       "      <td>562.50</td>\n",
       "      <td>577.0</td>\n",
       "      <td>558.00</td>\n",
       "      <td>1980</td>\n",
       "    </tr>\n",
       "    <tr>\n",
       "      <th>9768</th>\n",
       "      <td>1979-12-31</td>\n",
       "      <td>533.6</td>\n",
       "      <td>527.88</td>\n",
       "      <td>534.5</td>\n",
       "      <td>527.88</td>\n",
       "      <td>1979</td>\n",
       "    </tr>\n",
       "    <tr>\n",
       "      <th>9769</th>\n",
       "      <td>1979-12-28</td>\n",
       "      <td>517.8</td>\n",
       "      <td>516.00</td>\n",
       "      <td>517.8</td>\n",
       "      <td>510.40</td>\n",
       "      <td>1979</td>\n",
       "    </tr>\n",
       "    <tr>\n",
       "      <th>9770</th>\n",
       "      <td>1979-12-27</td>\n",
       "      <td>515.5</td>\n",
       "      <td>517.00</td>\n",
       "      <td>517.0</td>\n",
       "      <td>513.00</td>\n",
       "      <td>1979</td>\n",
       "    </tr>\n",
       "  </tbody>\n",
       "</table>\n",
       "<p>9771 rows × 6 columns</p>\n",
       "</div>"
      ],
      "text/plain": [
       "           Date   Price     Open    High      Low  Year\n",
       "0    2018-08-01  1216.6  1223.40  1223.4  1216.20  2018\n",
       "1    2018-07-31  1223.7  1220.40  1228.1  1213.00  2018\n",
       "2    2018-07-30  1221.3  1222.50  1223.9  1218.10  2018\n",
       "3    2018-07-27  1222.2  1223.50  1226.8  1216.70  2018\n",
       "4    2018-07-26  1225.3  1227.80  1227.8  1227.80  2018\n",
       "...         ...     ...      ...     ...      ...   ...\n",
       "9766 1980-01-03   625.0   627.00   640.0   603.00  1980\n",
       "9767 1980-01-02   575.5   562.50   577.0   558.00  1980\n",
       "9768 1979-12-31   533.6   527.88   534.5   527.88  1979\n",
       "9769 1979-12-28   517.8   516.00   517.8   510.40  1979\n",
       "9770 1979-12-27   515.5   517.00   517.0   513.00  1979\n",
       "\n",
       "[9771 rows x 6 columns]"
      ]
     },
     "execution_count": 261,
     "metadata": {},
     "output_type": "execute_result"
    }
   ],
   "source": [
    "gold"
   ]
  },
  {
   "cell_type": "code",
   "execution_count": 263,
   "id": "adbaad7b-0b8a-4ae9-a430-0c7d7765d8c6",
   "metadata": {},
   "outputs": [
    {
     "data": {
      "text/plain": [
       "Year\n",
       "1979     522.300000\n",
       "1980     611.959921\n",
       "1981     458.490514\n",
       "1982     375.563745\n",
       "1983     423.452964\n",
       "1984     360.656522\n",
       "1985     317.517460\n",
       "1986     368.330677\n",
       "1987     447.056522\n",
       "1988     437.059524\n",
       "1989     382.072222\n",
       "1990     383.798016\n",
       "1991     362.462698\n",
       "1992     343.773333\n",
       "1993     360.171260\n",
       "1994     384.077689\n",
       "1995     384.484585\n",
       "1996     387.891304\n",
       "1997     331.435317\n",
       "1998     294.214343\n",
       "1999     278.890000\n",
       "2000     278.885141\n",
       "2001     271.068826\n",
       "2002     310.479032\n",
       "2003     363.620884\n",
       "2004     409.579839\n",
       "2005     445.112749\n",
       "2006     603.977381\n",
       "2007     697.005159\n",
       "2008     870.982609\n",
       "2009     974.149206\n",
       "2010    1227.501984\n",
       "2011    1572.135714\n",
       "2012    1669.157143\n",
       "2013    1407.275781\n",
       "2014    1265.730534\n",
       "2015    1160.310227\n",
       "2016    1248.176604\n",
       "2017    1257.635303\n",
       "2018    1305.352258\n",
       "Name: Price, dtype: float64"
      ]
     },
     "execution_count": 263,
     "metadata": {},
     "output_type": "execute_result"
    }
   ],
   "source": [
    "# Determinar el promedio de precios por año\n",
    "\n",
    "gold.groupby(\"Year\")[\"Price\"].mean()"
   ]
  },
  {
   "cell_type": "code",
   "execution_count": 265,
   "id": "f8e1ef86-183b-4d18-af50-90ea71282c49",
   "metadata": {},
   "outputs": [
    {
     "data": {
      "text/plain": [
       "Year\n",
       "1979     522.300000\n",
       "1980     611.959921\n",
       "1981     458.490514\n",
       "1982     375.563745\n",
       "1983     423.452964\n",
       "1984     360.656522\n",
       "1985     317.517460\n",
       "1986     368.330677\n",
       "1987     447.056522\n",
       "1988     437.059524\n",
       "1989     382.072222\n",
       "1990     383.798016\n",
       "1991     362.462698\n",
       "1992     343.773333\n",
       "1993     360.171260\n",
       "1994     384.077689\n",
       "1995     384.484585\n",
       "1996     387.891304\n",
       "1997     331.435317\n",
       "1998     294.214343\n",
       "1999     278.890000\n",
       "2000     278.885141\n",
       "2001     271.068826\n",
       "2002     310.479032\n",
       "2003     363.620884\n",
       "2004     409.579839\n",
       "2005     445.112749\n",
       "2006     603.977381\n",
       "2007     697.005159\n",
       "2008     870.982609\n",
       "2009     974.149206\n",
       "2010    1227.501984\n",
       "2011    1572.135714\n",
       "2012    1669.157143\n",
       "2013    1407.275781\n",
       "2014    1265.730534\n",
       "2015    1160.310227\n",
       "2016    1248.176604\n",
       "2017    1257.635303\n",
       "2018    1305.352258\n",
       "Name: Price, dtype: float64"
      ]
     },
     "execution_count": 265,
     "metadata": {},
     "output_type": "execute_result"
    }
   ],
   "source": [
    "gold.groupby(\"Year\").Price.mean()"
   ]
  },
  {
   "cell_type": "code",
   "execution_count": 273,
   "id": "5c6ab4d0-73b7-40f9-9cc9-7bd218290a89",
   "metadata": {},
   "outputs": [
    {
     "data": {
      "text/html": [
       "<div>\n",
       "<style scoped>\n",
       "    .dataframe tbody tr th:only-of-type {\n",
       "        vertical-align: middle;\n",
       "    }\n",
       "\n",
       "    .dataframe tbody tr th {\n",
       "        vertical-align: top;\n",
       "    }\n",
       "\n",
       "    .dataframe thead th {\n",
       "        text-align: right;\n",
       "    }\n",
       "</style>\n",
       "<table border=\"1\" class=\"dataframe\">\n",
       "  <thead>\n",
       "    <tr style=\"text-align: right;\">\n",
       "      <th></th>\n",
       "      <th>Price</th>\n",
       "      <th>Open</th>\n",
       "    </tr>\n",
       "    <tr>\n",
       "      <th>Year</th>\n",
       "      <th></th>\n",
       "      <th></th>\n",
       "    </tr>\n",
       "  </thead>\n",
       "  <tbody>\n",
       "    <tr>\n",
       "      <th>1979</th>\n",
       "      <td>522.300000</td>\n",
       "      <td>520.293333</td>\n",
       "    </tr>\n",
       "    <tr>\n",
       "      <th>1980</th>\n",
       "      <td>611.959921</td>\n",
       "      <td>613.400397</td>\n",
       "    </tr>\n",
       "    <tr>\n",
       "      <th>1981</th>\n",
       "      <td>458.490514</td>\n",
       "      <td>459.038735</td>\n",
       "    </tr>\n",
       "    <tr>\n",
       "      <th>1982</th>\n",
       "      <td>375.563745</td>\n",
       "      <td>375.357769</td>\n",
       "    </tr>\n",
       "    <tr>\n",
       "      <th>1983</th>\n",
       "      <td>423.452964</td>\n",
       "      <td>423.716601</td>\n",
       "    </tr>\n",
       "    <tr>\n",
       "      <th>1984</th>\n",
       "      <td>360.656522</td>\n",
       "      <td>360.593676</td>\n",
       "    </tr>\n",
       "    <tr>\n",
       "      <th>1985</th>\n",
       "      <td>317.517460</td>\n",
       "      <td>317.451984</td>\n",
       "    </tr>\n",
       "    <tr>\n",
       "      <th>1986</th>\n",
       "      <td>368.330677</td>\n",
       "      <td>368.270518</td>\n",
       "    </tr>\n",
       "    <tr>\n",
       "      <th>1987</th>\n",
       "      <td>447.056522</td>\n",
       "      <td>447.150988</td>\n",
       "    </tr>\n",
       "    <tr>\n",
       "      <th>1988</th>\n",
       "      <td>437.059524</td>\n",
       "      <td>437.184127</td>\n",
       "    </tr>\n",
       "    <tr>\n",
       "      <th>1989</th>\n",
       "      <td>382.072222</td>\n",
       "      <td>381.876984</td>\n",
       "    </tr>\n",
       "    <tr>\n",
       "      <th>1990</th>\n",
       "      <td>383.798016</td>\n",
       "      <td>383.827778</td>\n",
       "    </tr>\n",
       "    <tr>\n",
       "      <th>1991</th>\n",
       "      <td>362.462698</td>\n",
       "      <td>362.802778</td>\n",
       "    </tr>\n",
       "    <tr>\n",
       "      <th>1992</th>\n",
       "      <td>343.773333</td>\n",
       "      <td>343.874510</td>\n",
       "    </tr>\n",
       "    <tr>\n",
       "      <th>1993</th>\n",
       "      <td>360.171260</td>\n",
       "      <td>360.271260</td>\n",
       "    </tr>\n",
       "    <tr>\n",
       "      <th>1994</th>\n",
       "      <td>384.077689</td>\n",
       "      <td>384.259363</td>\n",
       "    </tr>\n",
       "    <tr>\n",
       "      <th>1995</th>\n",
       "      <td>384.484585</td>\n",
       "      <td>384.553360</td>\n",
       "    </tr>\n",
       "    <tr>\n",
       "      <th>1996</th>\n",
       "      <td>387.891304</td>\n",
       "      <td>387.987352</td>\n",
       "    </tr>\n",
       "    <tr>\n",
       "      <th>1997</th>\n",
       "      <td>331.435317</td>\n",
       "      <td>331.612302</td>\n",
       "    </tr>\n",
       "    <tr>\n",
       "      <th>1998</th>\n",
       "      <td>294.214343</td>\n",
       "      <td>294.321116</td>\n",
       "    </tr>\n",
       "    <tr>\n",
       "      <th>1999</th>\n",
       "      <td>278.890000</td>\n",
       "      <td>279.009600</td>\n",
       "    </tr>\n",
       "    <tr>\n",
       "      <th>2000</th>\n",
       "      <td>278.885141</td>\n",
       "      <td>278.853012</td>\n",
       "    </tr>\n",
       "    <tr>\n",
       "      <th>2001</th>\n",
       "      <td>271.068826</td>\n",
       "      <td>270.969231</td>\n",
       "    </tr>\n",
       "    <tr>\n",
       "      <th>2002</th>\n",
       "      <td>310.479032</td>\n",
       "      <td>310.312903</td>\n",
       "    </tr>\n",
       "    <tr>\n",
       "      <th>2003</th>\n",
       "      <td>363.620884</td>\n",
       "      <td>363.479518</td>\n",
       "    </tr>\n",
       "    <tr>\n",
       "      <th>2004</th>\n",
       "      <td>409.579839</td>\n",
       "      <td>409.645565</td>\n",
       "    </tr>\n",
       "    <tr>\n",
       "      <th>2005</th>\n",
       "      <td>445.112749</td>\n",
       "      <td>444.941434</td>\n",
       "    </tr>\n",
       "    <tr>\n",
       "      <th>2006</th>\n",
       "      <td>603.977381</td>\n",
       "      <td>604.033730</td>\n",
       "    </tr>\n",
       "    <tr>\n",
       "      <th>2007</th>\n",
       "      <td>697.005159</td>\n",
       "      <td>696.696032</td>\n",
       "    </tr>\n",
       "    <tr>\n",
       "      <th>2008</th>\n",
       "      <td>870.982609</td>\n",
       "      <td>872.144269</td>\n",
       "    </tr>\n",
       "    <tr>\n",
       "      <th>2009</th>\n",
       "      <td>974.149206</td>\n",
       "      <td>974.072222</td>\n",
       "    </tr>\n",
       "    <tr>\n",
       "      <th>2010</th>\n",
       "      <td>1227.501984</td>\n",
       "      <td>1226.680159</td>\n",
       "    </tr>\n",
       "    <tr>\n",
       "      <th>2011</th>\n",
       "      <td>1572.135714</td>\n",
       "      <td>1572.915476</td>\n",
       "    </tr>\n",
       "    <tr>\n",
       "      <th>2012</th>\n",
       "      <td>1669.157143</td>\n",
       "      <td>1668.988889</td>\n",
       "    </tr>\n",
       "    <tr>\n",
       "      <th>2013</th>\n",
       "      <td>1407.275781</td>\n",
       "      <td>1409.304297</td>\n",
       "    </tr>\n",
       "    <tr>\n",
       "      <th>2014</th>\n",
       "      <td>1265.730534</td>\n",
       "      <td>1265.525954</td>\n",
       "    </tr>\n",
       "    <tr>\n",
       "      <th>2015</th>\n",
       "      <td>1160.310227</td>\n",
       "      <td>1160.870076</td>\n",
       "    </tr>\n",
       "    <tr>\n",
       "      <th>2016</th>\n",
       "      <td>1248.176604</td>\n",
       "      <td>1248.005660</td>\n",
       "    </tr>\n",
       "    <tr>\n",
       "      <th>2017</th>\n",
       "      <td>1257.635303</td>\n",
       "      <td>1257.263333</td>\n",
       "    </tr>\n",
       "    <tr>\n",
       "      <th>2018</th>\n",
       "      <td>1305.352258</td>\n",
       "      <td>1305.656774</td>\n",
       "    </tr>\n",
       "  </tbody>\n",
       "</table>\n",
       "</div>"
      ],
      "text/plain": [
       "            Price         Open\n",
       "Year                          \n",
       "1979   522.300000   520.293333\n",
       "1980   611.959921   613.400397\n",
       "1981   458.490514   459.038735\n",
       "1982   375.563745   375.357769\n",
       "1983   423.452964   423.716601\n",
       "1984   360.656522   360.593676\n",
       "1985   317.517460   317.451984\n",
       "1986   368.330677   368.270518\n",
       "1987   447.056522   447.150988\n",
       "1988   437.059524   437.184127\n",
       "1989   382.072222   381.876984\n",
       "1990   383.798016   383.827778\n",
       "1991   362.462698   362.802778\n",
       "1992   343.773333   343.874510\n",
       "1993   360.171260   360.271260\n",
       "1994   384.077689   384.259363\n",
       "1995   384.484585   384.553360\n",
       "1996   387.891304   387.987352\n",
       "1997   331.435317   331.612302\n",
       "1998   294.214343   294.321116\n",
       "1999   278.890000   279.009600\n",
       "2000   278.885141   278.853012\n",
       "2001   271.068826   270.969231\n",
       "2002   310.479032   310.312903\n",
       "2003   363.620884   363.479518\n",
       "2004   409.579839   409.645565\n",
       "2005   445.112749   444.941434\n",
       "2006   603.977381   604.033730\n",
       "2007   697.005159   696.696032\n",
       "2008   870.982609   872.144269\n",
       "2009   974.149206   974.072222\n",
       "2010  1227.501984  1226.680159\n",
       "2011  1572.135714  1572.915476\n",
       "2012  1669.157143  1668.988889\n",
       "2013  1407.275781  1409.304297\n",
       "2014  1265.730534  1265.525954\n",
       "2015  1160.310227  1160.870076\n",
       "2016  1248.176604  1248.005660\n",
       "2017  1257.635303  1257.263333\n",
       "2018  1305.352258  1305.656774"
      ]
     },
     "execution_count": 273,
     "metadata": {},
     "output_type": "execute_result"
    }
   ],
   "source": [
    "gold[[\"Year\", \"Price\", \"Open\"]].groupby(\"Year\").mean()"
   ]
  },
  {
   "cell_type": "code",
   "execution_count": 277,
   "id": "817d0d92-1f3a-4473-9ca1-1ce4ae0ccad7",
   "metadata": {},
   "outputs": [
    {
     "data": {
      "text/plain": [
       "<Axes: ylabel='Year'>"
      ]
     },
     "execution_count": 277,
     "metadata": {},
     "output_type": "execute_result"
    },
    {
     "data": {
      "image/png": "[encoded data removed]",
      "text/plain": [
       "<Figure size 640x480 with 1 Axes>"
      ]
     },
     "metadata": {},
     "output_type": "display_data"
    }
   ],
   "source": [
    "gold[[\"Year\", \"Price\"]].groupby(\"Year\").mean().plot.barh()"
   ]
  },
  {
   "cell_type": "code",
   "execution_count": 287,
   "id": "3564a827-7778-41d5-9545-e075baaffdb0",
   "metadata": {},
   "outputs": [
    {
     "name": "stderr",
     "output_type": "stream",
     "text": [
      "C:\\Users\\Norman Beltran\\AppData\\Local\\Temp\\ipykernel_2548\\1289958542.py:4: FutureWarning: Calling float on a single element Series is deprecated and will raise a TypeError in the future. Use float(ser.iloc[0]) instead\n",
      "  prom_max = float(gold[[\"Year\", \"Price\"]].groupby(\"Year\").mean().max())\n",
      "C:\\Users\\Norman Beltran\\AppData\\Local\\Temp\\ipykernel_2548\\1289958542.py:5: FutureWarning: Calling int on a single element Series is deprecated and will raise a TypeError in the future. Use int(ser.iloc[0]) instead\n",
      "  anio_max = int(gold[[\"Year\", \"Price\"]].groupby(\"Year\").mean().idxmax())\n",
      "C:\\Users\\Norman Beltran\\AppData\\Local\\Temp\\ipykernel_2548\\1289958542.py:6: FutureWarning: Calling float on a single element Series is deprecated and will raise a TypeError in the future. Use float(ser.iloc[0]) instead\n",
      "  prom_min = float(gold[[\"Year\", \"Price\"]].groupby(\"Year\").mean().min())\n",
      "C:\\Users\\Norman Beltran\\AppData\\Local\\Temp\\ipykernel_2548\\1289958542.py:7: FutureWarning: Calling int on a single element Series is deprecated and will raise a TypeError in the future. Use int(ser.iloc[0]) instead\n",
      "  anio_min = int(gold[[\"Year\", \"Price\"]].groupby(\"Year\").mean().idxmin())\n"
     ]
    }
   ],
   "source": [
    "# Calcular el año con myor promedio y con menor promedio\n",
    "\n",
    "\n",
    "prom_max = float(gold[[\"Year\", \"Price\"]].groupby(\"Year\").mean().max())\n",
    "anio_max = int(gold[[\"Year\", \"Price\"]].groupby(\"Year\").mean().idxmax())\n",
    "prom_min = float(gold[[\"Year\", \"Price\"]].groupby(\"Year\").mean().min())\n",
    "anio_min = int(gold[[\"Year\", \"Price\"]].groupby(\"Year\").mean().idxmin())"
   ]
  },
  {
   "cell_type": "code",
   "execution_count": 289,
   "id": "9b7dff97-f7a1-4b52-aa9f-7211fa1b4c41",
   "metadata": {},
   "outputs": [
    {
     "name": "stdout",
     "output_type": "stream",
     "text": [
      "Mayor promedio fue 1669.1571428571428 2012\n",
      "Menor promedio fue 271.0688259109312 2001\n"
     ]
    }
   ],
   "source": [
    "print(f\"Mayor promedio fue {prom_max} {anio_max}\")\n",
    "print(f\"Menor promedio fue {prom_min} {anio_min}\")"
   ]
  },
  {
   "cell_type": "code",
   "execution_count": null,
   "id": "9c9e468f-2f3e-4ba7-a69b-5688a3d61b8d",
   "metadata": {},
   "outputs": [],
   "source": []
  }
 ],
 "metadata": {
  "kernelspec": {
   "display_name": "Python [conda env:base] *",
   "language": "python",
   "name": "conda-base-py"
  },
  "language_info": {
   "codemirror_mode": {
    "name": "ipython",
    "version": 3
   },
   "file_extension": ".py",
   "mimetype": "text/x-python",
   "name": "python",
   "nbconvert_exporter": "python",
   "pygments_lexer": "ipython3",
   "version": "3.12.7"
  }
 },
 "nbformat": 4,
 "nbformat_minor": 5
}
